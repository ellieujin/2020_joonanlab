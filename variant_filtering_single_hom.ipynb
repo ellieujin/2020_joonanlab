{
 "cells": [
  {
   "cell_type": "markdown",
   "metadata": {},
   "source": [
    "# Variants filtering"
   ]
  },
  {
   "cell_type": "markdown",
   "metadata": {},
   "source": [
    "### 0. import data"
   ]
  },
  {
   "cell_type": "code",
   "execution_count": 1,
   "metadata": {},
   "outputs": [],
   "source": [
    "import hail as hl"
   ]
  },
  {
   "cell_type": "code",
   "execution_count": 2,
   "metadata": {},
   "outputs": [
    {
     "name": "stderr",
     "output_type": "stream",
     "text": [
      "Initializing Hail with default parameters...\n",
      "Running on Apache Spark version 2.4.1\n",
      "SparkUI available at http://163.152.180.157:4043\n",
      "Welcome to\n",
      "     __  __     <>__\n",
      "    / /_/ /__  __/ /\n",
      "   / __  / _ `/ / /\n",
      "  /_/ /_/\\_,_/_/_/   version 0.2.49-11ae8408bad0\n",
      "LOGGING: writing to /home/titan/Hail/UDP/hail-20200717-1724-0.2.49-11ae8408bad0.log\n"
     ]
    }
   ],
   "source": [
    "mt= hl.import_vcf('/titan2/UDP_SV/temp_single_hom_5.vcf', reference_genome='GRCh38')"
   ]
  },
  {
   "cell_type": "code",
   "execution_count": 3,
   "metadata": {},
   "outputs": [
    {
     "name": "stdout",
     "output_type": "stream",
     "text": [
      "['Allele', 'Consequence', 'IMPACT', 'SYMBOL', 'Gene', 'Feature_type', 'Feature', 'BIOTYPE', 'EXON', 'INTRON', 'HGVSc', 'HGVSp', 'cDNA_position', 'CDS_position', 'Protein_position', 'Amino_acids', 'Codons', 'Existing_variation', 'DISTANCE', 'STRAND', 'FLAGS', 'VARIANT_CLASS', 'SYMBOL_SOURCE', 'HGNC_ID', 'CANONICAL', 'MANE', 'TSL', 'APPRIS', 'CCDS', 'ENSP', 'SWISSPROT', 'TREMBL', 'UNIPARC', 'SOURCE', 'GENE_PHENO', 'NEAREST', 'SIFT', 'PolyPhen', 'DOMAINS', 'miRNA', 'HGVS_OFFSET', 'AF', 'AFR_AF', 'AMR_AF', 'EAS_AF', 'EUR_AF', 'SAS_AF', 'AA_AF', 'EA_AF', 'gnomAD_AF', 'gnomAD_AFR_AF', 'gnomAD_AMR_AF', 'gnomAD_ASJ_AF', 'gnomAD_EAS_AF', 'gnomAD_FIN_AF', 'gnomAD_NFE_AF', 'gnomAD_OTH_AF', 'gnomAD_SAS_AF', 'MAX_AF', 'MAX_AF_POPS', 'CLIN_SIG', 'SOMATIC', 'PHENO', 'PUBMED', 'MOTIF_NAME', 'MOTIF_POS', 'HIGH_INF_POS', 'MOTIF_SCORE_CHANGE', 'SV_overlap_AF', 'SV_overlap_PC', 'SV_overlap_name', 'gnomADg', 'gnomADg_AF']\n",
      "73\n"
     ]
    }
   ],
   "source": [
    "import gzip\n",
    "with open('/titan2/UDP_SV/temp_single_hom_5.vcf', 'rt') as f:\n",
    "    for l in f:\n",
    "        if 'ID=CSQ' in l:\n",
    "            temp = l.strip('\\n').split('|')\n",
    "            break\n",
    "\n",
    "temp[0] = 'Allele';temp[72] = 'gnomADg_AF'\n",
    "\n",
    "print(temp)\n",
    "print(len(temp))\n",
    "#print(temp.index('Consequence'))"
   ]
  },
  {
   "cell_type": "markdown",
   "metadata": {},
   "source": [
    "### 1. Variant filtering\n",
    "> - `filter == PASS`인 variant만 남기기\n",
    "> - multi allelic 확인 및 제외\n",
    "> - LCR(low complexity region) 제외\n",
    "> - gnomad filtering\n",
    "> - ~AC ==1/2(hom)~"
   ]
  },
  {
   "cell_type": "code",
   "execution_count": 4,
   "metadata": {},
   "outputs": [],
   "source": [
    "##  `filter == PASS`인 variant만 남기기 \n",
    "mt = mt.filter_rows(hl.len(mt.filters) == 0)\n",
    "\n",
    "## multi allelic 제외\n",
    "mt = hl.split_multi(mt)\n",
    "mt = mt.filter_rows(mt.was_split == False)\n",
    "\n",
    "## gnomad filtering\n",
    "mt = mt.annotate_rows(csq = mt.info.CSQ)\n",
    "mt = mt.transmute_rows(csq_gnomADg_AF = mt.csq.map(lambda x: x.split('\\|')[72]))\n",
    "mt = mt.transmute_rows(csq_gnomADg_AF = mt.csq_gnomADg_AF.map(lambda x:hl.cond(x=='',0,hl.float(x))))\n",
    "mt = mt.filter_rows(mt.csq_gnomADg_AF.all(lambda x: hl.float(x) < 0.001))"
   ]
  },
  {
   "cell_type": "code",
   "execution_count": 5,
   "metadata": {},
   "outputs": [
    {
     "name": "stderr",
     "output_type": "stream",
     "text": [
      "2020-07-17 17:25:09 Hail: INFO: Coerced sorted dataset\n",
      "2020-07-17 17:25:09 Hail: INFO: Coerced sorted dataset\n"
     ]
    },
    {
     "data": {
      "text/plain": [
       "(69, 1)"
      ]
     },
     "execution_count": 5,
     "metadata": {},
     "output_type": "execute_result"
    }
   ],
   "source": [
    "mt.count()"
   ]
  },
  {
   "cell_type": "markdown",
   "metadata": {},
   "source": [
    "---"
   ]
  },
  {
   "cell_type": "code",
   "execution_count": 7,
   "metadata": {},
   "outputs": [],
   "source": [
    "## fam, role annotation\n",
    "mt = mt.annotate_cols(fam = mt.s.split('\\-')[0], role = mt.s.split('\\-')[1])"
   ]
  },
  {
   "cell_type": "markdown",
   "metadata": {},
   "source": [
    "---"
   ]
  },
  {
   "cell_type": "markdown",
   "metadata": {},
   "source": [
    "# UDP Proband"
   ]
  },
  {
   "cell_type": "code",
   "execution_count": 8,
   "metadata": {},
   "outputs": [],
   "source": [
    "mt_proband = mt.filter_cols(~((mt.s =='wgs_3-2') | (mt.s =='wgs_3-3') | (mt.s =='wgs_8-2') | (mt.s =='wgs_8-3')))"
   ]
  },
  {
   "cell_type": "code",
   "execution_count": 9,
   "metadata": {},
   "outputs": [
    {
     "name": "stderr",
     "output_type": "stream",
     "text": [
      "2020-07-13 16:51:27 Hail: INFO: Ordering unsorted dataset with network shuffle\n",
      "2020-07-13 16:51:28 Hail: INFO: Ordering unsorted dataset with network shuffle\n",
      "2020-07-13 16:51:28 Hail: INFO: Coerced sorted dataset\n",
      "2020-07-13 16:51:29 Hail: INFO: wrote matrix table with 306 rows and 5 columns in 2 partitions to temp_proband_hom.mt\n"
     ]
    }
   ],
   "source": [
    "mt_proband.write('temp_proband_hom.mt', overwrite=True)"
   ]
  },
  {
   "cell_type": "code",
   "execution_count": 10,
   "metadata": {},
   "outputs": [],
   "source": [
    "mt_proband = hl.read_matrix_table('temp_proband_hom.mt')"
   ]
  },
  {
   "cell_type": "code",
   "execution_count": 11,
   "metadata": {},
   "outputs": [
    {
     "name": "stdout",
     "output_type": "stream",
     "text": [
      "----------------------------------------\n",
      "Global fields:\n",
      "    None\n",
      "----------------------------------------\n",
      "Column fields:\n",
      "    's': str\n",
      "    'fam': str\n",
      "    'role': str\n",
      "----------------------------------------\n",
      "Row fields:\n",
      "    'locus': locus<GRCh38>\n",
      "    'alleles': array<str>\n",
      "    'rsid': str\n",
      "    'qual': float64\n",
      "    'filters': set<str>\n",
      "    'info': struct {\n",
      "        CIEND: array<str>, \n",
      "        CIPOS: array<str>, \n",
      "        CHR2: str, \n",
      "        END: int32, \n",
      "        MAPQ: int32, \n",
      "        RE: int32, \n",
      "        IMPRECISE: bool, \n",
      "        PRECISE: bool, \n",
      "        SVLEN: int32, \n",
      "        SVMETHOD: str, \n",
      "        SVTYPE: str, \n",
      "        SUPP_VEC: str, \n",
      "        SUPP: str, \n",
      "        STRANDS: str, \n",
      "        CSQ: array<str>, \n",
      "        gnomADg: array<str>, \n",
      "        gnomADg_AF: array<str>\n",
      "    }\n",
      "    'a_index': int32\n",
      "    'was_split': bool\n",
      "    'old_locus': locus<GRCh38>\n",
      "    'old_alleles': array<str>\n",
      "    'csq_gnomADg_AF': array<float64>\n",
      "----------------------------------------\n",
      "Entry fields:\n",
      "    'GT': call\n",
      "    'PSV': str\n",
      "    'LN': int32\n",
      "    'DR': array<int32>\n",
      "    'ST': str\n",
      "    'QV': str\n",
      "    'TY': str\n",
      "    'ID': str\n",
      "    'RAL': str\n",
      "    'AAL': str\n",
      "    'CO': str\n",
      "----------------------------------------\n",
      "Column key: ['s']\n",
      "Row key: ['locus', 'alleles']\n",
      "----------------------------------------\n"
     ]
    }
   ],
   "source": [
    "mt_proband.describe()"
   ]
  },
  {
   "cell_type": "code",
   "execution_count": 6,
   "metadata": {},
   "outputs": [
    {
     "name": "stderr",
     "output_type": "stream",
     "text": [
      "2020-07-17 17:25:28 Hail: WARN: entries(): Resulting entries table is sorted by '(row_key, col_key)'.\n",
      "    To preserve row-major matrix table order, first unkey columns with 'key_cols_by()'\n"
     ]
    }
   ],
   "source": [
    "tb = mt.entries()\n",
    "tb = tb.key_by(tb.locus,tb.alleles,tb.s)"
   ]
  },
  {
   "cell_type": "markdown",
   "metadata": {},
   "source": [
    "### 3. HQ het filtering"
   ]
  },
  {
   "cell_type": "code",
   "execution_count": 9,
   "metadata": {},
   "outputs": [],
   "source": [
    "##필터링 예시 남겨둠\n",
    "mt_snv_het_HQ = mt_snv_p.filter_rows((mt_snv_p.info.QD>=3) &\n",
    "                                   (mt_snv_p.info.SOR<=2.5) &\n",
    "                                   (mt_snv_p.info.ReadPosRankSum>=-1.4) &\n",
    "                                   (mt_snv_p.variant_qc.gq_stats.mean>=50)&\n",
    "                                   (mt_snv_p.info.MQRankSum>=-1.7))\n",
    "mt_snv_het_HQ = mt_snv_het_HQ.annotate_entries(AB=hl.cond(mt_snv_het_HQ.GT.is_het(),\n",
    "                                                          hl.min(mt_snv_het_HQ.AD.map(lambda x: x/mt_snv_het_HQ.DP)),0))\n",
    "mt_snv_het_HQ = mt_snv_het_HQ.filter_entries((mt_snv_het_HQ.GT.is_het())&\n",
    "                                             (mt_snv_het_HQ.GQ>=99)&\n",
    "                                             (mt_snv_het_HQ.DP>=10)&\n",
    "                                             (mt_snv_het_HQ.AB>=0.24)&\n",
    "                                             (mt_snv_het_HQ.AB<=0.76))\n",
    "mt_snv_het_HQ = hl.sample_qc(mt_snv_het_HQ)"
   ]
  },
  {
   "cell_type": "markdown",
   "metadata": {},
   "source": [
    "---"
   ]
  },
  {
   "cell_type": "markdown",
   "metadata": {},
   "source": [
    "### 4. Export data + CSQ annotation\n"
   ]
  },
  {
   "cell_type": "markdown",
   "metadata": {},
   "source": [
    "(CSQ 전체)"
   ]
  },
  {
   "cell_type": "code",
   "execution_count": 7,
   "metadata": {},
   "outputs": [],
   "source": [
    "def CSQ(table):\n",
    "    t = table\n",
    "    t = t.annotate(v1 = hl.tuple([t.locus.contig.replace(\"chr\", \"\"),hl.str(t.locus.position)]),\n",
    "                   v2 = hl.tuple([t.alleles[0],t.alleles[1]]))\n",
    "    t = t.transmute(variant = hl.delimit(hl.array([t.v1[0],t.v1[1],t.v2[0],t.v2[1]]), \":\"))\n",
    "    t = t.annotate(CSQ= t.info.CSQ).explode('CSQ')\n",
    "    t = t.transmute(csq = t.CSQ.split('\\|')).explode('csq')\n",
    "    return t"
   ]
  },
  {
   "cell_type": "code",
   "execution_count": 8,
   "metadata": {},
   "outputs": [],
   "source": [
    "tb = CSQ(tb)"
   ]
  },
  {
   "cell_type": "code",
   "execution_count": 9,
   "metadata": {},
   "outputs": [
    {
     "name": "stderr",
     "output_type": "stream",
     "text": [
      "2020-07-17 17:25:33 Hail: INFO: Coerced sorted dataset\n",
      "2020-07-17 17:25:34 Hail: INFO: Coerced sorted dataset\n",
      "2020-07-17 17:25:34 Hail: INFO: Coerced sorted dataset\n",
      "2020-07-17 17:25:42 Hail: INFO: merging 2 files totalling 856.3M...\n",
      "2020-07-17 17:25:43 Hail: INFO: while writing:\n",
      "    /titan2/UDP_SV/df_csq_single_hom_5.tsv\n",
      "  merge time: 1.283s\n"
     ]
    }
   ],
   "source": [
    "tb.export(\"/titan2/UDP_SV/df_csq_single_hom_5.tsv\")"
   ]
  },
  {
   "cell_type": "code",
   "execution_count": null,
   "metadata": {},
   "outputs": [],
   "source": []
  },
  {
   "cell_type": "code",
   "execution_count": null,
   "metadata": {},
   "outputs": [],
   "source": []
  },
  {
   "cell_type": "code",
   "execution_count": 10,
   "metadata": {},
   "outputs": [],
   "source": [
    "import hail as hl"
   ]
  },
  {
   "cell_type": "code",
   "execution_count": 11,
   "metadata": {},
   "outputs": [],
   "source": [
    "mt= hl.import_vcf('/titan2/UDP_SV/temp_single_hom_9.vcf', reference_genome='GRCh38')"
   ]
  },
  {
   "cell_type": "code",
   "execution_count": 12,
   "metadata": {},
   "outputs": [
    {
     "name": "stdout",
     "output_type": "stream",
     "text": [
      "['Allele', 'Consequence', 'IMPACT', 'SYMBOL', 'Gene', 'Feature_type', 'Feature', 'BIOTYPE', 'EXON', 'INTRON', 'HGVSc', 'HGVSp', 'cDNA_position', 'CDS_position', 'Protein_position', 'Amino_acids', 'Codons', 'Existing_variation', 'DISTANCE', 'STRAND', 'FLAGS', 'VARIANT_CLASS', 'SYMBOL_SOURCE', 'HGNC_ID', 'CANONICAL', 'MANE', 'TSL', 'APPRIS', 'CCDS', 'ENSP', 'SWISSPROT', 'TREMBL', 'UNIPARC', 'SOURCE', 'GENE_PHENO', 'NEAREST', 'SIFT', 'PolyPhen', 'DOMAINS', 'miRNA', 'HGVS_OFFSET', 'AF', 'AFR_AF', 'AMR_AF', 'EAS_AF', 'EUR_AF', 'SAS_AF', 'AA_AF', 'EA_AF', 'gnomAD_AF', 'gnomAD_AFR_AF', 'gnomAD_AMR_AF', 'gnomAD_ASJ_AF', 'gnomAD_EAS_AF', 'gnomAD_FIN_AF', 'gnomAD_NFE_AF', 'gnomAD_OTH_AF', 'gnomAD_SAS_AF', 'MAX_AF', 'MAX_AF_POPS', 'CLIN_SIG', 'SOMATIC', 'PHENO', 'PUBMED', 'MOTIF_NAME', 'MOTIF_POS', 'HIGH_INF_POS', 'MOTIF_SCORE_CHANGE', 'SV_overlap_AF', 'SV_overlap_PC', 'SV_overlap_name', 'gnomADg', 'gnomADg_AF']\n",
      "73\n"
     ]
    }
   ],
   "source": [
    "import gzip\n",
    "with open('/titan2/UDP_SV/temp_single_hom_9.vcf', 'rt') as f:\n",
    "    for l in f:\n",
    "        if 'ID=CSQ' in l:\n",
    "            temp = l.strip('\\n').split('|')\n",
    "            break\n",
    "\n",
    "temp[0] = 'Allele';temp[72] = 'gnomADg_AF'\n",
    "\n",
    "print(temp)\n",
    "print(len(temp))\n",
    "#print(temp.index('Consequence'))"
   ]
  },
  {
   "cell_type": "markdown",
   "metadata": {},
   "source": [
    "### 1. Variant filtering\n",
    "> - `filter == PASS`인 variant만 남기기\n",
    "> - multi allelic 확인 및 제외\n",
    "> - LCR(low complexity region) 제외\n",
    "> - gnomad filtering\n",
    "> - ~AC ==1/2(hom)~"
   ]
  },
  {
   "cell_type": "code",
   "execution_count": 13,
   "metadata": {},
   "outputs": [],
   "source": [
    "##  `filter == PASS`인 variant만 남기기 \n",
    "mt = mt.filter_rows(hl.len(mt.filters) == 0)\n",
    "\n",
    "## multi allelic 제외\n",
    "mt = hl.split_multi(mt)\n",
    "mt = mt.filter_rows(mt.was_split == False)\n",
    "\n",
    "\n",
    "## lcr(low complexity region)제외\n",
    "#lcr_bed = hl.import_bed('../../Resources/lcr/LCR-hs38.bed', reference_genome = 'GRCh38')\n",
    "#mt = mt.filter_rows(~hl.is_defined(lcr_bed[mt.locus]))\n",
    "\n",
    "## gnomad filtering\n",
    "mt = mt.annotate_rows(csq = mt.info.CSQ)\n",
    "mt = mt.transmute_rows(csq_gnomADg_AF = mt.csq.map(lambda x: x.split('\\|')[72]))\n",
    "mt = mt.transmute_rows(csq_gnomADg_AF = mt.csq_gnomADg_AF.map(lambda x:hl.cond(x=='',0,hl.float(x))))\n",
    "mt = mt.filter_rows(mt.csq_gnomADg_AF.all(lambda x: hl.float(x) < 0.001))"
   ]
  },
  {
   "cell_type": "code",
   "execution_count": 14,
   "metadata": {},
   "outputs": [
    {
     "name": "stderr",
     "output_type": "stream",
     "text": [
      "2020-07-17 17:26:22 Hail: INFO: Coerced sorted dataset\n",
      "2020-07-17 17:26:23 Hail: INFO: Coerced sorted dataset\n"
     ]
    },
    {
     "data": {
      "text/plain": [
       "(62, 1)"
      ]
     },
     "execution_count": 14,
     "metadata": {},
     "output_type": "execute_result"
    }
   ],
   "source": [
    "mt.count()"
   ]
  },
  {
   "cell_type": "markdown",
   "metadata": {},
   "source": [
    "---"
   ]
  },
  {
   "cell_type": "code",
   "execution_count": 15,
   "metadata": {},
   "outputs": [],
   "source": [
    "tb = mt.entries()\n",
    "tb = tb.key_by(tb.locus,tb.alleles,tb.s)"
   ]
  },
  {
   "cell_type": "markdown",
   "metadata": {},
   "source": [
    "### 3. HQ het filtering"
   ]
  },
  {
   "cell_type": "code",
   "execution_count": 9,
   "metadata": {},
   "outputs": [],
   "source": [
    "##필터링 예시 남겨둠\n",
    "mt_snv_het_HQ = mt_snv_p.filter_rows((mt_snv_p.info.QD>=3) &\n",
    "                                   (mt_snv_p.info.SOR<=2.5) &\n",
    "                                   (mt_snv_p.info.ReadPosRankSum>=-1.4) &\n",
    "                                   (mt_snv_p.variant_qc.gq_stats.mean>=50)&\n",
    "                                   (mt_snv_p.info.MQRankSum>=-1.7))\n",
    "mt_snv_het_HQ = mt_snv_het_HQ.annotate_entries(AB=hl.cond(mt_snv_het_HQ.GT.is_het(),\n",
    "                                                          hl.min(mt_snv_het_HQ.AD.map(lambda x: x/mt_snv_het_HQ.DP)),0))\n",
    "mt_snv_het_HQ = mt_snv_het_HQ.filter_entries((mt_snv_het_HQ.GT.is_het())&\n",
    "                                             (mt_snv_het_HQ.GQ>=99)&\n",
    "                                             (mt_snv_het_HQ.DP>=10)&\n",
    "                                             (mt_snv_het_HQ.AB>=0.24)&\n",
    "                                             (mt_snv_het_HQ.AB<=0.76))\n",
    "mt_snv_het_HQ = hl.sample_qc(mt_snv_het_HQ)"
   ]
  },
  {
   "cell_type": "markdown",
   "metadata": {},
   "source": [
    "---"
   ]
  },
  {
   "cell_type": "markdown",
   "metadata": {},
   "source": [
    "### 4. Export data + CSQ annotation\n"
   ]
  },
  {
   "cell_type": "markdown",
   "metadata": {},
   "source": [
    "(CSQ 전체)"
   ]
  },
  {
   "cell_type": "code",
   "execution_count": 16,
   "metadata": {},
   "outputs": [],
   "source": [
    "def CSQ(table):\n",
    "    t = table\n",
    "    t = t.annotate(v1 = hl.tuple([t.locus.contig.replace(\"chr\", \"\"),hl.str(t.locus.position)]),\n",
    "                   v2 = hl.tuple([t.alleles[0],t.alleles[1]]))\n",
    "    t = t.transmute(variant = hl.delimit(hl.array([t.v1[0],t.v1[1],t.v2[0],t.v2[1]]), \":\"))\n",
    "    t = t.annotate(CSQ= t.info.CSQ).explode('CSQ')\n",
    "    t = t.transmute(csq = t.CSQ.split('\\|')).explode('csq')\n",
    "    return t"
   ]
  },
  {
   "cell_type": "code",
   "execution_count": 17,
   "metadata": {},
   "outputs": [],
   "source": [
    "tb = CSQ(tb)"
   ]
  },
  {
   "cell_type": "code",
   "execution_count": 18,
   "metadata": {},
   "outputs": [
    {
     "name": "stderr",
     "output_type": "stream",
     "text": [
      "2020-07-17 17:26:30 Hail: INFO: Coerced sorted dataset\n",
      "2020-07-17 17:26:30 Hail: INFO: Coerced sorted dataset\n",
      "2020-07-17 17:26:30 Hail: INFO: Coerced sorted dataset\n",
      "2020-07-17 17:26:36 Hail: INFO: merging 2 files totalling 717.3M...\n",
      "2020-07-17 17:26:37 Hail: INFO: while writing:\n",
      "    /titan2/UDP_SV/df_csq_single_hom_9.tsv\n",
      "  merge time: 1.170s\n"
     ]
    }
   ],
   "source": [
    "tb.export(\"/titan2/UDP_SV/df_csq_single_hom_9.tsv\")"
   ]
  },
  {
   "cell_type": "code",
   "execution_count": null,
   "metadata": {},
   "outputs": [],
   "source": []
  },
  {
   "cell_type": "code",
   "execution_count": null,
   "metadata": {},
   "outputs": [],
   "source": []
  },
  {
   "cell_type": "code",
   "execution_count": 19,
   "metadata": {},
   "outputs": [],
   "source": [
    "import hail as hl"
   ]
  },
  {
   "cell_type": "code",
   "execution_count": 20,
   "metadata": {},
   "outputs": [],
   "source": [
    "mt= hl.import_vcf('/titan2/UDP_SV/temp_single_hom_12.vcf', reference_genome='GRCh38')"
   ]
  },
  {
   "cell_type": "code",
   "execution_count": 21,
   "metadata": {},
   "outputs": [
    {
     "name": "stdout",
     "output_type": "stream",
     "text": [
      "['Allele', 'Consequence', 'IMPACT', 'SYMBOL', 'Gene', 'Feature_type', 'Feature', 'BIOTYPE', 'EXON', 'INTRON', 'HGVSc', 'HGVSp', 'cDNA_position', 'CDS_position', 'Protein_position', 'Amino_acids', 'Codons', 'Existing_variation', 'DISTANCE', 'STRAND', 'FLAGS', 'VARIANT_CLASS', 'SYMBOL_SOURCE', 'HGNC_ID', 'CANONICAL', 'MANE', 'TSL', 'APPRIS', 'CCDS', 'ENSP', 'SWISSPROT', 'TREMBL', 'UNIPARC', 'SOURCE', 'GENE_PHENO', 'NEAREST', 'SIFT', 'PolyPhen', 'DOMAINS', 'miRNA', 'HGVS_OFFSET', 'AF', 'AFR_AF', 'AMR_AF', 'EAS_AF', 'EUR_AF', 'SAS_AF', 'AA_AF', 'EA_AF', 'gnomAD_AF', 'gnomAD_AFR_AF', 'gnomAD_AMR_AF', 'gnomAD_ASJ_AF', 'gnomAD_EAS_AF', 'gnomAD_FIN_AF', 'gnomAD_NFE_AF', 'gnomAD_OTH_AF', 'gnomAD_SAS_AF', 'MAX_AF', 'MAX_AF_POPS', 'CLIN_SIG', 'SOMATIC', 'PHENO', 'PUBMED', 'MOTIF_NAME', 'MOTIF_POS', 'HIGH_INF_POS', 'MOTIF_SCORE_CHANGE', 'SV_overlap_AF', 'SV_overlap_PC', 'SV_overlap_name', 'gnomADg', 'gnomADg_AF']\n",
      "73\n"
     ]
    }
   ],
   "source": [
    "import gzip\n",
    "with open('/titan2/UDP_SV/temp_single_hom_12.vcf', 'rt') as f:\n",
    "    for l in f:\n",
    "        if 'ID=CSQ' in l:\n",
    "            temp = l.strip('\\n').split('|')\n",
    "            break\n",
    "\n",
    "temp[0] = 'Allele';temp[72] = 'gnomADg_AF'\n",
    "\n",
    "print(temp)\n",
    "print(len(temp))\n",
    "#print(temp.index('Consequence'))"
   ]
  },
  {
   "cell_type": "markdown",
   "metadata": {},
   "source": [
    "### 1. Variant filtering\n",
    "> - `filter == PASS`인 variant만 남기기\n",
    "> - multi allelic 확인 및 제외\n",
    "> - LCR(low complexity region) 제외\n",
    "> - gnomad filtering\n",
    "> - ~AC ==1/2(hom)~"
   ]
  },
  {
   "cell_type": "code",
   "execution_count": 22,
   "metadata": {},
   "outputs": [],
   "source": [
    "##  `filter == PASS`인 variant만 남기기 \n",
    "mt = mt.filter_rows(hl.len(mt.filters) == 0)\n",
    "\n",
    "## multi allelic 제외\n",
    "mt = hl.split_multi(mt)\n",
    "mt = mt.filter_rows(mt.was_split == False)\n",
    "\n",
    "\n",
    "## lcr(low complexity region)제외\n",
    "#lcr_bed = hl.import_bed('../../Resources/lcr/LCR-hs38.bed', reference_genome = 'GRCh38')\n",
    "#mt = mt.filter_rows(~hl.is_defined(lcr_bed[mt.locus]))\n",
    "\n",
    "## gnomad filtering\n",
    "mt = mt.annotate_rows(csq = mt.info.CSQ)\n",
    "mt = mt.transmute_rows(csq_gnomADg_AF = mt.csq.map(lambda x: x.split('\\|')[72]))\n",
    "mt = mt.transmute_rows(csq_gnomADg_AF = mt.csq_gnomADg_AF.map(lambda x:hl.cond(x=='',0,hl.float(x))))\n",
    "mt = mt.filter_rows(mt.csq_gnomADg_AF.all(lambda x: hl.float(x) < 0.001))"
   ]
  },
  {
   "cell_type": "code",
   "execution_count": 23,
   "metadata": {},
   "outputs": [
    {
     "name": "stderr",
     "output_type": "stream",
     "text": [
      "2020-07-17 17:26:45 Hail: INFO: Coerced sorted dataset\n",
      "2020-07-17 17:26:45 Hail: INFO: Coerced sorted dataset\n"
     ]
    },
    {
     "data": {
      "text/plain": [
       "(65, 1)"
      ]
     },
     "execution_count": 23,
     "metadata": {},
     "output_type": "execute_result"
    }
   ],
   "source": [
    "mt.count()"
   ]
  },
  {
   "cell_type": "markdown",
   "metadata": {},
   "source": [
    "---"
   ]
  },
  {
   "cell_type": "code",
   "execution_count": 24,
   "metadata": {},
   "outputs": [],
   "source": [
    "tb = mt.entries()\n",
    "tb = tb.key_by(tb.locus,tb.alleles,tb.s)"
   ]
  },
  {
   "cell_type": "markdown",
   "metadata": {},
   "source": [
    "### 3. HQ het filtering"
   ]
  },
  {
   "cell_type": "code",
   "execution_count": 9,
   "metadata": {},
   "outputs": [],
   "source": [
    "##필터링 예시 남겨둠\n",
    "mt_snv_het_HQ = mt_snv_p.filter_rows((mt_snv_p.info.QD>=3) &\n",
    "                                   (mt_snv_p.info.SOR<=2.5) &\n",
    "                                   (mt_snv_p.info.ReadPosRankSum>=-1.4) &\n",
    "                                   (mt_snv_p.variant_qc.gq_stats.mean>=50)&\n",
    "                                   (mt_snv_p.info.MQRankSum>=-1.7))\n",
    "mt_snv_het_HQ = mt_snv_het_HQ.annotate_entries(AB=hl.cond(mt_snv_het_HQ.GT.is_het(),\n",
    "                                                          hl.min(mt_snv_het_HQ.AD.map(lambda x: x/mt_snv_het_HQ.DP)),0))\n",
    "mt_snv_het_HQ = mt_snv_het_HQ.filter_entries((mt_snv_het_HQ.GT.is_het())&\n",
    "                                             (mt_snv_het_HQ.GQ>=99)&\n",
    "                                             (mt_snv_het_HQ.DP>=10)&\n",
    "                                             (mt_snv_het_HQ.AB>=0.24)&\n",
    "                                             (mt_snv_het_HQ.AB<=0.76))\n",
    "mt_snv_het_HQ = hl.sample_qc(mt_snv_het_HQ)"
   ]
  },
  {
   "cell_type": "markdown",
   "metadata": {},
   "source": [
    "---"
   ]
  },
  {
   "cell_type": "markdown",
   "metadata": {},
   "source": [
    "### 4. Export data + CSQ annotation\n"
   ]
  },
  {
   "cell_type": "markdown",
   "metadata": {},
   "source": [
    "(CSQ 전체)"
   ]
  },
  {
   "cell_type": "code",
   "execution_count": 25,
   "metadata": {},
   "outputs": [],
   "source": [
    "def CSQ(table):\n",
    "    t = table\n",
    "    t = t.annotate(v1 = hl.tuple([t.locus.contig.replace(\"chr\", \"\"),hl.str(t.locus.position)]),\n",
    "                   v2 = hl.tuple([t.alleles[0],t.alleles[1]]))\n",
    "    t = t.transmute(variant = hl.delimit(hl.array([t.v1[0],t.v1[1],t.v2[0],t.v2[1]]), \":\"))\n",
    "    t = t.annotate(CSQ= t.info.CSQ).explode('CSQ')\n",
    "    t = t.transmute(csq = t.CSQ.split('\\|')).explode('csq')\n",
    "    return t"
   ]
  },
  {
   "cell_type": "code",
   "execution_count": 26,
   "metadata": {},
   "outputs": [],
   "source": [
    "tb = CSQ(tb)"
   ]
  },
  {
   "cell_type": "code",
   "execution_count": 27,
   "metadata": {},
   "outputs": [
    {
     "name": "stderr",
     "output_type": "stream",
     "text": [
      "2020-07-17 17:26:51 Hail: INFO: Coerced sorted dataset\n",
      "2020-07-17 17:26:51 Hail: INFO: Coerced sorted dataset\n",
      "2020-07-17 17:26:51 Hail: INFO: Coerced sorted dataset\n",
      "2020-07-17 17:27:01 Hail: INFO: merging 2 files totalling 956.4M...\n",
      "2020-07-17 17:27:02 Hail: INFO: while writing:\n",
      "    /titan2/UDP_SV/df_csq_single_hom_12.tsv\n",
      "  merge time: 1.718s\n"
     ]
    }
   ],
   "source": [
    "tb.export(\"/titan2/UDP_SV/df_csq_single_hom_12.tsv\")"
   ]
  },
  {
   "cell_type": "code",
   "execution_count": null,
   "metadata": {},
   "outputs": [],
   "source": []
  }
 ],
 "metadata": {
  "kernelspec": {
   "display_name": "Python 3",
   "language": "python",
   "name": "python3"
  },
  "language_info": {
   "codemirror_mode": {
    "name": "ipython",
    "version": 3
   },
   "file_extension": ".py",
   "mimetype": "text/x-python",
   "name": "python",
   "nbconvert_exporter": "python",
   "pygments_lexer": "ipython3",
   "version": "3.7.7"
  }
 },
 "nbformat": 4,
 "nbformat_minor": 2
}

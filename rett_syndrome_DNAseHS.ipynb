{
 "cells": [
  {
   "cell_type": "markdown",
   "metadata": {},
   "source": [
    "#### 1. import data"
   ]
  },
  {
   "cell_type": "code",
   "execution_count": 1,
   "metadata": {},
   "outputs": [
    {
     "name": "stderr",
     "output_type": "stream",
     "text": [
      "Initializing Spark and Hail with default parameters...\n",
      "Running on Apache Spark version 2.4.1\n",
      "SparkUI available at http://163.152.180.157:4040\n",
      "Welcome to\n",
      "     __  __     <>__\n",
      "    / /_/ /__  __/ /\n",
      "   / __  / _ `/ / /\n",
      "  /_/ /_/\\_,_/_/_/   version 0.2.30-2ae07d872f43\n",
      "LOGGING: writing to /home/titan/Hail/rett/hail-20200129-1349-0.2.30-2ae07d872f43.log\n"
     ]
    }
   ],
   "source": [
    "import hail as hl\n",
    "rett = hl.import_vcf('/home/titan/Hail/rett/191102-rett-wgs.vep_tx_191206.vcf.bgz', reference_genome = 'GRCh38')  # .write('/home/titan/Hail/rett/191102-rett-wgs.vep_tx_191206.mt', overwrite = True)"
   ]
  },
  {
   "cell_type": "code",
   "execution_count": 3,
   "metadata": {},
   "outputs": [],
   "source": [
    "rett = rett.annotate_cols(fam = rett.s.split('\\_')[0],  # divided by '_', fam = family(before _)\n",
    "                          role = rett.s.split('\\_')[1])   # role = proband(1), mother(2), father(3) (after _)"
   ]
  },
  {
   "cell_type": "markdown",
   "metadata": {},
   "source": [
    "#### 2. variant filtering\n",
    "> - `filter == PASS`인 variant만 남기기\n",
    "> - multi allelic 확인 및 제외\n",
    "> - ~chrX, chrY, chrM 제외~\n",
    "> - LCR(low complexity region) 제외\n",
    "> - gnomad filtering"
   ]
  },
  {
   "cell_type": "code",
   "execution_count": 4,
   "metadata": {},
   "outputs": [],
   "source": [
    "##  `filter == PASS`인 variant만 남기기     \n",
    "##   'filters' with non-zero line means that the variant did not meet the GATK standard\n",
    "rett = rett.filter_rows(hl.len(rett.filters) == 0) # select row field 'filters' with zero length"
   ]
  },
  {
   "cell_type": "code",
   "execution_count": 5,
   "metadata": {},
   "outputs": [],
   "source": [
    "## multi allelic 제외\n",
    "rett = hl.split_multi(rett) # 'split_multi' adds 'was_split' fields -> True for multi allelic\n",
    "rett = rett.filter_rows(rett.was_split == False)"
   ]
  },
  {
   "cell_type": "code",
   "execution_count": 6,
   "metadata": {},
   "outputs": [
    {
     "name": "stderr",
     "output_type": "stream",
     "text": [
      "2020-01-29 13:49:58 Hail: INFO: Reading table with no type imputation\n",
      "  Loading column 'f0' as type 'str' (user-specified)\n",
      "  Loading column 'f1' as type 'int32' (user-specified)\n",
      "  Loading column 'f2' as type 'int32' (user-specified)\n",
      "\n"
     ]
    }
   ],
   "source": [
    "## chrX, chY, chM제외\n",
    "#rett = rett.filter_rows(rett.locus.in_autosome())\n",
    "\n",
    "## lcr(low complexity region)제외\n",
    "lcr_bed = hl.import_bed('/home/titan/resources/LCR-hs38.bed', reference_genome = 'GRCh38')\n",
    "rett = rett.filter_rows(~hl.is_defined(lcr_bed[rett.locus])) # ~ means for 'not'"
   ]
  },
  {
   "cell_type": "code",
   "execution_count": 7,
   "metadata": {},
   "outputs": [],
   "source": [
    "## gnomad filtering   # csq = consequence of VEP processing\n",
    "rett = rett.annotate_rows(csq = rett.info.CSQ)\n",
    "rett = rett.transmute_rows(csq_gnomADg_AF = rett.csq.map(lambda x: x.split('\\|')[70]))\n",
    "l = hl.array(['0','1',''])  # Allele frequency 0 or 1 means that the opposite allele never appeared in gnomad database. '' also means there were no variants like this at gnomad database.\n",
    "rett = rett.filter_rows(rett.csq_gnomADg_AF.all(lambda x: l.contains(x)))"
   ]
  },
  {
   "cell_type": "markdown",
   "metadata": {},
   "source": [
    "#### 3. (rare) de novo variants(unique to one family) : 부모에겐 없고, 자녀에게만 있는 heterozygous"
   ]
  },
  {
   "cell_type": "code",
   "execution_count": 8,
   "metadata": {},
   "outputs": [],
   "source": [
    "rett = hl.variant_qc(rett)  # 'variant_qc' makes dp_stats, gq_stats, het, ref ...\n",
    "\n",
    "## rare and (GT)heterozygous\n",
    "rett_rare = rett.filter_rows(rett.info.AC[0]==1)  # Alternative allele count == 1  -> unique to one family\n",
    "rett_rare_het = rett_rare.filter_rows(rett_rare.variant_qc.n_het ==1)  # number of heterozygous samples == 1"
   ]
  },
  {
   "cell_type": "code",
   "execution_count": 9,
   "metadata": {},
   "outputs": [],
   "source": [
    "DNV = rett_rare_het.filter_entries(rett_rare_het.GT.is_het()) # is call(GT) includes two different alleles?\n",
    "DNV = DNV.filter_entries(DNV.s.split('\\_')[1]==\"1\") # select proband (because the heterozygous must be in proband, not parent)\n",
    "DNV = DNV.key_cols_by().entries() # select selected probands' entries\n",
    "\n",
    "rett_DNV = rett_rare_het.semi_join_rows(DNV) # via entries, select vcf of selected probands"
   ]
  },
  {
   "cell_type": "code",
   "execution_count": 9,
   "metadata": {},
   "outputs": [
    {
     "name": "stderr",
     "output_type": "stream",
     "text": [
      "2020-01-24 14:20:28 Hail: INFO: Coerced sorted dataset\n",
      "2020-01-24 14:20:41 Hail: INFO: Coerced sorted dataset\n",
      "2020-01-24 14:21:08 Hail: INFO: Coerced sorted dataset\n",
      "2020-01-24 14:21:21 Hail: INFO: Coerced sorted dataset\n",
      "2020-01-24 14:21:34 Hail: INFO: Coerced sorted dataset\n",
      "2020-01-24 14:22:01 Hail: INFO: Coerced sorted dataset\n"
     ]
    },
    {
     "data": {
      "text/plain": [
       "(7525, 27)"
      ]
     },
     "execution_count": 9,
     "metadata": {},
     "output_type": "execute_result"
    }
   ],
   "source": [
    "rett_DNV.count()"
   ]
  },
  {
   "cell_type": "code",
   "execution_count": 10,
   "metadata": {},
   "outputs": [],
   "source": [
    "# is_snp, is_indel can be evaluated by ref and alt allele\n",
    "rett_DNV_SNP = rett_DNV.filter_rows(hl.is_snp(rett_DNV.alleles[0], rett_DNV.alleles[1]))\n",
    "rett_DNV_Indel = rett_DNV.filter_rows(hl.is_indel(rett_DNV.alleles[0], rett_DNV.alleles[1]))"
   ]
  },
  {
   "cell_type": "code",
   "execution_count": 11,
   "metadata": {},
   "outputs": [],
   "source": [
    "rett_DNV_Indel = rett_DNV_Indel.annotate_rows(Total_DP = hl.agg.sum(rett_DNV_Indel.DP))"
   ]
  },
  {
   "cell_type": "code",
   "execution_count": 9,
   "metadata": {},
   "outputs": [
    {
     "name": "stderr",
     "output_type": "stream",
     "text": [
      "2019-12-29 11:54:32 Hail: INFO: Coerced sorted dataset\n",
      "2019-12-29 11:54:49 Hail: INFO: Coerced sorted dataset\n",
      "2019-12-29 11:55:23 Hail: INFO: Coerced sorted dataset\n",
      "2019-12-29 11:55:40 Hail: INFO: Coerced sorted dataset\n",
      "2019-12-29 11:55:56 Hail: INFO: Coerced sorted dataset\n",
      "2019-12-29 11:56:30 Hail: INFO: Coerced sorted dataset\n"
     ]
    },
    {
     "data": {
      "text/plain": [
       "4584"
      ]
     },
     "execution_count": 9,
     "metadata": {},
     "output_type": "execute_result"
    }
   ],
   "source": [
    "#rett_DNV_SNP.count_rows() "
   ]
  },
  {
   "cell_type": "code",
   "execution_count": 10,
   "metadata": {},
   "outputs": [
    {
     "name": "stderr",
     "output_type": "stream",
     "text": [
      "2019-12-29 11:59:05 Hail: INFO: Coerced sorted dataset\n",
      "2019-12-29 11:59:21 Hail: INFO: Coerced sorted dataset\n",
      "2019-12-29 11:59:55 Hail: INFO: Coerced sorted dataset\n",
      "2019-12-29 12:00:11 Hail: INFO: Coerced sorted dataset\n",
      "2019-12-29 12:00:27 Hail: INFO: Coerced sorted dataset\n",
      "2019-12-29 12:01:02 Hail: INFO: Coerced sorted dataset\n"
     ]
    },
    {
     "data": {
      "text/plain": [
       "2941"
      ]
     },
     "execution_count": 10,
     "metadata": {},
     "output_type": "execute_result"
    }
   ],
   "source": [
    "#rett_DNV_Indel.count_rows()"
   ]
  },
  {
   "cell_type": "markdown",
   "metadata": {},
   "source": [
    "#### 4. HQ variant filtering"
   ]
  },
  {
   "cell_type": "markdown",
   "metadata": {},
   "source": [
    "#### (방법 1 ROCube)"
   ]
  },
  {
   "cell_type": "markdown",
   "metadata": {},
   "source": [
    "> - **SNP**\n",
    "    - Step 1 va_QUAL  214.900  0.99004  0.84787\n",
    "    - Step 2 g_AB    0.227  0.99022  0.50365\n",
    "    - Step 3 va_MQ   57.350  0.95745  1.00000"
   ]
  },
  {
   "cell_type": "code",
   "execution_count": 12,
   "metadata": {},
   "outputs": [],
   "source": [
    "## SNP\n",
    "rett_SNP_HQdnv1 = rett_DNV_SNP.filter_cols(rett_DNV_SNP.role =='1')\n",
    "rett_SNP_HQdnv1 = rett_SNP_HQdnv1.filter_rows((rett_SNP_HQdnv1.qual >= 214.900) &\n",
    "                                          (rett_SNP_HQdnv1.info.MQ >= 57.350))\n",
    "rett_SNP_HQdnv1 = rett_SNP_HQdnv1.annotate_entries(AB=hl.min(rett_SNP_HQdnv1.AD.map(lambda x: x/rett_SNP_HQdnv1.DP)))\n",
    "rett_SNP_HQdnv1 = rett_SNP_HQdnv1.filter_entries((rett_SNP_HQdnv1.AB>=0.227)&\n",
    "                                                    (rett_SNP_HQdnv1.AB<=0.773))\n",
    "\n",
    "rett_SNP_HQdnv1 = hl.sample_qc(rett_SNP_HQdnv1)"
   ]
  },
  {
   "cell_type": "code",
   "execution_count": 13,
   "metadata": {
    "collapsed": true
   },
   "outputs": [
    {
     "name": "stderr",
     "output_type": "stream",
     "text": [
      "2020-01-24 14:24:16 Hail: INFO: Coerced sorted dataset\n",
      "2020-01-24 14:24:29 Hail: INFO: Coerced sorted dataset\n",
      "2020-01-24 14:25:01 Hail: INFO: Coerced sorted dataset\n",
      "2020-01-24 14:25:14 Hail: INFO: Coerced sorted dataset\n",
      "2020-01-24 14:25:27 Hail: INFO: Coerced sorted dataset\n",
      "2020-01-24 14:25:54 Hail: INFO: Coerced sorted dataset\n",
      "2020-01-24 14:28:00 Hail: INFO: Coerced sorted dataset\n"
     ]
    },
    {
     "data": {
      "text/html": [
       "<table><thead style=\"font-weight: bold;\"><tr><td>s</td><td><expr></td></tr>\n",
       "<tr><td>str</td><td>int64</td></tr>\n",
       "</thead><tbody><tr><td>&quot;TWGS1_1&quot;</td><td>59</td></tr>\n",
       "<tr><td>&quot;TWGS2_1&quot;</td><td>52</td></tr>\n",
       "<tr><td>&quot;TWGS3_1&quot;</td><td>57</td></tr>\n",
       "<tr><td>&quot;TWGS4_1&quot;</td><td>75</td></tr>\n",
       "<tr><td>&quot;TWGS5_1&quot;</td><td>63</td></tr>\n",
       "<tr><td>&quot;TWGS6_1&quot;</td><td>57</td></tr>\n",
       "<tr><td>&quot;TWGS7_1&quot;</td><td>67</td></tr>\n",
       "<tr><td>&quot;TWGS8_1&quot;</td><td>56</td></tr>\n",
       "<tr><td>&quot;TWGS9_1&quot;</td><td>50</td></tr>\n",
       "</tbody></table>"
      ],
      "text/plain": [
       "+-----------+--------+\n",
       "| s         | <expr> |\n",
       "+-----------+--------+\n",
       "| str       |  int64 |\n",
       "+-----------+--------+\n",
       "| \"TWGS1_1\" |     59 |\n",
       "| \"TWGS2_1\" |     52 |\n",
       "| \"TWGS3_1\" |     57 |\n",
       "| \"TWGS4_1\" |     75 |\n",
       "| \"TWGS5_1\" |     63 |\n",
       "| \"TWGS6_1\" |     57 |\n",
       "| \"TWGS7_1\" |     67 |\n",
       "| \"TWGS8_1\" |     56 |\n",
       "| \"TWGS9_1\" |     50 |\n",
       "+-----------+--------+"
      ]
     },
     "metadata": {},
     "output_type": "display_data"
    }
   ],
   "source": [
    "rett_SNP_HQdnv1.sample_qc.n_het.show(9)"
   ]
  },
  {
   "cell_type": "code",
   "execution_count": 13,
   "metadata": {},
   "outputs": [
    {
     "name": "stderr",
     "output_type": "stream",
     "text": [
      "2020-01-29 13:50:15 Hail: WARN: entries(): Resulting entries table is sorted by '(row_key, col_key)'.\n",
      "    To preserve row-major matrix table order, first unkey columns with 'key_cols_by()'\n"
     ]
    }
   ],
   "source": [
    "Tb_rett_SNP_HQdnv1 = rett_SNP_HQdnv1.entries()\n",
    "Tb_rett_SNP_HQdnv1 = Tb_rett_SNP_HQdnv1.key_by(Tb_rett_SNP_HQdnv1.locus, \n",
    "                                               Tb_rett_SNP_HQdnv1.alleles, \n",
    "                                               Tb_rett_SNP_HQdnv1.fam)"
   ]
  },
  {
   "cell_type": "markdown",
   "metadata": {},
   "source": [
    "\n",
    "\n",
    "> - **Indel**\n",
    "    - Step 1 va_QUAL  65.780  0.99522  0.25581\n",
    "    - Step 2 va_SOR  -2.964  0.99501  0.23958\n",
    "    - Step 3 va_DP  101.000  0.99508  0.21190\n",
    "    - Step 4 va_QD   2.330  0.99515  0.24651\n",
    "    - Step 5 va_MQ  27.960  0.99512  0.24691\n",
    "    - Step 6 g_AB   0.129  0.99510  0.18699\n",
    "    - Step 7 va_GQM  25.000  0.99034  0.33\n",
    "    - Step 8 va_AN  50.000  0.99351  0.23529\n",
    "    - Step 9 g_GQ  69.000  0.99079  0.28333\n",
    "    - Step 10 va_MQRankSum   -1.674  0.99071  0.26531\n",
    "    - Step 11 g_DP    8.000  0.99580  0.27027\n",
    "    - Step 12 va_FS -100.210  1.0000  0.03571\n",
    "    - Step 13 va_BaseQRankSum -2.799  0.9999   0.0\n",
    "    \n"
   ]
  },
  {
   "cell_type": "code",
   "execution_count": 14,
   "metadata": {},
   "outputs": [],
   "source": [
    "##Indel\n",
    "rett_Indel_HQdnv1 = rett_DNV_Indel.filter_cols(rett_DNV_Indel.role =='1')\n",
    "rett_Indel_HQdnv1 = rett_Indel_HQdnv1.filter_rows((rett_Indel_HQdnv1.qual >=65.780)&\n",
    "                                               (rett_Indel_HQdnv1.info.SOR <= 2.964)&\n",
    "                                               (rett_Indel_HQdnv1.info.DP >=101.000) &\n",
    "                                               (rett_Indel_HQdnv1.info.QD >=2.330) & \n",
    "                                               (rett_Indel_HQdnv1.info.MQ >=27.960) &\n",
    "                                               (rett_Indel_HQdnv1.variant_qc.gq_stats.mean >=25.000)&\n",
    "                                               (rett_Indel_HQdnv1.info.AN >=50.000) &\n",
    "                                               (rett_Indel_HQdnv1.info.MQRankSum >=-1.674)&\n",
    "                                               (rett_Indel_HQdnv1.info.FS<=100.210)&\n",
    "                                               (rett_Indel_HQdnv1.info.BaseQRankSum >= -2.799))\n",
    "\n",
    "rett_Indel_HQdnv1 = rett_Indel_HQdnv1.annotate_entries(AB=hl.min(rett_Indel_HQdnv1.AD.map(lambda x: x/rett_Indel_HQdnv1.DP)))\n",
    "rett_Indel_HQdnv1 = rett_Indel_HQdnv1.filter_entries((rett_Indel_HQdnv1.GQ>=69)&\n",
    "                                                 (rett_Indel_HQdnv1.DP>=8)&\n",
    "                                                 (rett_Indel_HQdnv1.AB>=0.129)&\n",
    "                                                    (rett_Indel_HQdnv1.AB<=0.871))\n",
    "rett_Indel_HQdnv1 = hl.sample_qc(rett_Indel_HQdnv1)"
   ]
  },
  {
   "cell_type": "code",
   "execution_count": 15,
   "metadata": {
    "collapsed": true
   },
   "outputs": [
    {
     "name": "stderr",
     "output_type": "stream",
     "text": [
      "2019-12-29 12:11:46 Hail: INFO: Coerced sorted dataset\n",
      "2019-12-29 12:12:03 Hail: INFO: Coerced sorted dataset\n",
      "2019-12-29 12:12:48 Hail: INFO: Coerced sorted dataset\n",
      "2019-12-29 12:13:05 Hail: INFO: Coerced sorted dataset\n",
      "2019-12-29 12:13:21 Hail: INFO: Coerced sorted dataset\n",
      "2019-12-29 12:13:55 Hail: INFO: Coerced sorted dataset\n",
      "2019-12-29 12:16:42 Hail: INFO: Coerced sorted dataset\n"
     ]
    },
    {
     "data": {
      "text/html": [
       "<table><thead style=\"font-weight: bold;\"><tr><td>s</td><td><expr></td></tr>\n",
       "<tr><td>str</td><td>int64</td></tr>\n",
       "</thead><tbody><tr><td>&quot;TWGS1_1&quot;</td><td>62</td></tr>\n",
       "<tr><td>&quot;TWGS2_1&quot;</td><td>33</td></tr>\n",
       "<tr><td>&quot;TWGS3_1&quot;</td><td>39</td></tr>\n",
       "<tr><td>&quot;TWGS4_1&quot;</td><td>44</td></tr>\n",
       "<tr><td>&quot;TWGS5_1&quot;</td><td>47</td></tr>\n",
       "<tr><td>&quot;TWGS6_1&quot;</td><td>62</td></tr>\n",
       "<tr><td>&quot;TWGS7_1&quot;</td><td>47</td></tr>\n",
       "<tr><td>&quot;TWGS8_1&quot;</td><td>40</td></tr>\n",
       "<tr><td>&quot;TWGS9_1&quot;</td><td>41</td></tr>\n",
       "</tbody></table>"
      ],
      "text/plain": [
       "+-----------+--------+\n",
       "| s         | <expr> |\n",
       "+-----------+--------+\n",
       "| str       |  int64 |\n",
       "+-----------+--------+\n",
       "| \"TWGS1_1\" |     62 |\n",
       "| \"TWGS2_1\" |     33 |\n",
       "| \"TWGS3_1\" |     39 |\n",
       "| \"TWGS4_1\" |     44 |\n",
       "| \"TWGS5_1\" |     47 |\n",
       "| \"TWGS6_1\" |     62 |\n",
       "| \"TWGS7_1\" |     47 |\n",
       "| \"TWGS8_1\" |     40 |\n",
       "| \"TWGS9_1\" |     41 |\n",
       "+-----------+--------+"
      ]
     },
     "metadata": {},
     "output_type": "display_data"
    }
   ],
   "source": [
    "rett_Indel_HQdnv1.sample_qc.n_het.show(9)"
   ]
  },
  {
   "cell_type": "code",
   "execution_count": 15,
   "metadata": {},
   "outputs": [],
   "source": [
    "Tb_rett_Indel_HQdnv1 = rett_Indel_HQdnv1.entries()\n",
    "Tb_rett_Indel_HQdnv1 = Tb_rett_Indel_HQdnv1.key_by(Tb_rett_Indel_HQdnv1.locus, \n",
    "                                                   Tb_rett_Indel_HQdnv1.alleles, \n",
    "                                                   Tb_rett_Indel_HQdnv1.fam)"
   ]
  },
  {
   "cell_type": "markdown",
   "metadata": {},
   "source": [
    "#### (방법 2 슬라이드 기준)"
   ]
  },
  {
   "cell_type": "markdown",
   "metadata": {},
   "source": [
    "> - **Heterozygous SNP**\n",
    "    - Step 1; Genotype Quality (GQ);≥99;99.1%;74.3%\n",
    "    - Step 2; Quality by depth (QD);≥3;98.8%;88.6%\n",
    "    - Step 3;Strand Bias Odd Ratio (SOR);≤2.5;98.6%;90.8%\n",
    "    - Step 4;Allele Depth (DP);≥10;98.4%;92.5%\n",
    "    - Step 5;ReadPosRankSum;≥-1.4;98.2%;94.0%\n",
    "    - Step 6;Mean genotype quality (GQ_Mean);50;97.3%;96.3%\n",
    "    - Step 7;MQRankSum;-1.7;96.7%;96.8%\n",
    "    - Step 8;Allele balance (AB);0.24; 0.76;95.0%;98.3%"
   ]
  },
  {
   "cell_type": "code",
   "execution_count": 16,
   "metadata": {},
   "outputs": [],
   "source": [
    "##SNP\n",
    "rett_SNP_HQdnv2 = rett_DNV_SNP.filter_cols(rett_DNV_SNP.role =='1')\n",
    "rett_SNP_HQdnv2 = rett_SNP_HQdnv2.filter_rows((rett_SNP_HQdnv2.info.QD>=3) &\n",
    "                                          (rett_SNP_HQdnv2.info.SOR<=2.5) &\n",
    "                                          (rett_SNP_HQdnv2.info.ReadPosRankSum>=-1.4) &\n",
    "                                          (rett_SNP_HQdnv2.variant_qc.gq_stats.mean>=50)&\n",
    "                                          (rett_SNP_HQdnv2.info.MQRankSum>=-1.7))\n",
    "rett_SNP_HQdnv2 = rett_SNP_HQdnv2.annotate_entries(AB=hl.cond(rett_SNP_HQdnv2.GT.is_het(), \n",
    "                                                              hl.min(rett_SNP_HQdnv2.AD.map(lambda x: x/rett_SNP_HQdnv2.DP)),0))\n",
    "rett_SNP_HQdnv2 = rett_SNP_HQdnv2.filter_entries((rett_SNP_HQdnv2.GQ>=99)&\n",
    "                                                 (rett_SNP_HQdnv2.DP>=10)&\n",
    "                                                 (rett_SNP_HQdnv2.AB>=0.24)&\n",
    "                                                 (rett_SNP_HQdnv2.AB<=0.76))\n",
    "rett_SNP_HQdnv2 = hl.sample_qc(rett_SNP_HQdnv2)"
   ]
  },
  {
   "cell_type": "code",
   "execution_count": 21,
   "metadata": {
    "collapsed": true
   },
   "outputs": [
    {
     "name": "stderr",
     "output_type": "stream",
     "text": [
      "2019-12-26 10:01:06 Hail: INFO: Coerced sorted dataset\n",
      "2019-12-26 10:01:23 Hail: INFO: Coerced sorted dataset\n",
      "2019-12-26 10:02:07 Hail: INFO: Coerced sorted dataset\n",
      "2019-12-26 10:02:23 Hail: INFO: Coerced sorted dataset\n",
      "2019-12-26 10:02:40 Hail: INFO: Coerced sorted dataset\n",
      "2019-12-26 10:03:15 Hail: INFO: Coerced sorted dataset\n",
      "2019-12-26 10:06:05 Hail: INFO: Coerced sorted dataset\n"
     ]
    },
    {
     "data": {
      "text/html": [
       "<table><thead style=\"font-weight: bold;\"><tr><td>s</td><td><expr></td></tr>\n",
       "<tr><td>str</td><td>int64</td></tr>\n",
       "</thead><tbody><tr><td>&quot;TWGS1_1&quot;</td><td>63</td></tr>\n",
       "<tr><td>&quot;TWGS2_1&quot;</td><td>61</td></tr>\n",
       "<tr><td>&quot;TWGS3_1&quot;</td><td>58</td></tr>\n",
       "<tr><td>&quot;TWGS4_1&quot;</td><td>79</td></tr>\n",
       "<tr><td>&quot;TWGS5_1&quot;</td><td>67</td></tr>\n",
       "<tr><td>&quot;TWGS6_1&quot;</td><td>66</td></tr>\n",
       "<tr><td>&quot;TWGS7_1&quot;</td><td>72</td></tr>\n",
       "<tr><td>&quot;TWGS8_1&quot;</td><td>61</td></tr>\n",
       "<tr><td>&quot;TWGS9_1&quot;</td><td>62</td></tr>\n",
       "</tbody></table>"
      ],
      "text/plain": [
       "+-----------+--------+\n",
       "| s         | <expr> |\n",
       "+-----------+--------+\n",
       "| str       |  int64 |\n",
       "+-----------+--------+\n",
       "| \"TWGS1_1\" |     63 |\n",
       "| \"TWGS2_1\" |     61 |\n",
       "| \"TWGS3_1\" |     58 |\n",
       "| \"TWGS4_1\" |     79 |\n",
       "| \"TWGS5_1\" |     67 |\n",
       "| \"TWGS6_1\" |     66 |\n",
       "| \"TWGS7_1\" |     72 |\n",
       "| \"TWGS8_1\" |     61 |\n",
       "| \"TWGS9_1\" |     62 |\n",
       "+-----------+--------+"
      ]
     },
     "metadata": {},
     "output_type": "display_data"
    }
   ],
   "source": [
    "rett_SNP_HQdnv2.sample_qc.n_het.show(9)"
   ]
  },
  {
   "cell_type": "code",
   "execution_count": 17,
   "metadata": {},
   "outputs": [],
   "source": [
    "Tb_rett_SNP_HQdnv2 = rett_SNP_HQdnv2.entries()\n",
    "Tb_rett_SNP_HQdnv2 = Tb_rett_SNP_HQdnv2.key_by(Tb_rett_SNP_HQdnv2.locus, \n",
    "                                               Tb_rett_SNP_HQdnv2.alleles, \n",
    "                                               Tb_rett_SNP_HQdnv2.fam)"
   ]
  },
  {
   "cell_type": "markdown",
   "metadata": {},
   "source": [
    "> - **Heterozygous Indel**\n",
    "    - Step 1;Genotype Quality (GQ);≥99;98.5%;56.1%\n",
    "    - Step 2;Quality by depth (QD);≥4;97.6%;73.3%\n",
    "    - Step 3;Strand Bias Odd Ratio (SOR);≤3;97.3%;79.4%\n",
    "    - Step 4;Allele Depth (DP);≥10;95.9%;84.3%\n",
    "    - Step 5;ReadPosRankSum;≥-1.7;94.9%;90.9%\n",
    "    - Step 6;Mean genotype quality (GQ_Mean);≥50;93.2%;94.0%\n",
    "    - Step 7;Allele balance (AB);≥0.20; ≤0.80;85.2%;97.6%\n",
    "\n"
   ]
  },
  {
   "cell_type": "code",
   "execution_count": 18,
   "metadata": {},
   "outputs": [],
   "source": [
    "##Indel\n",
    "rett_Indel_HQdnv2 = rett_DNV_Indel.filter_cols(rett_DNV_Indel.role =='1')\n",
    "rett_Indel_HQdnv2 = rett_Indel_HQdnv2.filter_rows((rett_Indel_HQdnv2.info.QD>=4) &\n",
    "                                          (rett_Indel_HQdnv2.info.SOR<=3) &\n",
    "                                          (rett_Indel_HQdnv2.info.ReadPosRankSum>=-1.7) &\n",
    "                                          (rett_Indel_HQdnv2.variant_qc.gq_stats.mean>=50))\n",
    "rett_Indel_HQdnv2 = rett_Indel_HQdnv2.annotate_entries(AB=hl.cond(rett_Indel_HQdnv2.GT.is_het(), \n",
    "                                                              hl.min(rett_Indel_HQdnv2.AD.map(lambda x: x/rett_Indel_HQdnv2.DP)),0))\n",
    "rett_Indel_HQdnv2 = rett_Indel_HQdnv2.filter_entries((rett_Indel_HQdnv2.GQ>=99)&\n",
    "                                                 (rett_Indel_HQdnv2.DP>=10)&\n",
    "                                                 (rett_Indel_HQdnv2.AB>=0.20)&\n",
    "                                                 (rett_Indel_HQdnv2.AB<=0.80))\n",
    "rett_Indel_HQdnv2 = hl.sample_qc(rett_Indel_HQdnv2)"
   ]
  },
  {
   "cell_type": "code",
   "execution_count": 22,
   "metadata": {
    "collapsed": true
   },
   "outputs": [
    {
     "name": "stderr",
     "output_type": "stream",
     "text": [
      "2019-12-26 10:06:22 Hail: INFO: Coerced sorted dataset\n",
      "2019-12-26 10:06:39 Hail: INFO: Coerced sorted dataset\n",
      "2019-12-26 10:07:24 Hail: INFO: Coerced sorted dataset\n",
      "2019-12-26 10:07:41 Hail: INFO: Coerced sorted dataset\n",
      "2019-12-26 10:07:58 Hail: INFO: Coerced sorted dataset\n",
      "2019-12-26 10:08:32 Hail: INFO: Coerced sorted dataset\n",
      "2019-12-26 10:11:22 Hail: INFO: Coerced sorted dataset\n"
     ]
    },
    {
     "data": {
      "text/html": [
       "<table><thead style=\"font-weight: bold;\"><tr><td>s</td><td><expr></td></tr>\n",
       "<tr><td>str</td><td>int64</td></tr>\n",
       "</thead><tbody><tr><td>&quot;TWGS1_1&quot;</td><td>11</td></tr>\n",
       "<tr><td>&quot;TWGS2_1&quot;</td><td>5</td></tr>\n",
       "<tr><td>&quot;TWGS3_1&quot;</td><td>18</td></tr>\n",
       "<tr><td>&quot;TWGS4_1&quot;</td><td>10</td></tr>\n",
       "<tr><td>&quot;TWGS5_1&quot;</td><td>15</td></tr>\n",
       "<tr><td>&quot;TWGS6_1&quot;</td><td>17</td></tr>\n",
       "<tr><td>&quot;TWGS7_1&quot;</td><td>17</td></tr>\n",
       "<tr><td>&quot;TWGS8_1&quot;</td><td>18</td></tr>\n",
       "<tr><td>&quot;TWGS9_1&quot;</td><td>12</td></tr>\n",
       "</tbody></table>"
      ],
      "text/plain": [
       "+-----------+--------+\n",
       "| s         | <expr> |\n",
       "+-----------+--------+\n",
       "| str       |  int64 |\n",
       "+-----------+--------+\n",
       "| \"TWGS1_1\" |     11 |\n",
       "| \"TWGS2_1\" |      5 |\n",
       "| \"TWGS3_1\" |     18 |\n",
       "| \"TWGS4_1\" |     10 |\n",
       "| \"TWGS5_1\" |     15 |\n",
       "| \"TWGS6_1\" |     17 |\n",
       "| \"TWGS7_1\" |     17 |\n",
       "| \"TWGS8_1\" |     18 |\n",
       "| \"TWGS9_1\" |     12 |\n",
       "+-----------+--------+"
      ]
     },
     "metadata": {},
     "output_type": "display_data"
    }
   ],
   "source": [
    "rett_Indel_HQdnv2.sample_qc.n_het.show(9)"
   ]
  },
  {
   "cell_type": "code",
   "execution_count": 19,
   "metadata": {},
   "outputs": [],
   "source": [
    "Tb_rett_Indel_HQdnv2 = rett_Indel_HQdnv2.entries()\n",
    "Tb_rett_Indel_HQdnv2 = Tb_rett_Indel_HQdnv2.key_by(Tb_rett_Indel_HQdnv2.locus, \n",
    "                                                   Tb_rett_Indel_HQdnv2.alleles, \n",
    "                                                   Tb_rett_Indel_HQdnv2.fam)"
   ]
  },
  {
   "cell_type": "markdown",
   "metadata": {},
   "source": [
    "#### 5. 부모 quality metrics 추가 filtering¶"
   ]
  },
  {
   "cell_type": "code",
   "execution_count": 20,
   "metadata": {},
   "outputs": [],
   "source": [
    "Tb_rett_DNV_SNP = rett_DNV_SNP.entries()\n",
    "Tb_rett_DNV_SNP = Tb_rett_DNV_SNP.key_by(Tb_rett_DNV_SNP.locus,\n",
    "                                        Tb_rett_DNV_SNP.alleles,\n",
    "                                        Tb_rett_DNV_SNP.fam)"
   ]
  },
  {
   "cell_type": "code",
   "execution_count": 21,
   "metadata": {},
   "outputs": [],
   "source": [
    "Tb_rett_DNV_Indel = rett_DNV_Indel.entries()\n",
    "Tb_rett_DNV_Indel = Tb_rett_DNV_Indel.key_by(Tb_rett_DNV_Indel.locus,\n",
    "                                        Tb_rett_DNV_Indel.alleles,\n",
    "                                        Tb_rett_DNV_Indel.fam)"
   ]
  },
  {
   "cell_type": "code",
   "execution_count": 22,
   "metadata": {},
   "outputs": [],
   "source": [
    "## parents까지 포함한 Table\n",
    "Tb_SNP_1 = Tb_rett_DNV_SNP.semi_join(Tb_rett_SNP_HQdnv1)\n",
    "Tb_SNP_2 = Tb_rett_DNV_SNP.semi_join(Tb_rett_SNP_HQdnv2)\n",
    "Tb_Indel_1 = Tb_rett_DNV_Indel.semi_join(Tb_rett_Indel_HQdnv1)\n",
    "Tb_Indel_2 = Tb_rett_DNV_Indel.semi_join(Tb_rett_Indel_HQdnv2)"
   ]
  },
  {
   "cell_type": "markdown",
   "metadata": {},
   "source": [
    "---"
   ]
  },
  {
   "cell_type": "code",
   "execution_count": 23,
   "metadata": {},
   "outputs": [],
   "source": [
    "## SNVs GQ parents >= 90, AB parents <= 0.05/va_MQ(proband) >=60\n",
    "def make_tag_SNP(table):\n",
    "    temp = table\n",
    "    temp = temp.filter(temp.role!='1')\n",
    "    temp = temp.annotate(AB=hl.min(temp.AD.map(lambda x: x/temp.DP)))\n",
    "    tag = temp.group_by(temp.locus, temp.alleles, temp.fam).aggregate(t1 = hl.agg.all(temp.GQ>=90),\n",
    "                                                                      t2 = hl.agg.all(temp.AB<=0.05))\n",
    "    tag = tag.annotate(t = hl.all(lambda x : x==True, [tag.t1, tag.t2]))\n",
    "    tag = tag.filter(tag.t==True)\n",
    "    return tag\n",
    "\n",
    "##ROCube\n",
    "tag_SNP_1 = make_tag_SNP(Tb_SNP_1)\n",
    "Tb_rett_SNP_HQdnv1 = Tb_rett_SNP_HQdnv1.semi_join(tag_SNP_1)\n",
    "Tb_rett_SNP_HQdnv1 = Tb_rett_SNP_HQdnv1.filter(Tb_rett_SNP_HQdnv1.info.MQ >=60)"
   ]
  },
  {
   "cell_type": "code",
   "execution_count": 25,
   "metadata": {
    "collapsed": true
   },
   "outputs": [
    {
     "name": "stderr",
     "output_type": "stream",
     "text": [
      "2019-12-29 12:20:10 Hail: INFO: Coerced sorted dataset\n",
      "2019-12-29 12:20:26 Hail: INFO: Coerced sorted dataset\n",
      "2019-12-29 12:21:08 Hail: INFO: Coerced sorted dataset\n",
      "2019-12-29 12:21:24 Hail: INFO: Coerced sorted dataset\n",
      "2019-12-29 12:21:41 Hail: INFO: Coerced sorted dataset\n",
      "2019-12-29 12:22:15 Hail: INFO: Coerced sorted dataset\n",
      "2019-12-29 12:24:41 Hail: INFO: Coerced sorted dataset\n",
      "2019-12-29 12:24:57 Hail: INFO: Coerced sorted dataset\n",
      "2019-12-29 12:25:14 Hail: INFO: Coerced sorted dataset\n",
      "2019-12-29 12:25:56 Hail: INFO: Coerced sorted dataset\n",
      "2019-12-29 12:26:12 Hail: INFO: Coerced sorted dataset\n",
      "2019-12-29 12:26:28 Hail: INFO: Coerced sorted dataset\n",
      "2019-12-29 12:27:03 Hail: INFO: Coerced sorted dataset\n",
      "2019-12-29 12:29:30 Hail: INFO: Coerced sorted dataset\n",
      "2019-12-29 12:29:46 Hail: INFO: Coerced sorted dataset\n",
      "2019-12-29 12:30:02 Hail: INFO: Coerced sorted dataset\n",
      "2019-12-29 12:30:44 Hail: INFO: Coerced sorted dataset\n",
      "2019-12-29 12:31:00 Hail: INFO: Coerced sorted dataset\n",
      "2019-12-29 12:31:16 Hail: INFO: Coerced sorted dataset\n",
      "2019-12-29 12:31:50 Hail: INFO: Coerced sorted dataset\n",
      "2019-12-29 12:34:16 Hail: INFO: Coerced sorted dataset\n",
      "2019-12-29 12:41:20 Hail: INFO: Ordering unsorted dataset with network shuffle\n"
     ]
    },
    {
     "data": {
      "text/html": [
       "<table><thead style=\"font-weight: bold;\"><tr><td>s</td><td>n</td></tr>\n",
       "<tr><td>str</td><td>int64</td></tr>\n",
       "</thead><tbody><tr><td>&quot;TWGS1_1&quot;</td><td>12</td></tr>\n",
       "<tr><td>&quot;TWGS2_1&quot;</td><td>29</td></tr>\n",
       "<tr><td>&quot;TWGS3_1&quot;</td><td>14</td></tr>\n",
       "<tr><td>&quot;TWGS4_1&quot;</td><td>30</td></tr>\n",
       "<tr><td>&quot;TWGS5_1&quot;</td><td>35</td></tr>\n",
       "<tr><td>&quot;TWGS6_1&quot;</td><td>30</td></tr>\n",
       "<tr><td>&quot;TWGS7_1&quot;</td><td>19</td></tr>\n",
       "<tr><td>&quot;TWGS8_1&quot;</td><td>9</td></tr>\n",
       "<tr><td>&quot;TWGS9_1&quot;</td><td>16</td></tr>\n",
       "</tbody></table>"
      ],
      "text/plain": [
       "+-----------+-------+\n",
       "| s         |     n |\n",
       "+-----------+-------+\n",
       "| str       | int64 |\n",
       "+-----------+-------+\n",
       "| \"TWGS1_1\" |    12 |\n",
       "| \"TWGS2_1\" |    29 |\n",
       "| \"TWGS3_1\" |    14 |\n",
       "| \"TWGS4_1\" |    30 |\n",
       "| \"TWGS5_1\" |    35 |\n",
       "| \"TWGS6_1\" |    30 |\n",
       "| \"TWGS7_1\" |    19 |\n",
       "| \"TWGS8_1\" |     9 |\n",
       "| \"TWGS9_1\" |    16 |\n",
       "+-----------+-------+"
      ]
     },
     "metadata": {},
     "output_type": "display_data"
    }
   ],
   "source": [
    "Tb_rett_SNP_HQdnv1.group_by(Tb_rett_SNP_HQdnv1.s).aggregate(n = hl.agg.count()).show(9)"
   ]
  },
  {
   "cell_type": "code",
   "execution_count": 24,
   "metadata": {},
   "outputs": [],
   "source": [
    "##슬라이드 기준\n",
    "tag_SNP_2 = make_tag_SNP(Tb_SNP_2)\n",
    "Tb_rett_SNP_HQdnv2 = Tb_rett_SNP_HQdnv2.semi_join(tag_SNP_2)\n",
    "Tb_rett_SNP_HQdnv2 = Tb_rett_SNP_HQdnv2.filter(Tb_rett_SNP_HQdnv2.info.MQ >=60)"
   ]
  },
  {
   "cell_type": "code",
   "execution_count": 27,
   "metadata": {
    "collapsed": true
   },
   "outputs": [
    {
     "name": "stderr",
     "output_type": "stream",
     "text": [
      "2019-12-29 12:46:45 Hail: INFO: Coerced sorted dataset\n",
      "2019-12-29 12:47:01 Hail: INFO: Coerced sorted dataset\n",
      "2019-12-29 12:47:46 Hail: INFO: Coerced sorted dataset\n",
      "2019-12-29 12:48:02 Hail: INFO: Coerced sorted dataset\n",
      "2019-12-29 12:48:18 Hail: INFO: Coerced sorted dataset\n",
      "2019-12-29 12:48:52 Hail: INFO: Coerced sorted dataset\n",
      "2019-12-29 12:51:22 Hail: INFO: Coerced sorted dataset\n",
      "2019-12-29 12:51:38 Hail: INFO: Coerced sorted dataset\n",
      "2019-12-29 12:51:54 Hail: INFO: Coerced sorted dataset\n",
      "2019-12-29 12:52:37 Hail: INFO: Coerced sorted dataset\n",
      "2019-12-29 12:52:53 Hail: INFO: Coerced sorted dataset\n",
      "2019-12-29 12:53:09 Hail: INFO: Coerced sorted dataset\n",
      "2019-12-29 12:53:43 Hail: INFO: Coerced sorted dataset\n",
      "2019-12-29 12:56:10 Hail: INFO: Coerced sorted dataset\n",
      "2019-12-29 12:56:27 Hail: INFO: Coerced sorted dataset\n",
      "2019-12-29 12:56:43 Hail: INFO: Coerced sorted dataset\n",
      "2019-12-29 12:57:27 Hail: INFO: Coerced sorted dataset\n",
      "2019-12-29 12:57:43 Hail: INFO: Coerced sorted dataset\n",
      "2019-12-29 12:58:00 Hail: INFO: Coerced sorted dataset\n",
      "2019-12-29 12:58:34 Hail: INFO: Coerced sorted dataset\n",
      "2019-12-29 13:01:03 Hail: INFO: Coerced sorted dataset\n",
      "2019-12-29 13:08:14 Hail: INFO: Coerced sorted dataset\n",
      "2019-12-29 13:08:14 Hail: INFO: Coerced dataset with out-of-order partitions.\n"
     ]
    },
    {
     "data": {
      "text/html": [
       "<table><thead style=\"font-weight: bold;\"><tr><td>s</td><td>n</td></tr>\n",
       "<tr><td>str</td><td>int64</td></tr>\n",
       "</thead><tbody><tr><td>&quot;TWGS1_1&quot;</td><td>11</td></tr>\n",
       "<tr><td>&quot;TWGS2_1&quot;</td><td>28</td></tr>\n",
       "<tr><td>&quot;TWGS3_1&quot;</td><td>13</td></tr>\n",
       "<tr><td>&quot;TWGS4_1&quot;</td><td>29</td></tr>\n",
       "<tr><td>&quot;TWGS5_1&quot;</td><td>33</td></tr>\n",
       "<tr><td>&quot;TWGS6_1&quot;</td><td>28</td></tr>\n",
       "<tr><td>&quot;TWGS7_1&quot;</td><td>14</td></tr>\n",
       "<tr><td>&quot;TWGS8_1&quot;</td><td>8</td></tr>\n",
       "<tr><td>&quot;TWGS9_1&quot;</td><td>13</td></tr>\n",
       "</tbody></table>"
      ],
      "text/plain": [
       "+-----------+-------+\n",
       "| s         |     n |\n",
       "+-----------+-------+\n",
       "| str       | int64 |\n",
       "+-----------+-------+\n",
       "| \"TWGS1_1\" |    11 |\n",
       "| \"TWGS2_1\" |    28 |\n",
       "| \"TWGS3_1\" |    13 |\n",
       "| \"TWGS4_1\" |    29 |\n",
       "| \"TWGS5_1\" |    33 |\n",
       "| \"TWGS6_1\" |    28 |\n",
       "| \"TWGS7_1\" |    14 |\n",
       "| \"TWGS8_1\" |     8 |\n",
       "| \"TWGS9_1\" |    13 |\n",
       "+-----------+-------+"
      ]
     },
     "metadata": {},
     "output_type": "display_data"
    }
   ],
   "source": [
    "Tb_rett_SNP_HQdnv2.group_by(Tb_rett_SNP_HQdnv2.s).aggregate(n = hl.agg.count()).show(9)"
   ]
  },
  {
   "cell_type": "markdown",
   "metadata": {},
   "source": [
    "---"
   ]
  },
  {
   "cell_type": "code",
   "execution_count": 25,
   "metadata": {},
   "outputs": [],
   "source": [
    "## Indels DP parents >= 16, GQ parents >= 30/va_MQ >=60, 864 (16 * 27) ≤ Total DP ≤ 1350 (50 * 27)\n",
    "def make_tag_Indel(table):\n",
    "    temp = table\n",
    "    temp = temp.filter(temp.role!='1')\n",
    "    tag = temp.group_by(temp.locus, temp.alleles, temp.fam).aggregate(t1 = hl.agg.all(temp.GQ>=30),\n",
    "                                                                      t2 = hl.agg.all(temp.DP>=16))\n",
    "    tag = tag.annotate(t = hl.all(lambda x : x==True, [tag.t1, tag.t2]))\n",
    "    tag = tag.filter(tag.t==True)\n",
    "    return tag\n",
    "\n",
    "##ROCube\n",
    "tag_Indel_1 = make_tag_Indel(Tb_Indel_1)\n",
    "Tb_rett_Indel_HQdnv1 = Tb_rett_Indel_HQdnv1.semi_join(tag_Indel_1)\n",
    "Tb_rett_Indel_HQdnv1 = Tb_rett_Indel_HQdnv1.filter((Tb_rett_Indel_HQdnv1.info.MQ >=60)&\n",
    "                                                   (Tb_rett_Indel_HQdnv1.Total_DP>= 864)&\n",
    "                                                   (Tb_rett_Indel_HQdnv1.Total_DP<=1350))"
   ]
  },
  {
   "cell_type": "code",
   "execution_count": 29,
   "metadata": {
    "collapsed": true
   },
   "outputs": [
    {
     "name": "stderr",
     "output_type": "stream",
     "text": [
      "2019-12-29 13:08:32 Hail: INFO: Coerced sorted dataset\n",
      "2019-12-29 13:08:49 Hail: INFO: Coerced sorted dataset\n",
      "2019-12-29 13:09:34 Hail: INFO: Coerced sorted dataset\n",
      "2019-12-29 13:09:50 Hail: INFO: Coerced sorted dataset\n",
      "2019-12-29 13:10:07 Hail: INFO: Coerced sorted dataset\n",
      "2019-12-29 13:10:41 Hail: INFO: Coerced sorted dataset\n",
      "2019-12-29 13:13:13 Hail: INFO: Coerced sorted dataset\n",
      "2019-12-29 13:13:29 Hail: INFO: Coerced sorted dataset\n",
      "2019-12-29 13:13:45 Hail: INFO: Coerced sorted dataset\n",
      "2019-12-29 13:14:22 Hail: INFO: Coerced sorted dataset\n",
      "2019-12-29 13:14:39 Hail: INFO: Coerced sorted dataset\n",
      "2019-12-29 13:14:55 Hail: INFO: Coerced sorted dataset\n",
      "2019-12-29 13:15:29 Hail: INFO: Coerced sorted dataset\n",
      "2019-12-29 13:17:51 Hail: INFO: Coerced sorted dataset\n",
      "2019-12-29 13:18:07 Hail: INFO: Coerced sorted dataset\n",
      "2019-12-29 13:18:23 Hail: INFO: Coerced sorted dataset\n",
      "2019-12-29 13:19:08 Hail: INFO: Coerced sorted dataset\n",
      "2019-12-29 13:19:24 Hail: INFO: Coerced sorted dataset\n",
      "2019-12-29 13:19:41 Hail: INFO: Coerced sorted dataset\n",
      "2019-12-29 13:20:15 Hail: INFO: Coerced sorted dataset\n",
      "2019-12-29 13:22:46 Hail: INFO: Coerced sorted dataset\n",
      "2019-12-29 13:29:22 Hail: INFO: Ordering unsorted dataset with network shuffle\n"
     ]
    },
    {
     "data": {
      "text/html": [
       "<table><thead style=\"font-weight: bold;\"><tr><td>s</td><td>n</td></tr>\n",
       "<tr><td>str</td><td>int64</td></tr>\n",
       "</thead><tbody><tr><td>&quot;TWGS1_1&quot;</td><td>10</td></tr>\n",
       "<tr><td>&quot;TWGS2_1&quot;</td><td>6</td></tr>\n",
       "<tr><td>&quot;TWGS3_1&quot;</td><td>5</td></tr>\n",
       "<tr><td>&quot;TWGS4_1&quot;</td><td>6</td></tr>\n",
       "<tr><td>&quot;TWGS5_1&quot;</td><td>6</td></tr>\n",
       "<tr><td>&quot;TWGS6_1&quot;</td><td>9</td></tr>\n",
       "<tr><td>&quot;TWGS7_1&quot;</td><td>11</td></tr>\n",
       "<tr><td>&quot;TWGS8_1&quot;</td><td>12</td></tr>\n",
       "<tr><td>&quot;TWGS9_1&quot;</td><td>8</td></tr>\n",
       "</tbody></table>"
      ],
      "text/plain": [
       "+-----------+-------+\n",
       "| s         |     n |\n",
       "+-----------+-------+\n",
       "| str       | int64 |\n",
       "+-----------+-------+\n",
       "| \"TWGS1_1\" |    10 |\n",
       "| \"TWGS2_1\" |     6 |\n",
       "| \"TWGS3_1\" |     5 |\n",
       "| \"TWGS4_1\" |     6 |\n",
       "| \"TWGS5_1\" |     6 |\n",
       "| \"TWGS6_1\" |     9 |\n",
       "| \"TWGS7_1\" |    11 |\n",
       "| \"TWGS8_1\" |    12 |\n",
       "| \"TWGS9_1\" |     8 |\n",
       "+-----------+-------+"
      ]
     },
     "metadata": {},
     "output_type": "display_data"
    }
   ],
   "source": [
    "Tb_rett_Indel_HQdnv1.group_by(Tb_rett_Indel_HQdnv1.s).aggregate(n = hl.agg.count()).show(9)"
   ]
  },
  {
   "cell_type": "code",
   "execution_count": 26,
   "metadata": {},
   "outputs": [],
   "source": [
    "##슬라이드 기준\n",
    "tag_Indel_2 = make_tag_Indel(Tb_Indel_2)\n",
    "Tb_rett_Indel_HQdnv2 = Tb_rett_Indel_HQdnv2.semi_join(tag_Indel_2)\n",
    "Tb_rett_Indel_HQdnv2 = Tb_rett_Indel_HQdnv2.filter((Tb_rett_Indel_HQdnv2.info.MQ >=60)&\n",
    "                                                   (Tb_rett_Indel_HQdnv2.Total_DP>= 864)&\n",
    "                                                   (Tb_rett_Indel_HQdnv2.Total_DP<=1350))"
   ]
  },
  {
   "cell_type": "code",
   "execution_count": 31,
   "metadata": {
    "collapsed": true
   },
   "outputs": [
    {
     "name": "stderr",
     "output_type": "stream",
     "text": [
      "2019-12-29 13:29:40 Hail: INFO: Coerced sorted dataset\n",
      "2019-12-29 13:29:56 Hail: INFO: Coerced sorted dataset\n",
      "2019-12-29 13:30:40 Hail: INFO: Coerced sorted dataset\n",
      "2019-12-29 13:30:57 Hail: INFO: Coerced sorted dataset\n",
      "2019-12-29 13:31:13 Hail: INFO: Coerced sorted dataset\n",
      "2019-12-29 13:31:47 Hail: INFO: Coerced sorted dataset\n",
      "2019-12-29 13:34:16 Hail: INFO: Coerced sorted dataset\n",
      "2019-12-29 13:34:32 Hail: INFO: Coerced sorted dataset\n",
      "2019-12-29 13:34:49 Hail: INFO: Coerced sorted dataset\n",
      "2019-12-29 13:35:27 Hail: INFO: Coerced sorted dataset\n",
      "2019-12-29 13:35:44 Hail: INFO: Coerced sorted dataset\n",
      "2019-12-29 13:36:01 Hail: INFO: Coerced sorted dataset\n",
      "2019-12-29 13:36:36 Hail: INFO: Coerced sorted dataset\n",
      "2019-12-29 13:39:01 Hail: INFO: Coerced sorted dataset\n",
      "2019-12-29 13:39:18 Hail: INFO: Coerced sorted dataset\n",
      "2019-12-29 13:39:34 Hail: INFO: Coerced sorted dataset\n",
      "2019-12-29 13:40:17 Hail: INFO: Coerced sorted dataset\n",
      "2019-12-29 13:40:34 Hail: INFO: Coerced sorted dataset\n",
      "2019-12-29 13:40:50 Hail: INFO: Coerced sorted dataset\n",
      "2019-12-29 13:41:24 Hail: INFO: Coerced sorted dataset\n",
      "2019-12-29 13:43:54 Hail: INFO: Coerced sorted dataset\n",
      "2019-12-29 13:47:36 Hail: INFO: Coerced sorted dataset\n",
      "2019-12-29 13:47:36 Hail: INFO: Coerced dataset with out-of-order partitions.\n"
     ]
    },
    {
     "data": {
      "text/html": [
       "<table><thead style=\"font-weight: bold;\"><tr><td>s</td><td>n</td></tr>\n",
       "<tr><td>str</td><td>int64</td></tr>\n",
       "</thead><tbody><tr><td>&quot;TWGS1_1&quot;</td><td>4</td></tr>\n",
       "<tr><td>&quot;TWGS2_1&quot;</td><td>1</td></tr>\n",
       "<tr><td>&quot;TWGS3_1&quot;</td><td>3</td></tr>\n",
       "<tr><td>&quot;TWGS4_1&quot;</td><td>2</td></tr>\n",
       "<tr><td>&quot;TWGS5_1&quot;</td><td>4</td></tr>\n",
       "<tr><td>&quot;TWGS6_1&quot;</td><td>1</td></tr>\n",
       "<tr><td>&quot;TWGS7_1&quot;</td><td>6</td></tr>\n",
       "<tr><td>&quot;TWGS8_1&quot;</td><td>4</td></tr>\n",
       "<tr><td>&quot;TWGS9_1&quot;</td><td>4</td></tr>\n",
       "</tbody></table>"
      ],
      "text/plain": [
       "+-----------+-------+\n",
       "| s         |     n |\n",
       "+-----------+-------+\n",
       "| str       | int64 |\n",
       "+-----------+-------+\n",
       "| \"TWGS1_1\" |     4 |\n",
       "| \"TWGS2_1\" |     1 |\n",
       "| \"TWGS3_1\" |     3 |\n",
       "| \"TWGS4_1\" |     2 |\n",
       "| \"TWGS5_1\" |     4 |\n",
       "| \"TWGS6_1\" |     1 |\n",
       "| \"TWGS7_1\" |     6 |\n",
       "| \"TWGS8_1\" |     4 |\n",
       "| \"TWGS9_1\" |     4 |\n",
       "+-----------+-------+"
      ]
     },
     "metadata": {},
     "output_type": "display_data"
    }
   ],
   "source": [
    "Tb_rett_Indel_HQdnv2.group_by(Tb_rett_Indel_HQdnv2.s).aggregate(n = hl.agg.count()).show(9)"
   ]
  },
  {
   "cell_type": "markdown",
   "metadata": {},
   "source": [
    "#### 6. DNAse HS peak filtering"
   ]
  },
  {
   "cell_type": "code",
   "execution_count": 2,
   "metadata": {},
   "outputs": [
    {
     "name": "stderr",
     "output_type": "stream",
     "text": [
      "2020-01-28 13:45:05 Hail: INFO: Reading table with no type imputation\n",
      "  Loading column 'f0' as type 'str' (user-specified)\n",
      "  Loading column 'f1' as type 'int32' (user-specified)\n",
      "  Loading column 'f2' as type 'int32' (user-specified)\n",
      "  Loading column 'f3' as type 'str' (user-specified)\n",
      "  Loading column 'f4' as type 'str' (user-specified)\n",
      "\n"
     ]
    }
   ],
   "source": [
    "DNAse_HS_bed = hl.import_bed('/home/titan/Hail/rett/E082-DNase.hotspot.fdr0.01.broad.bed',\n",
    "                            contig_recoding={f'chr{i}':str(i) for i in [*range(1,23), 'X', 'Y']})\n"
   ]
  },
  {
   "cell_type": "code",
   "execution_count": 66,
   "metadata": {},
   "outputs": [
    {
     "data": {
      "text/html": [
       "<table><thead style=\"font-weight: bold;\"><tr><td>interval</td><td>target</td></tr>\n",
       "<tr><td>interval&lt;locus&lt;GRCh37&gt;&gt;</td><td>str</td></tr>\n",
       "</thead><tbody><tr><td>[1:10148-1:10317)</td><td>&quot;.&quot;</td></tr>\n",
       "<tr><td>[1:57223-1:57409)</td><td>&quot;.&quot;</td></tr>\n",
       "<tr><td>[1:235673-1:236034)</td><td>&quot;.&quot;</td></tr>\n",
       "<tr><td>[1:237719-1:237785)</td><td>&quot;.&quot;</td></tr>\n",
       "<tr><td>[1:521559-1:521614)</td><td>&quot;.&quot;</td></tr>\n",
       "<tr><td>[1:564619-1:564689)</td><td>&quot;.&quot;</td></tr>\n",
       "<tr><td>[1:568038-1:568090)</td><td>&quot;.&quot;</td></tr>\n",
       "<tr><td>[1:569891-1:569962)</td><td>&quot;.&quot;</td></tr>\n",
       "<tr><td>[1:713909-1:714345)</td><td>&quot;.&quot;</td></tr>\n",
       "<tr><td>[1:762785-1:763144)</td><td>&quot;.&quot;</td></tr>\n",
       "</tbody></table><p style=\"background: #fdd; padding: 0.4em;\">showing top 10 rows</p>\n"
      ],
      "text/plain": [
       "+-------------------------+--------+\n",
       "| interval                | target |\n",
       "+-------------------------+--------+\n",
       "| interval<locus<GRCh37>> | str    |\n",
       "+-------------------------+--------+\n",
       "| [1:10148-1:10317)       | \".\"    |\n",
       "| [1:57223-1:57409)       | \".\"    |\n",
       "| [1:235673-1:236034)     | \".\"    |\n",
       "| [1:237719-1:237785)     | \".\"    |\n",
       "| [1:521559-1:521614)     | \".\"    |\n",
       "| [1:564619-1:564689)     | \".\"    |\n",
       "| [1:568038-1:568090)     | \".\"    |\n",
       "| [1:569891-1:569962)     | \".\"    |\n",
       "| [1:713909-1:714345)     | \".\"    |\n",
       "| [1:762785-1:763144)     | \".\"    |\n",
       "+-------------------------+--------+\n",
       "showing top 10 rows"
      ]
     },
     "metadata": {},
     "output_type": "display_data"
    }
   ],
   "source": [
    "DNAse_HS_bed.show()"
   ]
  },
  {
   "cell_type": "code",
   "execution_count": 13,
   "metadata": {},
   "outputs": [
    {
     "data": {
      "text/plain": [
       "{'chr1': '1',\n",
       " 'chr2': '2',\n",
       " 'chr3': '3',\n",
       " 'chr4': '4',\n",
       " 'chr5': '5',\n",
       " 'chr6': '6',\n",
       " 'chr7': '7',\n",
       " 'chr8': '8',\n",
       " 'chr9': '9',\n",
       " 'chr10': '10',\n",
       " 'chr11': '11',\n",
       " 'chr12': '12',\n",
       " 'chr13': '13',\n",
       " 'chr14': '14',\n",
       " 'chr15': '15',\n",
       " 'chr16': '16',\n",
       " 'chr17': '17',\n",
       " 'chr18': '18',\n",
       " 'chr19': '19',\n",
       " 'chr20': '20',\n",
       " 'chr21': '21',\n",
       " 'chr22': '22',\n",
       " 'chrX': 'X',\n",
       " 'chrY': 'Y',\n",
       " 'chrM': 'M'}"
      ]
     },
     "execution_count": 13,
     "metadata": {},
     "output_type": "execute_result"
    }
   ],
   "source": [
    "{f'chr{i}':str(i) for i in [*range(1,23), 'X', 'Y', 'M']}"
   ]
  },
  {
   "cell_type": "code",
   "execution_count": 27,
   "metadata": {},
   "outputs": [
    {
     "name": "stderr",
     "output_type": "stream",
     "text": [
      "2020-01-29 13:50:56 Hail: INFO: Reading table with no type imputation\n",
      "  Loading column 'f0' as type 'str' (user-specified)\n",
      "  Loading column 'f1' as type 'int32' (user-specified)\n",
      "  Loading column 'f2' as type 'int32' (user-specified)\n",
      "  Loading column 'f3' as type 'str' (user-specified)\n",
      "  Loading column 'f4' as type 'str' (user-specified)\n",
      "  Loading column 'f5' as type 'str' (type not specified)\n",
      "\n"
     ]
    }
   ],
   "source": [
    "# bed file is a Table (only contains global and row fields)\n",
    "adrenal_1 = hl.import_bed('/home/titan/Hail/rett/adrenal_gland_fetal/GSM1027310_UW.Fetal_Adrenal_Gland.ChromatinAccessibility.H-24272.DNase.DS19395.bed',\n",
    "                            skip_invalid_intervals=True, contig_recoding={'chr1':'1', 'chr2':'2', 'chr3':'3','chr4':'4', 'chr5':'5', 'chr6':'6','chr7':'7', 'chr8':'8', 'chr9':'9', 'chr10':'10', 'chr11':'11', 'chr12':'12', 'chr13':'13','chr14':'14', 'chr15':'15', 'chr16':'16','chr17':'17', 'chr18':'18', 'chr19':'19','chr20':'20','chr21':'21', 'chr22':'22', 'chrX':'X', 'chrY':'Y', 'chrM':'MT'})\n",
    "# import chr1 -> 1  , chrM -> MT (mitochondria)\n",
    "# skip out of range MT peak"
   ]
  },
  {
   "cell_type": "code",
   "execution_count": 24,
   "metadata": {},
   "outputs": [
    {
     "data": {
      "text/html": [
       "<table><thead style=\"font-weight: bold;\"><tr><td>interval</td><td>target</td></tr>\n",
       "<tr><td>interval&lt;locus&lt;GRCh37&gt;&gt;</td><td>str</td></tr>\n",
       "</thead><tbody><tr><td>[1:10001-1:10035)</td><td>&quot;HWI-ST700693:197:D0A3LACXX:1:2203:9186:125677&quot;</td></tr>\n",
       "<tr><td>[1:10151-1:10186)</td><td>&quot;HWI-ST700693:197:D0A3LACXX:1:2301:12999:45890&quot;</td></tr>\n",
       "<tr><td>[1:10152-1:10187)</td><td>&quot;HWI-ST700693:197:D0A3LACXX:1:1102:2955:22648&quot;</td></tr>\n",
       "<tr><td>[1:10156-1:10188)</td><td>&quot;HWI-ST700693:197:D0A3LACXX:1:2303:10322:103885&quot;</td></tr>\n",
       "<tr><td>[1:10157-1:10191)</td><td>&quot;HWI-ST700693:197:D0A3LACXX:1:1207:13529:73916&quot;</td></tr>\n",
       "<tr><td>[1:10158-1:10193)</td><td>&quot;HWI-ST700693:197:D0A3LACXX:1:2308:4356:12656&quot;</td></tr>\n",
       "<tr><td>[1:10161-1:10196)</td><td>&quot;HWI-ST700693:117:C049MABXX:2:1106:20309:175894&quot;</td></tr>\n",
       "<tr><td>[1:10232-1:10267)</td><td>&quot;HWI-ST700693:117:C049MABXX:2:2202:8480:52407&quot;</td></tr>\n",
       "<tr><td>[1:10233-1:10267)</td><td>&quot;HWI-ST700693:197:D0A3LACXX:1:1306:16923:129689&quot;</td></tr>\n",
       "<tr><td>[1:10234-1:10269)</td><td>&quot;HWI-ST700693:117:C049MABXX:2:1105:17485:170755&quot;</td></tr>\n",
       "</tbody></table><p style=\"background: #fdd; padding: 0.4em;\">showing top 10 rows</p>\n"
      ],
      "text/plain": [
       "+-------------------------+--------------------------------------------------+\n",
       "| interval                | target                                           |\n",
       "+-------------------------+--------------------------------------------------+\n",
       "| interval<locus<GRCh37>> | str                                              |\n",
       "+-------------------------+--------------------------------------------------+\n",
       "| [1:10001-1:10035)       | \"HWI-ST700693:197:D0A3LACXX:1:2203:9186:125677\"  |\n",
       "| [1:10151-1:10186)       | \"HWI-ST700693:197:D0A3LACXX:1:2301:12999:45890\"  |\n",
       "| [1:10152-1:10187)       | \"HWI-ST700693:197:D0A3LACXX:1:1102:2955:22648\"   |\n",
       "| [1:10156-1:10188)       | \"HWI-ST700693:197:D0A3LACXX:1:2303:10322:103885\" |\n",
       "| [1:10157-1:10191)       | \"HWI-ST700693:197:D0A3LACXX:1:1207:13529:73916\"  |\n",
       "| [1:10158-1:10193)       | \"HWI-ST700693:197:D0A3LACXX:1:2308:4356:12656\"   |\n",
       "| [1:10161-1:10196)       | \"HWI-ST700693:117:C049MABXX:2:1106:20309:175894\" |\n",
       "| [1:10232-1:10267)       | \"HWI-ST700693:117:C049MABXX:2:2202:8480:52407\"   |\n",
       "| [1:10233-1:10267)       | \"HWI-ST700693:197:D0A3LACXX:1:1306:16923:129689\" |\n",
       "| [1:10234-1:10269)       | \"HWI-ST700693:117:C049MABXX:2:1105:17485:170755\" |\n",
       "+-------------------------+--------------------------------------------------+\n",
       "showing top 10 rows"
      ]
     },
     "metadata": {},
     "output_type": "display_data"
    }
   ],
   "source": [
    "adrenal_1.show()"
   ]
  },
  {
   "cell_type": "code",
   "execution_count": 63,
   "metadata": {},
   "outputs": [
    {
     "data": {
      "text/plain": [
       "True"
      ]
     },
     "execution_count": 63,
     "metadata": {},
     "output_type": "execute_result"
    }
   ],
   "source": [
    "hl.eval(hl.is_valid_contig('chrM', 'GRCh38'))"
   ]
  },
  {
   "cell_type": "markdown",
   "metadata": {},
   "source": [
    "#### liftover(hg19 --> hg38)"
   ]
  },
  {
   "cell_type": "code",
   "execution_count": 12,
   "metadata": {
    "collapsed": true
   },
   "outputs": [
    {
     "data": {
      "text/plain": [
       "['1',\n",
       " '2',\n",
       " '3',\n",
       " '4',\n",
       " '5',\n",
       " '6',\n",
       " '7',\n",
       " '8',\n",
       " '9',\n",
       " '10',\n",
       " '11',\n",
       " '12',\n",
       " '13',\n",
       " '14',\n",
       " '15',\n",
       " '16',\n",
       " '17',\n",
       " '18',\n",
       " '19',\n",
       " '20',\n",
       " '21',\n",
       " '22',\n",
       " 'X',\n",
       " 'Y',\n",
       " 'MT',\n",
       " 'GL000207.1',\n",
       " 'GL000226.1',\n",
       " 'GL000229.1',\n",
       " 'GL000231.1',\n",
       " 'GL000210.1',\n",
       " 'GL000239.1',\n",
       " 'GL000235.1',\n",
       " 'GL000201.1',\n",
       " 'GL000247.1',\n",
       " 'GL000245.1',\n",
       " 'GL000197.1',\n",
       " 'GL000203.1',\n",
       " 'GL000246.1',\n",
       " 'GL000249.1',\n",
       " 'GL000196.1',\n",
       " 'GL000248.1',\n",
       " 'GL000244.1',\n",
       " 'GL000238.1',\n",
       " 'GL000202.1',\n",
       " 'GL000234.1',\n",
       " 'GL000232.1',\n",
       " 'GL000206.1',\n",
       " 'GL000240.1',\n",
       " 'GL000236.1',\n",
       " 'GL000241.1',\n",
       " 'GL000243.1',\n",
       " 'GL000242.1',\n",
       " 'GL000230.1',\n",
       " 'GL000237.1',\n",
       " 'GL000233.1',\n",
       " 'GL000204.1',\n",
       " 'GL000198.1',\n",
       " 'GL000208.1',\n",
       " 'GL000191.1',\n",
       " 'GL000227.1',\n",
       " 'GL000228.1',\n",
       " 'GL000214.1',\n",
       " 'GL000221.1',\n",
       " 'GL000209.1',\n",
       " 'GL000218.1',\n",
       " 'GL000220.1',\n",
       " 'GL000213.1',\n",
       " 'GL000211.1',\n",
       " 'GL000199.1',\n",
       " 'GL000217.1',\n",
       " 'GL000216.1',\n",
       " 'GL000215.1',\n",
       " 'GL000205.1',\n",
       " 'GL000219.1',\n",
       " 'GL000224.1',\n",
       " 'GL000223.1',\n",
       " 'GL000195.1',\n",
       " 'GL000212.1',\n",
       " 'GL000222.1',\n",
       " 'GL000200.1',\n",
       " 'GL000193.1',\n",
       " 'GL000194.1',\n",
       " 'GL000225.1',\n",
       " 'GL000192.1']"
      ]
     },
     "execution_count": 12,
     "metadata": {},
     "output_type": "execute_result"
    }
   ],
   "source": [
    "rg37.contigs"
   ]
  },
  {
   "cell_type": "code",
   "execution_count": 28,
   "metadata": {},
   "outputs": [],
   "source": [
    "rg37 = hl.get_reference('GRCh37')\n",
    "rg38 = hl.get_reference('GRCh38')\n",
    "rg37.add_liftover('/home/titan/resources/grch37_to_grch38.over.chain.gz', rg38) "
   ]
  },
  {
   "cell_type": "code",
   "execution_count": 5,
   "metadata": {},
   "outputs": [],
   "source": [
    "DNAse_HS_bed = DNAse_HS_bed.annotate(new_interval=hl.liftover(DNAse_HS_bed.interval, 'GRCh38'))  \n",
    "DNAse_HS_bed = DNAse_HS_bed.filter(hl.is_defined(DNAse_HS_bed.new_interval))  \n",
    "DNAse_HS_bed = DNAse_HS_bed.key_by(interval =DNAse_HS_bed.new_interval)"
   ]
  },
  {
   "cell_type": "code",
   "execution_count": 52,
   "metadata": {},
   "outputs": [
    {
     "data": {
      "text/html": [
       "<table><thead style=\"font-weight: bold;\"><tr><td>interval</td><td>target</td><td>new_interval</td></tr>\n",
       "<tr><td>interval&lt;locus&lt;GRCh38&gt;&gt;</td><td>str</td><td>interval&lt;locus&lt;GRCh38&gt;&gt;</td></tr>\n",
       "</thead><tbody><tr><td>[chr1:10148-chr1:10316]</td><td>&quot;.&quot;</td><td>[chr1:10148-chr1:10316]</td></tr>\n",
       "<tr><td>[chr1:57223-chr1:57408]</td><td>&quot;.&quot;</td><td>[chr1:57223-chr1:57408]</td></tr>\n",
       "<tr><td>[chr1:265922-chr1:266282]</td><td>&quot;.&quot;</td><td>[chr1:265922-chr1:266282]</td></tr>\n",
       "<tr><td>[chr1:267968-chr1:268033]</td><td>&quot;.&quot;</td><td>[chr1:267968-chr1:268033]</td></tr>\n",
       "<tr><td>[chr1:586179-chr1:586233]</td><td>&quot;.&quot;</td><td>[chr1:586179-chr1:586233]</td></tr>\n",
       "<tr><td>[chr1:629239-chr1:629308]</td><td>&quot;.&quot;</td><td>[chr1:629239-chr1:629308]</td></tr>\n",
       "<tr><td>[chr1:632658-chr1:632709]</td><td>&quot;.&quot;</td><td>[chr1:632658-chr1:632709]</td></tr>\n",
       "<tr><td>[chr1:634511-chr1:634581]</td><td>&quot;.&quot;</td><td>[chr1:634511-chr1:634581]</td></tr>\n",
       "<tr><td>[chr1:778529-chr1:778964]</td><td>&quot;.&quot;</td><td>[chr1:778529-chr1:778964]</td></tr>\n",
       "<tr><td>[chr1:827405-chr1:827763]</td><td>&quot;.&quot;</td><td>[chr1:827405-chr1:827763]</td></tr>\n",
       "</tbody></table><p style=\"background: #fdd; padding: 0.4em;\">showing top 10 rows</p>\n"
      ],
      "text/plain": [
       "+---------------------------+--------+---------------------------+\n",
       "| interval                  | target | new_interval              |\n",
       "+---------------------------+--------+---------------------------+\n",
       "| interval<locus<GRCh38>>   | str    | interval<locus<GRCh38>>   |\n",
       "+---------------------------+--------+---------------------------+\n",
       "| [chr1:10148-chr1:10316]   | \".\"    | [chr1:10148-chr1:10316]   |\n",
       "| [chr1:57223-chr1:57408]   | \".\"    | [chr1:57223-chr1:57408]   |\n",
       "| [chr1:265922-chr1:266282] | \".\"    | [chr1:265922-chr1:266282] |\n",
       "| [chr1:267968-chr1:268033] | \".\"    | [chr1:267968-chr1:268033] |\n",
       "| [chr1:586179-chr1:586233] | \".\"    | [chr1:586179-chr1:586233] |\n",
       "| [chr1:629239-chr1:629308] | \".\"    | [chr1:629239-chr1:629308] |\n",
       "| [chr1:632658-chr1:632709] | \".\"    | [chr1:632658-chr1:632709] |\n",
       "| [chr1:634511-chr1:634581] | \".\"    | [chr1:634511-chr1:634581] |\n",
       "| [chr1:778529-chr1:778964] | \".\"    | [chr1:778529-chr1:778964] |\n",
       "| [chr1:827405-chr1:827763] | \".\"    | [chr1:827405-chr1:827763] |\n",
       "+---------------------------+--------+---------------------------+\n",
       "showing top 10 rows"
      ]
     },
     "metadata": {},
     "output_type": "display_data"
    }
   ],
   "source": [
    "DNAse_HS_bed.show()"
   ]
  },
  {
   "cell_type": "code",
   "execution_count": 29,
   "metadata": {},
   "outputs": [],
   "source": [
    "adrenal_1 = adrenal_1.annotate(new_interval=hl.liftover(adrenal_1.interval, 'GRCh38'))  \n",
    "adrenal_1 = adrenal_1.filter(hl.is_defined(adrenal_1.new_interval))  \n",
    "adrenal_1 = adrenal_1.key_by(interval =adrenal_1.new_interval)"
   ]
  },
  {
   "cell_type": "code",
   "execution_count": 26,
   "metadata": {},
   "outputs": [
    {
     "data": {
      "text/html": [
       "<table><thead style=\"font-weight: bold;\"><tr><td>interval</td><td>target</td><td>new_interval</td></tr>\n",
       "<tr><td>interval&lt;locus&lt;GRCh38&gt;&gt;</td><td>str</td><td>interval&lt;locus&lt;GRCh38&gt;&gt;</td></tr>\n",
       "</thead><tbody><tr><td>[chr1:10001-chr1:10034]</td><td>&quot;HWI-ST700693:197:D0A3LACXX:1:2203:9186:125677&quot;</td><td>[chr1:10001-chr1:10034]</td></tr>\n",
       "<tr><td>[chr1:10151-chr1:10185]</td><td>&quot;HWI-ST700693:197:D0A3LACXX:1:2301:12999:45890&quot;</td><td>[chr1:10151-chr1:10185]</td></tr>\n",
       "<tr><td>[chr1:10152-chr1:10186]</td><td>&quot;HWI-ST700693:197:D0A3LACXX:1:1102:2955:22648&quot;</td><td>[chr1:10152-chr1:10186]</td></tr>\n",
       "<tr><td>[chr1:10156-chr1:10187]</td><td>&quot;HWI-ST700693:197:D0A3LACXX:1:2303:10322:103885&quot;</td><td>[chr1:10156-chr1:10187]</td></tr>\n",
       "<tr><td>[chr1:10157-chr1:10190]</td><td>&quot;HWI-ST700693:197:D0A3LACXX:1:1207:13529:73916&quot;</td><td>[chr1:10157-chr1:10190]</td></tr>\n",
       "<tr><td>[chr1:10158-chr1:10192]</td><td>&quot;HWI-ST700693:197:D0A3LACXX:1:2308:4356:12656&quot;</td><td>[chr1:10158-chr1:10192]</td></tr>\n",
       "<tr><td>[chr1:10161-chr1:10195]</td><td>&quot;HWI-ST700693:117:C049MABXX:2:1106:20309:175894&quot;</td><td>[chr1:10161-chr1:10195]</td></tr>\n",
       "<tr><td>[chr1:10232-chr1:10266]</td><td>&quot;HWI-ST700693:117:C049MABXX:2:2202:8480:52407&quot;</td><td>[chr1:10232-chr1:10266]</td></tr>\n",
       "<tr><td>[chr1:10233-chr1:10266]</td><td>&quot;HWI-ST700693:197:D0A3LACXX:1:1306:16923:129689&quot;</td><td>[chr1:10233-chr1:10266]</td></tr>\n",
       "<tr><td>[chr1:10234-chr1:10268]</td><td>&quot;HWI-ST700693:117:C049MABXX:2:1105:17485:170755&quot;</td><td>[chr1:10234-chr1:10268]</td></tr>\n",
       "</tbody></table><p style=\"background: #fdd; padding: 0.4em;\">showing top 10 rows</p>\n"
      ],
      "text/plain": [
       "+-------------------------+--------------------------------------------------+\n",
       "| interval                | target                                           |\n",
       "+-------------------------+--------------------------------------------------+\n",
       "| interval<locus<GRCh38>> | str                                              |\n",
       "+-------------------------+--------------------------------------------------+\n",
       "| [chr1:10001-chr1:10034] | \"HWI-ST700693:197:D0A3LACXX:1:2203:9186:125677\"  |\n",
       "| [chr1:10151-chr1:10185] | \"HWI-ST700693:197:D0A3LACXX:1:2301:12999:45890\"  |\n",
       "| [chr1:10152-chr1:10186] | \"HWI-ST700693:197:D0A3LACXX:1:1102:2955:22648\"   |\n",
       "| [chr1:10156-chr1:10187] | \"HWI-ST700693:197:D0A3LACXX:1:2303:10322:103885\" |\n",
       "| [chr1:10157-chr1:10190] | \"HWI-ST700693:197:D0A3LACXX:1:1207:13529:73916\"  |\n",
       "| [chr1:10158-chr1:10192] | \"HWI-ST700693:197:D0A3LACXX:1:2308:4356:12656\"   |\n",
       "| [chr1:10161-chr1:10195] | \"HWI-ST700693:117:C049MABXX:2:1106:20309:175894\" |\n",
       "| [chr1:10232-chr1:10266] | \"HWI-ST700693:117:C049MABXX:2:2202:8480:52407\"   |\n",
       "| [chr1:10233-chr1:10266] | \"HWI-ST700693:197:D0A3LACXX:1:1306:16923:129689\" |\n",
       "| [chr1:10234-chr1:10268] | \"HWI-ST700693:117:C049MABXX:2:1105:17485:170755\" |\n",
       "+-------------------------+--------------------------------------------------+\n",
       "\n",
       "+-------------------------+\n",
       "| new_interval            |\n",
       "+-------------------------+\n",
       "| interval<locus<GRCh38>> |\n",
       "+-------------------------+\n",
       "| [chr1:10001-chr1:10034] |\n",
       "| [chr1:10151-chr1:10185] |\n",
       "| [chr1:10152-chr1:10186] |\n",
       "| [chr1:10156-chr1:10187] |\n",
       "| [chr1:10157-chr1:10190] |\n",
       "| [chr1:10158-chr1:10192] |\n",
       "| [chr1:10161-chr1:10195] |\n",
       "| [chr1:10232-chr1:10266] |\n",
       "| [chr1:10233-chr1:10266] |\n",
       "| [chr1:10234-chr1:10268] |\n",
       "+-------------------------+\n",
       "showing top 10 rows"
      ]
     },
     "metadata": {},
     "output_type": "display_data"
    }
   ],
   "source": [
    "adrenal_1.show()"
   ]
  },
  {
   "cell_type": "markdown",
   "metadata": {},
   "source": [
    "#### filtering"
   ]
  },
  {
   "cell_type": "code",
   "execution_count": 52,
   "metadata": {},
   "outputs": [],
   "source": [
    "Tb_rett_SNP_HQdnv1 = Tb_rett_SNP_HQdnv1.filter(hl.is_defined(DNAse_HS_bed[Tb_rett_SNP_HQdnv1.locus]))\n",
    "Tb_rett_SNP_HQdnv2 = Tb_rett_SNP_HQdnv2.filter(hl.is_defined(DNAse_HS_bed[Tb_rett_SNP_HQdnv2.locus]))\n",
    "Tb_rett_Indel_HQdnv1 = Tb_rett_Indel_HQdnv1.filter(hl.is_defined(DNAse_HS_bed[Tb_rett_Indel_HQdnv1.locus]))\n",
    "Tb_rett_Indel_HQdnv2 = Tb_rett_Indel_HQdnv2.filter(hl.is_defined(DNAse_HS_bed[Tb_rett_Indel_HQdnv2.locus]))"
   ]
  },
  {
   "cell_type": "code",
   "execution_count": 37,
   "metadata": {},
   "outputs": [
    {
     "name": "stderr",
     "output_type": "stream",
     "text": [
      "2020-01-22 14:50:39 Hail: INFO: Coerced sorted dataset\n",
      "2020-01-22 14:51:10 Hail: INFO: Coerced sorted dataset\n",
      "2020-01-22 14:52:20 Hail: INFO: Coerced sorted dataset\n",
      "2020-01-22 14:52:50 Hail: INFO: Coerced sorted dataset\n",
      "2020-01-22 14:53:20 Hail: INFO: Coerced sorted dataset\n",
      "2020-01-22 14:54:26 Hail: INFO: Coerced sorted dataset\n",
      "2020-01-22 14:59:14 Hail: INFO: Coerced sorted dataset\n",
      "2020-01-22 14:59:45 Hail: INFO: Coerced sorted dataset\n",
      "2020-01-22 15:00:17 Hail: INFO: Coerced sorted dataset\n",
      "2020-01-22 15:01:38 Hail: INFO: Coerced sorted dataset\n",
      "2020-01-22 15:02:09 Hail: INFO: Coerced sorted dataset\n",
      "2020-01-22 15:02:42 Hail: INFO: Coerced sorted dataset\n",
      "2020-01-22 15:03:48 Hail: INFO: Coerced sorted dataset\n",
      "2020-01-22 15:08:26 Hail: INFO: Coerced sorted dataset\n",
      "2020-01-22 15:08:57 Hail: INFO: Coerced sorted dataset\n",
      "2020-01-22 15:09:29 Hail: INFO: Coerced sorted dataset\n",
      "2020-01-22 15:10:50 Hail: INFO: Coerced sorted dataset\n",
      "2020-01-22 15:11:20 Hail: INFO: Coerced sorted dataset\n",
      "2020-01-22 15:11:51 Hail: INFO: Coerced sorted dataset\n",
      "2020-01-22 15:12:56 Hail: INFO: Coerced sorted dataset\n",
      "2020-01-22 15:17:43 Hail: INFO: Coerced sorted dataset\n",
      "2020-01-22 15:17:44 Hail: INFO: Ordering unsorted dataset with network shuffle\n",
      "2020-01-22 15:28:51 Hail: INFO: Coerced sorted dataset\n",
      "2020-01-22 15:28:51 Hail: INFO: Coerced dataset with out-of-order partitions.\n"
     ]
    },
    {
     "data": {
      "text/html": [
       "<table><thead style=\"font-weight: bold;\"><tr><td>s</td><td>n</td></tr>\n",
       "<tr><td>str</td><td>int64</td></tr>\n",
       "</thead><tbody><tr><td>&quot;TWGS1_1&quot;</td><td>1</td></tr>\n",
       "<tr><td>&quot;TWGS2_1&quot;</td><td>1</td></tr>\n",
       "<tr><td>&quot;TWGS4_1&quot;</td><td>1</td></tr>\n",
       "<tr><td>&quot;TWGS5_1&quot;</td><td>2</td></tr>\n",
       "<tr><td>&quot;TWGS8_1&quot;</td><td>1</td></tr>\n",
       "<tr><td>&quot;TWGS9_1&quot;</td><td>1</td></tr>\n",
       "</tbody></table>"
      ],
      "text/plain": [
       "+-----------+-------+\n",
       "| s         |     n |\n",
       "+-----------+-------+\n",
       "| str       | int64 |\n",
       "+-----------+-------+\n",
       "| \"TWGS1_1\" |     1 |\n",
       "| \"TWGS2_1\" |     1 |\n",
       "| \"TWGS4_1\" |     1 |\n",
       "| \"TWGS5_1\" |     2 |\n",
       "| \"TWGS8_1\" |     1 |\n",
       "| \"TWGS9_1\" |     1 |\n",
       "+-----------+-------+"
      ]
     },
     "metadata": {},
     "output_type": "display_data"
    }
   ],
   "source": [
    "Tb_rett_SNP_HQdnv1.group_by(Tb_rett_SNP_HQdnv1.s).aggregate(n = hl.agg.count()).show(9)"
   ]
  },
  {
   "cell_type": "code",
   "execution_count": 30,
   "metadata": {},
   "outputs": [],
   "source": [
    "Tb_rett_SNP_HQdnv1_adrenal_1 = Tb_rett_SNP_HQdnv1.filter(hl.is_defined(adrenal_1[Tb_rett_SNP_HQdnv1.locus]))\n",
    "Tb_rett_SNP_HQdnv2_adrenal_1 = Tb_rett_SNP_HQdnv2.filter(hl.is_defined(adrenal_1[Tb_rett_SNP_HQdnv2.locus]))\n",
    "Tb_rett_Indel_HQdnv1_adrenal_1 = Tb_rett_Indel_HQdnv1.filter(hl.is_defined(adrenal_1[Tb_rett_Indel_HQdnv1.locus]))\n",
    "Tb_rett_Indel_HQdnv2_adrenal_1 = Tb_rett_Indel_HQdnv2.filter(hl.is_defined(adrenal_1[Tb_rett_Indel_HQdnv2.locus]))"
   ]
  },
  {
   "cell_type": "code",
   "execution_count": 34,
   "metadata": {},
   "outputs": [
    {
     "name": "stderr",
     "output_type": "stream",
     "text": [
      "ERROR:py4j.java_gateway:An error occurred while trying to connect to the Java server (127.0.0.1:42519)\n",
      "Traceback (most recent call last):\n",
      "  File \"/home/titan/Downloads/miniconda3/envs/hail/lib/python3.7/site-packages/py4j/java_gateway.py\", line 929, in _get_connection\n",
      "    connection = self.deque.pop()\n",
      "IndexError: pop from an empty deque\n",
      "\n",
      "During handling of the above exception, another exception occurred:\n",
      "\n",
      "Traceback (most recent call last):\n",
      "  File \"/home/titan/Downloads/miniconda3/envs/hail/lib/python3.7/site-packages/py4j/java_gateway.py\", line 1067, in start\n",
      "    self.socket.connect((self.address, self.port))\n",
      "ConnectionRefusedError: [Errno 111] Connection refused\n"
     ]
    },
    {
     "ename": "Py4JNetworkError",
     "evalue": "An error occurred while trying to connect to the Java server (127.0.0.1:42519)",
     "output_type": "error",
     "traceback": [
      "\u001b[0;31m---------------------------------------------------------------------------\u001b[0m",
      "\u001b[0;31mIndexError\u001b[0m                                Traceback (most recent call last)",
      "\u001b[0;32m~/Downloads/miniconda3/envs/hail/lib/python3.7/site-packages/py4j/java_gateway.py\u001b[0m in \u001b[0;36m_get_connection\u001b[0;34m(self)\u001b[0m\n\u001b[1;32m    928\u001b[0m         \u001b[0;32mtry\u001b[0m\u001b[0;34m:\u001b[0m\u001b[0;34m\u001b[0m\u001b[0;34m\u001b[0m\u001b[0m\n\u001b[0;32m--> 929\u001b[0;31m             \u001b[0mconnection\u001b[0m \u001b[0;34m=\u001b[0m \u001b[0mself\u001b[0m\u001b[0;34m.\u001b[0m\u001b[0mdeque\u001b[0m\u001b[0;34m.\u001b[0m\u001b[0mpop\u001b[0m\u001b[0;34m(\u001b[0m\u001b[0;34m)\u001b[0m\u001b[0;34m\u001b[0m\u001b[0;34m\u001b[0m\u001b[0m\n\u001b[0m\u001b[1;32m    930\u001b[0m         \u001b[0;32mexcept\u001b[0m \u001b[0mIndexError\u001b[0m\u001b[0;34m:\u001b[0m\u001b[0;34m\u001b[0m\u001b[0;34m\u001b[0m\u001b[0m\n",
      "\u001b[0;31mIndexError\u001b[0m: pop from an empty deque",
      "\nDuring handling of the above exception, another exception occurred:\n",
      "\u001b[0;31mConnectionRefusedError\u001b[0m                    Traceback (most recent call last)",
      "\u001b[0;32m~/Downloads/miniconda3/envs/hail/lib/python3.7/site-packages/py4j/java_gateway.py\u001b[0m in \u001b[0;36mstart\u001b[0;34m(self)\u001b[0m\n\u001b[1;32m   1066\u001b[0m         \u001b[0;32mtry\u001b[0m\u001b[0;34m:\u001b[0m\u001b[0;34m\u001b[0m\u001b[0;34m\u001b[0m\u001b[0m\n\u001b[0;32m-> 1067\u001b[0;31m             \u001b[0mself\u001b[0m\u001b[0;34m.\u001b[0m\u001b[0msocket\u001b[0m\u001b[0;34m.\u001b[0m\u001b[0mconnect\u001b[0m\u001b[0;34m(\u001b[0m\u001b[0;34m(\u001b[0m\u001b[0mself\u001b[0m\u001b[0;34m.\u001b[0m\u001b[0maddress\u001b[0m\u001b[0;34m,\u001b[0m \u001b[0mself\u001b[0m\u001b[0;34m.\u001b[0m\u001b[0mport\u001b[0m\u001b[0;34m)\u001b[0m\u001b[0;34m)\u001b[0m\u001b[0;34m\u001b[0m\u001b[0;34m\u001b[0m\u001b[0m\n\u001b[0m\u001b[1;32m   1068\u001b[0m             \u001b[0mself\u001b[0m\u001b[0;34m.\u001b[0m\u001b[0mstream\u001b[0m \u001b[0;34m=\u001b[0m \u001b[0mself\u001b[0m\u001b[0;34m.\u001b[0m\u001b[0msocket\u001b[0m\u001b[0;34m.\u001b[0m\u001b[0mmakefile\u001b[0m\u001b[0;34m(\u001b[0m\u001b[0;34m\"rb\"\u001b[0m\u001b[0;34m)\u001b[0m\u001b[0;34m\u001b[0m\u001b[0;34m\u001b[0m\u001b[0m\n",
      "\u001b[0;31mConnectionRefusedError\u001b[0m: [Errno 111] Connection refused",
      "\nDuring handling of the above exception, another exception occurred:\n",
      "\u001b[0;31mPy4JNetworkError\u001b[0m                          Traceback (most recent call last)",
      "\u001b[0;32m~/Downloads/miniconda3/envs/hail/lib/python3.7/site-packages/IPython/core/formatters.py\u001b[0m in \u001b[0;36m__call__\u001b[0;34m(self, obj)\u001b[0m\n\u001b[1;32m    700\u001b[0m                 \u001b[0mtype_pprinters\u001b[0m\u001b[0;34m=\u001b[0m\u001b[0mself\u001b[0m\u001b[0;34m.\u001b[0m\u001b[0mtype_printers\u001b[0m\u001b[0;34m,\u001b[0m\u001b[0;34m\u001b[0m\u001b[0;34m\u001b[0m\u001b[0m\n\u001b[1;32m    701\u001b[0m                 deferred_pprinters=self.deferred_printers)\n\u001b[0;32m--> 702\u001b[0;31m             \u001b[0mprinter\u001b[0m\u001b[0;34m.\u001b[0m\u001b[0mpretty\u001b[0m\u001b[0;34m(\u001b[0m\u001b[0mobj\u001b[0m\u001b[0;34m)\u001b[0m\u001b[0;34m\u001b[0m\u001b[0;34m\u001b[0m\u001b[0m\n\u001b[0m\u001b[1;32m    703\u001b[0m             \u001b[0mprinter\u001b[0m\u001b[0;34m.\u001b[0m\u001b[0mflush\u001b[0m\u001b[0;34m(\u001b[0m\u001b[0;34m)\u001b[0m\u001b[0;34m\u001b[0m\u001b[0;34m\u001b[0m\u001b[0m\n\u001b[1;32m    704\u001b[0m             \u001b[0;32mreturn\u001b[0m \u001b[0mstream\u001b[0m\u001b[0;34m.\u001b[0m\u001b[0mgetvalue\u001b[0m\u001b[0;34m(\u001b[0m\u001b[0;34m)\u001b[0m\u001b[0;34m\u001b[0m\u001b[0;34m\u001b[0m\u001b[0m\n",
      "\u001b[0;32m~/Downloads/miniconda3/envs/hail/lib/python3.7/site-packages/IPython/lib/pretty.py\u001b[0m in \u001b[0;36mpretty\u001b[0;34m(self, obj)\u001b[0m\n\u001b[1;32m    397\u001b[0m                         \u001b[0;32mif\u001b[0m \u001b[0mcls\u001b[0m \u001b[0;32mis\u001b[0m \u001b[0;32mnot\u001b[0m \u001b[0mobject\u001b[0m\u001b[0;31m \u001b[0m\u001b[0;31m\\\u001b[0m\u001b[0;34m\u001b[0m\u001b[0;34m\u001b[0m\u001b[0m\n\u001b[1;32m    398\u001b[0m                                 \u001b[0;32mand\u001b[0m \u001b[0mcallable\u001b[0m\u001b[0;34m(\u001b[0m\u001b[0mcls\u001b[0m\u001b[0;34m.\u001b[0m\u001b[0m__dict__\u001b[0m\u001b[0;34m.\u001b[0m\u001b[0mget\u001b[0m\u001b[0;34m(\u001b[0m\u001b[0;34m'__repr__'\u001b[0m\u001b[0;34m)\u001b[0m\u001b[0;34m)\u001b[0m\u001b[0;34m:\u001b[0m\u001b[0;34m\u001b[0m\u001b[0;34m\u001b[0m\u001b[0m\n\u001b[0;32m--> 399\u001b[0;31m                             \u001b[0;32mreturn\u001b[0m \u001b[0m_repr_pprint\u001b[0m\u001b[0;34m(\u001b[0m\u001b[0mobj\u001b[0m\u001b[0;34m,\u001b[0m \u001b[0mself\u001b[0m\u001b[0;34m,\u001b[0m \u001b[0mcycle\u001b[0m\u001b[0;34m)\u001b[0m\u001b[0;34m\u001b[0m\u001b[0;34m\u001b[0m\u001b[0m\n\u001b[0m\u001b[1;32m    400\u001b[0m \u001b[0;34m\u001b[0m\u001b[0m\n\u001b[1;32m    401\u001b[0m             \u001b[0;32mreturn\u001b[0m \u001b[0m_default_pprint\u001b[0m\u001b[0;34m(\u001b[0m\u001b[0mobj\u001b[0m\u001b[0;34m,\u001b[0m \u001b[0mself\u001b[0m\u001b[0;34m,\u001b[0m \u001b[0mcycle\u001b[0m\u001b[0;34m)\u001b[0m\u001b[0;34m\u001b[0m\u001b[0;34m\u001b[0m\u001b[0m\n",
      "\u001b[0;32m~/Downloads/miniconda3/envs/hail/lib/python3.7/site-packages/IPython/lib/pretty.py\u001b[0m in \u001b[0;36m_repr_pprint\u001b[0;34m(obj, p, cycle)\u001b[0m\n\u001b[1;32m    687\u001b[0m     \u001b[0;34m\"\"\"A pprint that just redirects to the normal repr function.\"\"\"\u001b[0m\u001b[0;34m\u001b[0m\u001b[0;34m\u001b[0m\u001b[0m\n\u001b[1;32m    688\u001b[0m     \u001b[0;31m# Find newlines and replace them with p.break_()\u001b[0m\u001b[0;34m\u001b[0m\u001b[0;34m\u001b[0m\u001b[0;34m\u001b[0m\u001b[0m\n\u001b[0;32m--> 689\u001b[0;31m     \u001b[0moutput\u001b[0m \u001b[0;34m=\u001b[0m \u001b[0mrepr\u001b[0m\u001b[0;34m(\u001b[0m\u001b[0mobj\u001b[0m\u001b[0;34m)\u001b[0m\u001b[0;34m\u001b[0m\u001b[0;34m\u001b[0m\u001b[0m\n\u001b[0m\u001b[1;32m    690\u001b[0m     \u001b[0;32mfor\u001b[0m \u001b[0midx\u001b[0m\u001b[0;34m,\u001b[0m\u001b[0moutput_line\u001b[0m \u001b[0;32min\u001b[0m \u001b[0menumerate\u001b[0m\u001b[0;34m(\u001b[0m\u001b[0moutput\u001b[0m\u001b[0;34m.\u001b[0m\u001b[0msplitlines\u001b[0m\u001b[0;34m(\u001b[0m\u001b[0;34m)\u001b[0m\u001b[0;34m)\u001b[0m\u001b[0;34m:\u001b[0m\u001b[0;34m\u001b[0m\u001b[0;34m\u001b[0m\u001b[0m\n\u001b[1;32m    691\u001b[0m         \u001b[0;32mif\u001b[0m \u001b[0midx\u001b[0m\u001b[0;34m:\u001b[0m\u001b[0;34m\u001b[0m\u001b[0;34m\u001b[0m\u001b[0m\n",
      "\u001b[0;32m~/Downloads/miniconda3/envs/hail/lib/python3.7/site-packages/hail/table.py\u001b[0m in \u001b[0;36m__repr__\u001b[0;34m(self)\u001b[0m\n\u001b[1;32m   1242\u001b[0m \u001b[0;34m\u001b[0m\u001b[0m\n\u001b[1;32m   1243\u001b[0m         \u001b[0;32mdef\u001b[0m \u001b[0m__repr__\u001b[0m\u001b[0;34m(\u001b[0m\u001b[0mself\u001b[0m\u001b[0;34m)\u001b[0m\u001b[0;34m:\u001b[0m\u001b[0;34m\u001b[0m\u001b[0;34m\u001b[0m\u001b[0m\n\u001b[0;32m-> 1244\u001b[0;31m             \u001b[0;32mreturn\u001b[0m \u001b[0mself\u001b[0m\u001b[0;34m.\u001b[0m\u001b[0m__str__\u001b[0m\u001b[0;34m(\u001b[0m\u001b[0;34m)\u001b[0m\u001b[0;34m\u001b[0m\u001b[0;34m\u001b[0m\u001b[0m\n\u001b[0m\u001b[1;32m   1245\u001b[0m \u001b[0;34m\u001b[0m\u001b[0m\n\u001b[1;32m   1246\u001b[0m         \u001b[0;32mdef\u001b[0m \u001b[0mdata\u001b[0m\u001b[0;34m(\u001b[0m\u001b[0mself\u001b[0m\u001b[0;34m)\u001b[0m\u001b[0;34m:\u001b[0m\u001b[0;34m\u001b[0m\u001b[0;34m\u001b[0m\u001b[0m\n",
      "\u001b[0;32m~/Downloads/miniconda3/envs/hail/lib/python3.7/site-packages/hail/table.py\u001b[0m in \u001b[0;36m__str__\u001b[0;34m(self)\u001b[0m\n\u001b[1;32m   1239\u001b[0m \u001b[0;34m\u001b[0m\u001b[0m\n\u001b[1;32m   1240\u001b[0m         \u001b[0;32mdef\u001b[0m \u001b[0m__str__\u001b[0m\u001b[0;34m(\u001b[0m\u001b[0mself\u001b[0m\u001b[0;34m)\u001b[0m\u001b[0;34m:\u001b[0m\u001b[0;34m\u001b[0m\u001b[0;34m\u001b[0m\u001b[0m\n\u001b[0;32m-> 1241\u001b[0;31m             \u001b[0;32mreturn\u001b[0m \u001b[0mself\u001b[0m\u001b[0;34m.\u001b[0m\u001b[0m_ascii_str\u001b[0m\u001b[0;34m(\u001b[0m\u001b[0;34m)\u001b[0m\u001b[0;34m\u001b[0m\u001b[0;34m\u001b[0m\u001b[0m\n\u001b[0m\u001b[1;32m   1242\u001b[0m \u001b[0;34m\u001b[0m\u001b[0m\n\u001b[1;32m   1243\u001b[0m         \u001b[0;32mdef\u001b[0m \u001b[0m__repr__\u001b[0m\u001b[0;34m(\u001b[0m\u001b[0mself\u001b[0m\u001b[0;34m)\u001b[0m\u001b[0;34m:\u001b[0m\u001b[0;34m\u001b[0m\u001b[0;34m\u001b[0m\u001b[0m\n",
      "\u001b[0;32m~/Downloads/miniconda3/envs/hail/lib/python3.7/site-packages/hail/table.py\u001b[0m in \u001b[0;36m_ascii_str\u001b[0;34m(self)\u001b[0m\n\u001b[1;32m   1266\u001b[0m                     \u001b[0;32mreturn\u001b[0m \u001b[0ms\u001b[0m\u001b[0;34m\u001b[0m\u001b[0;34m\u001b[0m\u001b[0m\n\u001b[1;32m   1267\u001b[0m \u001b[0;34m\u001b[0m\u001b[0m\n\u001b[0;32m-> 1268\u001b[0;31m             \u001b[0mrows\u001b[0m\u001b[0;34m,\u001b[0m \u001b[0mhas_more\u001b[0m\u001b[0;34m,\u001b[0m \u001b[0mdtype\u001b[0m \u001b[0;34m=\u001b[0m \u001b[0mself\u001b[0m\u001b[0;34m.\u001b[0m\u001b[0mdata\u001b[0m\u001b[0;34m(\u001b[0m\u001b[0;34m)\u001b[0m\u001b[0;34m\u001b[0m\u001b[0;34m\u001b[0m\u001b[0m\n\u001b[0m\u001b[1;32m   1269\u001b[0m             \u001b[0mfields\u001b[0m \u001b[0;34m=\u001b[0m \u001b[0mlist\u001b[0m\u001b[0;34m(\u001b[0m\u001b[0mdtype\u001b[0m\u001b[0;34m)\u001b[0m\u001b[0;34m\u001b[0m\u001b[0;34m\u001b[0m\u001b[0m\n\u001b[1;32m   1270\u001b[0m             \u001b[0mtrunc_fields\u001b[0m \u001b[0;34m=\u001b[0m \u001b[0;34m[\u001b[0m\u001b[0mtrunc\u001b[0m\u001b[0;34m(\u001b[0m\u001b[0mf\u001b[0m\u001b[0;34m)\u001b[0m \u001b[0;32mfor\u001b[0m \u001b[0mf\u001b[0m \u001b[0;32min\u001b[0m \u001b[0mfields\u001b[0m\u001b[0;34m]\u001b[0m\u001b[0;34m\u001b[0m\u001b[0;34m\u001b[0m\u001b[0m\n",
      "\u001b[0;32m~/Downloads/miniconda3/envs/hail/lib/python3.7/site-packages/hail/table.py\u001b[0m in \u001b[0;36mdata\u001b[0;34m(self)\u001b[0m\n\u001b[1;32m   1249\u001b[0m                 \u001b[0mrow_dtype\u001b[0m \u001b[0;34m=\u001b[0m \u001b[0mt\u001b[0m\u001b[0;34m.\u001b[0m\u001b[0mrow\u001b[0m\u001b[0;34m.\u001b[0m\u001b[0mdtype\u001b[0m\u001b[0;34m\u001b[0m\u001b[0;34m\u001b[0m\u001b[0m\n\u001b[1;32m   1250\u001b[0m                 \u001b[0mt\u001b[0m \u001b[0;34m=\u001b[0m \u001b[0mt\u001b[0m\u001b[0;34m.\u001b[0m\u001b[0mselect\u001b[0m\u001b[0;34m(\u001b[0m\u001b[0;34m**\u001b[0m\u001b[0;34m{\u001b[0m\u001b[0mk\u001b[0m\u001b[0;34m:\u001b[0m \u001b[0mhl\u001b[0m\u001b[0;34m.\u001b[0m\u001b[0m_showstr\u001b[0m\u001b[0;34m(\u001b[0m\u001b[0mv\u001b[0m\u001b[0;34m,\u001b[0m \u001b[0mself\u001b[0m\u001b[0;34m.\u001b[0m\u001b[0mtruncate\u001b[0m\u001b[0;34m)\u001b[0m \u001b[0;32mfor\u001b[0m \u001b[0;34m(\u001b[0m\u001b[0mk\u001b[0m\u001b[0;34m,\u001b[0m \u001b[0mv\u001b[0m\u001b[0;34m)\u001b[0m \u001b[0;32min\u001b[0m \u001b[0mt\u001b[0m\u001b[0;34m.\u001b[0m\u001b[0mrow\u001b[0m\u001b[0;34m.\u001b[0m\u001b[0mitems\u001b[0m\u001b[0;34m(\u001b[0m\u001b[0;34m)\u001b[0m\u001b[0;34m}\u001b[0m\u001b[0;34m)\u001b[0m\u001b[0;34m\u001b[0m\u001b[0;34m\u001b[0m\u001b[0m\n\u001b[0;32m-> 1251\u001b[0;31m                 \u001b[0mrows\u001b[0m\u001b[0;34m,\u001b[0m \u001b[0mhas_more\u001b[0m \u001b[0;34m=\u001b[0m \u001b[0mt\u001b[0m\u001b[0;34m.\u001b[0m\u001b[0m_take_n\u001b[0m\u001b[0;34m(\u001b[0m\u001b[0mself\u001b[0m\u001b[0;34m.\u001b[0m\u001b[0mn\u001b[0m\u001b[0;34m)\u001b[0m\u001b[0;34m\u001b[0m\u001b[0;34m\u001b[0m\u001b[0m\n\u001b[0m\u001b[1;32m   1252\u001b[0m                 \u001b[0mself\u001b[0m\u001b[0;34m.\u001b[0m\u001b[0m_data\u001b[0m \u001b[0;34m=\u001b[0m \u001b[0;34m(\u001b[0m\u001b[0mrows\u001b[0m\u001b[0;34m,\u001b[0m \u001b[0mhas_more\u001b[0m\u001b[0;34m,\u001b[0m \u001b[0mrow_dtype\u001b[0m\u001b[0;34m)\u001b[0m\u001b[0;34m\u001b[0m\u001b[0;34m\u001b[0m\u001b[0m\n\u001b[1;32m   1253\u001b[0m             \u001b[0;32mreturn\u001b[0m \u001b[0mself\u001b[0m\u001b[0;34m.\u001b[0m\u001b[0m_data\u001b[0m\u001b[0;34m\u001b[0m\u001b[0;34m\u001b[0m\u001b[0m\n",
      "\u001b[0;32m~/Downloads/miniconda3/envs/hail/lib/python3.7/site-packages/hail/table.py\u001b[0m in \u001b[0;36m_take_n\u001b[0;34m(self, n)\u001b[0m\n\u001b[1;32m   1373\u001b[0m             \u001b[0mhas_more\u001b[0m \u001b[0;34m=\u001b[0m \u001b[0;32mFalse\u001b[0m\u001b[0;34m\u001b[0m\u001b[0;34m\u001b[0m\u001b[0m\n\u001b[1;32m   1374\u001b[0m         \u001b[0;32melse\u001b[0m\u001b[0;34m:\u001b[0m\u001b[0;34m\u001b[0m\u001b[0;34m\u001b[0m\u001b[0m\n\u001b[0;32m-> 1375\u001b[0;31m             \u001b[0mrows\u001b[0m \u001b[0;34m=\u001b[0m \u001b[0mself\u001b[0m\u001b[0;34m.\u001b[0m\u001b[0mtake\u001b[0m\u001b[0;34m(\u001b[0m\u001b[0mn\u001b[0m \u001b[0;34m+\u001b[0m \u001b[0;36m1\u001b[0m\u001b[0;34m)\u001b[0m\u001b[0;34m\u001b[0m\u001b[0;34m\u001b[0m\u001b[0m\n\u001b[0m\u001b[1;32m   1376\u001b[0m             \u001b[0mhas_more\u001b[0m \u001b[0;34m=\u001b[0m \u001b[0mlen\u001b[0m\u001b[0;34m(\u001b[0m\u001b[0mrows\u001b[0m\u001b[0;34m)\u001b[0m \u001b[0;34m>\u001b[0m \u001b[0mn\u001b[0m\u001b[0;34m\u001b[0m\u001b[0;34m\u001b[0m\u001b[0m\n\u001b[1;32m   1377\u001b[0m             \u001b[0mrows\u001b[0m \u001b[0;34m=\u001b[0m \u001b[0mrows\u001b[0m\u001b[0;34m[\u001b[0m\u001b[0;34m:\u001b[0m\u001b[0mn\u001b[0m\u001b[0;34m]\u001b[0m\u001b[0;34m\u001b[0m\u001b[0;34m\u001b[0m\u001b[0m\n",
      "\u001b[0;32m</home/titan/Downloads/miniconda3/envs/hail/lib/python3.7/site-packages/decorator.py:decorator-gen-1065>\u001b[0m in \u001b[0;36mtake\u001b[0;34m(self, n, _localize)\u001b[0m\n",
      "\u001b[0;32m~/Downloads/miniconda3/envs/hail/lib/python3.7/site-packages/hail/typecheck/check.py\u001b[0m in \u001b[0;36mwrapper\u001b[0;34m(__original_func, *args, **kwargs)\u001b[0m\n\u001b[1;32m    583\u001b[0m     \u001b[0;32mdef\u001b[0m \u001b[0mwrapper\u001b[0m\u001b[0;34m(\u001b[0m\u001b[0m__original_func\u001b[0m\u001b[0;34m,\u001b[0m \u001b[0;34m*\u001b[0m\u001b[0margs\u001b[0m\u001b[0;34m,\u001b[0m \u001b[0;34m**\u001b[0m\u001b[0mkwargs\u001b[0m\u001b[0;34m)\u001b[0m\u001b[0;34m:\u001b[0m\u001b[0;34m\u001b[0m\u001b[0;34m\u001b[0m\u001b[0m\n\u001b[1;32m    584\u001b[0m         \u001b[0margs_\u001b[0m\u001b[0;34m,\u001b[0m \u001b[0mkwargs_\u001b[0m \u001b[0;34m=\u001b[0m \u001b[0mcheck_all\u001b[0m\u001b[0;34m(\u001b[0m\u001b[0m__original_func\u001b[0m\u001b[0;34m,\u001b[0m \u001b[0margs\u001b[0m\u001b[0;34m,\u001b[0m \u001b[0mkwargs\u001b[0m\u001b[0;34m,\u001b[0m \u001b[0mcheckers\u001b[0m\u001b[0;34m,\u001b[0m \u001b[0mis_method\u001b[0m\u001b[0;34m=\u001b[0m\u001b[0mis_method\u001b[0m\u001b[0;34m)\u001b[0m\u001b[0;34m\u001b[0m\u001b[0;34m\u001b[0m\u001b[0m\n\u001b[0;32m--> 585\u001b[0;31m         \u001b[0;32mreturn\u001b[0m \u001b[0m__original_func\u001b[0m\u001b[0;34m(\u001b[0m\u001b[0;34m*\u001b[0m\u001b[0margs_\u001b[0m\u001b[0;34m,\u001b[0m \u001b[0;34m**\u001b[0m\u001b[0mkwargs_\u001b[0m\u001b[0;34m)\u001b[0m\u001b[0;34m\u001b[0m\u001b[0;34m\u001b[0m\u001b[0m\n\u001b[0m\u001b[1;32m    586\u001b[0m \u001b[0;34m\u001b[0m\u001b[0m\n\u001b[1;32m    587\u001b[0m     \u001b[0;32mreturn\u001b[0m \u001b[0mwrapper\u001b[0m\u001b[0;34m\u001b[0m\u001b[0;34m\u001b[0m\u001b[0m\n",
      "\u001b[0;32m~/Downloads/miniconda3/envs/hail/lib/python3.7/site-packages/hail/table.py\u001b[0m in \u001b[0;36mtake\u001b[0;34m(self, n, _localize)\u001b[0m\n\u001b[1;32m   2037\u001b[0m         \"\"\"\n\u001b[1;32m   2038\u001b[0m \u001b[0;34m\u001b[0m\u001b[0m\n\u001b[0;32m-> 2039\u001b[0;31m         \u001b[0;32mreturn\u001b[0m \u001b[0mself\u001b[0m\u001b[0;34m.\u001b[0m\u001b[0mhead\u001b[0m\u001b[0;34m(\u001b[0m\u001b[0mn\u001b[0m\u001b[0;34m)\u001b[0m\u001b[0;34m.\u001b[0m\u001b[0mcollect\u001b[0m\u001b[0;34m(\u001b[0m\u001b[0m_localize\u001b[0m\u001b[0;34m)\u001b[0m\u001b[0;34m\u001b[0m\u001b[0;34m\u001b[0m\u001b[0m\n\u001b[0m\u001b[1;32m   2040\u001b[0m \u001b[0;34m\u001b[0m\u001b[0m\n\u001b[1;32m   2041\u001b[0m     \u001b[0;34m@\u001b[0m\u001b[0mtypecheck_method\u001b[0m\u001b[0;34m(\u001b[0m\u001b[0mn\u001b[0m\u001b[0;34m=\u001b[0m\u001b[0mint\u001b[0m\u001b[0;34m)\u001b[0m\u001b[0;34m\u001b[0m\u001b[0;34m\u001b[0m\u001b[0m\n",
      "\u001b[0;32m</home/titan/Downloads/miniconda3/envs/hail/lib/python3.7/site-packages/decorator.py:decorator-gen-1059>\u001b[0m in \u001b[0;36mcollect\u001b[0;34m(self, _localize)\u001b[0m\n",
      "\u001b[0;32m~/Downloads/miniconda3/envs/hail/lib/python3.7/site-packages/hail/typecheck/check.py\u001b[0m in \u001b[0;36mwrapper\u001b[0;34m(__original_func, *args, **kwargs)\u001b[0m\n\u001b[1;32m    583\u001b[0m     \u001b[0;32mdef\u001b[0m \u001b[0mwrapper\u001b[0m\u001b[0;34m(\u001b[0m\u001b[0m__original_func\u001b[0m\u001b[0;34m,\u001b[0m \u001b[0;34m*\u001b[0m\u001b[0margs\u001b[0m\u001b[0;34m,\u001b[0m \u001b[0;34m**\u001b[0m\u001b[0mkwargs\u001b[0m\u001b[0;34m)\u001b[0m\u001b[0;34m:\u001b[0m\u001b[0;34m\u001b[0m\u001b[0;34m\u001b[0m\u001b[0m\n\u001b[1;32m    584\u001b[0m         \u001b[0margs_\u001b[0m\u001b[0;34m,\u001b[0m \u001b[0mkwargs_\u001b[0m \u001b[0;34m=\u001b[0m \u001b[0mcheck_all\u001b[0m\u001b[0;34m(\u001b[0m\u001b[0m__original_func\u001b[0m\u001b[0;34m,\u001b[0m \u001b[0margs\u001b[0m\u001b[0;34m,\u001b[0m \u001b[0mkwargs\u001b[0m\u001b[0;34m,\u001b[0m \u001b[0mcheckers\u001b[0m\u001b[0;34m,\u001b[0m \u001b[0mis_method\u001b[0m\u001b[0;34m=\u001b[0m\u001b[0mis_method\u001b[0m\u001b[0;34m)\u001b[0m\u001b[0;34m\u001b[0m\u001b[0;34m\u001b[0m\u001b[0m\n\u001b[0;32m--> 585\u001b[0;31m         \u001b[0;32mreturn\u001b[0m \u001b[0m__original_func\u001b[0m\u001b[0;34m(\u001b[0m\u001b[0;34m*\u001b[0m\u001b[0margs_\u001b[0m\u001b[0;34m,\u001b[0m \u001b[0;34m**\u001b[0m\u001b[0mkwargs_\u001b[0m\u001b[0;34m)\u001b[0m\u001b[0;34m\u001b[0m\u001b[0;34m\u001b[0m\u001b[0m\n\u001b[0m\u001b[1;32m    586\u001b[0m \u001b[0;34m\u001b[0m\u001b[0m\n\u001b[1;32m    587\u001b[0m     \u001b[0;32mreturn\u001b[0m \u001b[0mwrapper\u001b[0m\u001b[0;34m\u001b[0m\u001b[0;34m\u001b[0m\u001b[0m\n",
      "\u001b[0;32m~/Downloads/miniconda3/envs/hail/lib/python3.7/site-packages/hail/table.py\u001b[0m in \u001b[0;36mcollect\u001b[0;34m(self, _localize)\u001b[0m\n\u001b[1;32m   1836\u001b[0m         \u001b[0me\u001b[0m \u001b[0;34m=\u001b[0m \u001b[0mconstruct_expr\u001b[0m\u001b[0;34m(\u001b[0m\u001b[0mir\u001b[0m\u001b[0;34m,\u001b[0m \u001b[0mhl\u001b[0m\u001b[0;34m.\u001b[0m\u001b[0mtarray\u001b[0m\u001b[0;34m(\u001b[0m\u001b[0mt\u001b[0m\u001b[0;34m.\u001b[0m\u001b[0mrow\u001b[0m\u001b[0;34m.\u001b[0m\u001b[0mdtype\u001b[0m\u001b[0;34m)\u001b[0m\u001b[0;34m)\u001b[0m\u001b[0;34m\u001b[0m\u001b[0;34m\u001b[0m\u001b[0m\n\u001b[1;32m   1837\u001b[0m         \u001b[0;32mif\u001b[0m \u001b[0m_localize\u001b[0m\u001b[0;34m:\u001b[0m\u001b[0;34m\u001b[0m\u001b[0;34m\u001b[0m\u001b[0m\n\u001b[0;32m-> 1838\u001b[0;31m             \u001b[0;32mreturn\u001b[0m \u001b[0mEnv\u001b[0m\u001b[0;34m.\u001b[0m\u001b[0mbackend\u001b[0m\u001b[0;34m(\u001b[0m\u001b[0;34m)\u001b[0m\u001b[0;34m.\u001b[0m\u001b[0mexecute\u001b[0m\u001b[0;34m(\u001b[0m\u001b[0me\u001b[0m\u001b[0;34m.\u001b[0m\u001b[0m_ir\u001b[0m\u001b[0;34m)\u001b[0m\u001b[0;34m\u001b[0m\u001b[0;34m\u001b[0m\u001b[0m\n\u001b[0m\u001b[1;32m   1839\u001b[0m         \u001b[0;32melse\u001b[0m\u001b[0;34m:\u001b[0m\u001b[0;34m\u001b[0m\u001b[0;34m\u001b[0m\u001b[0m\n\u001b[1;32m   1840\u001b[0m             \u001b[0;32mreturn\u001b[0m \u001b[0me\u001b[0m\u001b[0;34m\u001b[0m\u001b[0;34m\u001b[0m\u001b[0m\n",
      "\u001b[0;32m~/Downloads/miniconda3/envs/hail/lib/python3.7/site-packages/hail/backend/backend.py\u001b[0m in \u001b[0;36mexecute\u001b[0;34m(self, ir, timed)\u001b[0m\n\u001b[1;32m    107\u001b[0m \u001b[0;34m\u001b[0m\u001b[0m\n\u001b[1;32m    108\u001b[0m     \u001b[0;32mdef\u001b[0m \u001b[0mexecute\u001b[0m\u001b[0;34m(\u001b[0m\u001b[0mself\u001b[0m\u001b[0;34m,\u001b[0m \u001b[0mir\u001b[0m\u001b[0;34m,\u001b[0m \u001b[0mtimed\u001b[0m\u001b[0;34m=\u001b[0m\u001b[0;32mFalse\u001b[0m\u001b[0;34m)\u001b[0m\u001b[0;34m:\u001b[0m\u001b[0;34m\u001b[0m\u001b[0;34m\u001b[0m\u001b[0m\n\u001b[0;32m--> 109\u001b[0;31m         \u001b[0mresult\u001b[0m \u001b[0;34m=\u001b[0m \u001b[0mjson\u001b[0m\u001b[0;34m.\u001b[0m\u001b[0mloads\u001b[0m\u001b[0;34m(\u001b[0m\u001b[0mEnv\u001b[0m\u001b[0;34m.\u001b[0m\u001b[0mhc\u001b[0m\u001b[0;34m(\u001b[0m\u001b[0;34m)\u001b[0m\u001b[0;34m.\u001b[0m\u001b[0m_jhc\u001b[0m\u001b[0;34m.\u001b[0m\u001b[0mbackend\u001b[0m\u001b[0;34m(\u001b[0m\u001b[0;34m)\u001b[0m\u001b[0;34m.\u001b[0m\u001b[0mexecuteJSON\u001b[0m\u001b[0;34m(\u001b[0m\u001b[0mself\u001b[0m\u001b[0;34m.\u001b[0m\u001b[0m_to_java_ir\u001b[0m\u001b[0;34m(\u001b[0m\u001b[0mir\u001b[0m\u001b[0;34m)\u001b[0m\u001b[0;34m)\u001b[0m\u001b[0;34m)\u001b[0m\u001b[0;34m\u001b[0m\u001b[0;34m\u001b[0m\u001b[0m\n\u001b[0m\u001b[1;32m    110\u001b[0m         \u001b[0mvalue\u001b[0m \u001b[0;34m=\u001b[0m \u001b[0mir\u001b[0m\u001b[0;34m.\u001b[0m\u001b[0mtyp\u001b[0m\u001b[0;34m.\u001b[0m\u001b[0m_from_json\u001b[0m\u001b[0;34m(\u001b[0m\u001b[0mresult\u001b[0m\u001b[0;34m[\u001b[0m\u001b[0;34m'value'\u001b[0m\u001b[0;34m]\u001b[0m\u001b[0;34m)\u001b[0m\u001b[0;34m\u001b[0m\u001b[0;34m\u001b[0m\u001b[0m\n\u001b[1;32m    111\u001b[0m         \u001b[0mtimings\u001b[0m \u001b[0;34m=\u001b[0m \u001b[0mresult\u001b[0m\u001b[0;34m[\u001b[0m\u001b[0;34m'timings'\u001b[0m\u001b[0;34m]\u001b[0m\u001b[0;34m\u001b[0m\u001b[0;34m\u001b[0m\u001b[0m\n",
      "\u001b[0;32m~/Downloads/miniconda3/envs/hail/lib/python3.7/site-packages/py4j/java_gateway.py\u001b[0m in \u001b[0;36m__call__\u001b[0;34m(self, *args)\u001b[0m\n\u001b[1;32m   1253\u001b[0m             \u001b[0mproto\u001b[0m\u001b[0;34m.\u001b[0m\u001b[0mEND_COMMAND_PART\u001b[0m\u001b[0;34m\u001b[0m\u001b[0;34m\u001b[0m\u001b[0m\n\u001b[1;32m   1254\u001b[0m \u001b[0;34m\u001b[0m\u001b[0m\n\u001b[0;32m-> 1255\u001b[0;31m         \u001b[0manswer\u001b[0m \u001b[0;34m=\u001b[0m \u001b[0mself\u001b[0m\u001b[0;34m.\u001b[0m\u001b[0mgateway_client\u001b[0m\u001b[0;34m.\u001b[0m\u001b[0msend_command\u001b[0m\u001b[0;34m(\u001b[0m\u001b[0mcommand\u001b[0m\u001b[0;34m)\u001b[0m\u001b[0;34m\u001b[0m\u001b[0;34m\u001b[0m\u001b[0m\n\u001b[0m\u001b[1;32m   1256\u001b[0m         return_value = get_return_value(\n\u001b[1;32m   1257\u001b[0m             answer, self.gateway_client, self.target_id, self.name)\n",
      "\u001b[0;32m~/Downloads/miniconda3/envs/hail/lib/python3.7/site-packages/py4j/java_gateway.py\u001b[0m in \u001b[0;36msend_command\u001b[0;34m(self, command, retry, binary)\u001b[0m\n\u001b[1;32m    981\u001b[0m          \u001b[0;32mif\u001b[0m\u001b[0;31m \u001b[0m\u001b[0;31m`\u001b[0m\u001b[0mbinary\u001b[0m\u001b[0;31m`\u001b[0m \u001b[0;32mis\u001b[0m\u001b[0;31m \u001b[0m\u001b[0;31m`\u001b[0m\u001b[0;32mTrue\u001b[0m\u001b[0;31m`\u001b[0m\u001b[0;34m.\u001b[0m\u001b[0;34m\u001b[0m\u001b[0;34m\u001b[0m\u001b[0m\n\u001b[1;32m    982\u001b[0m         \"\"\"\n\u001b[0;32m--> 983\u001b[0;31m         \u001b[0mconnection\u001b[0m \u001b[0;34m=\u001b[0m \u001b[0mself\u001b[0m\u001b[0;34m.\u001b[0m\u001b[0m_get_connection\u001b[0m\u001b[0;34m(\u001b[0m\u001b[0;34m)\u001b[0m\u001b[0;34m\u001b[0m\u001b[0;34m\u001b[0m\u001b[0m\n\u001b[0m\u001b[1;32m    984\u001b[0m         \u001b[0;32mtry\u001b[0m\u001b[0;34m:\u001b[0m\u001b[0;34m\u001b[0m\u001b[0;34m\u001b[0m\u001b[0m\n\u001b[1;32m    985\u001b[0m             \u001b[0mresponse\u001b[0m \u001b[0;34m=\u001b[0m \u001b[0mconnection\u001b[0m\u001b[0;34m.\u001b[0m\u001b[0msend_command\u001b[0m\u001b[0;34m(\u001b[0m\u001b[0mcommand\u001b[0m\u001b[0;34m)\u001b[0m\u001b[0;34m\u001b[0m\u001b[0;34m\u001b[0m\u001b[0m\n",
      "\u001b[0;32m~/Downloads/miniconda3/envs/hail/lib/python3.7/site-packages/py4j/java_gateway.py\u001b[0m in \u001b[0;36m_get_connection\u001b[0;34m(self)\u001b[0m\n\u001b[1;32m    929\u001b[0m             \u001b[0mconnection\u001b[0m \u001b[0;34m=\u001b[0m \u001b[0mself\u001b[0m\u001b[0;34m.\u001b[0m\u001b[0mdeque\u001b[0m\u001b[0;34m.\u001b[0m\u001b[0mpop\u001b[0m\u001b[0;34m(\u001b[0m\u001b[0;34m)\u001b[0m\u001b[0;34m\u001b[0m\u001b[0;34m\u001b[0m\u001b[0m\n\u001b[1;32m    930\u001b[0m         \u001b[0;32mexcept\u001b[0m \u001b[0mIndexError\u001b[0m\u001b[0;34m:\u001b[0m\u001b[0;34m\u001b[0m\u001b[0;34m\u001b[0m\u001b[0m\n\u001b[0;32m--> 931\u001b[0;31m             \u001b[0mconnection\u001b[0m \u001b[0;34m=\u001b[0m \u001b[0mself\u001b[0m\u001b[0;34m.\u001b[0m\u001b[0m_create_connection\u001b[0m\u001b[0;34m(\u001b[0m\u001b[0;34m)\u001b[0m\u001b[0;34m\u001b[0m\u001b[0;34m\u001b[0m\u001b[0m\n\u001b[0m\u001b[1;32m    932\u001b[0m         \u001b[0;32mreturn\u001b[0m \u001b[0mconnection\u001b[0m\u001b[0;34m\u001b[0m\u001b[0;34m\u001b[0m\u001b[0m\n\u001b[1;32m    933\u001b[0m \u001b[0;34m\u001b[0m\u001b[0m\n",
      "\u001b[0;32m~/Downloads/miniconda3/envs/hail/lib/python3.7/site-packages/py4j/java_gateway.py\u001b[0m in \u001b[0;36m_create_connection\u001b[0;34m(self)\u001b[0m\n\u001b[1;32m    935\u001b[0m         connection = GatewayConnection(\n\u001b[1;32m    936\u001b[0m             self.gateway_parameters, self.gateway_property)\n\u001b[0;32m--> 937\u001b[0;31m         \u001b[0mconnection\u001b[0m\u001b[0;34m.\u001b[0m\u001b[0mstart\u001b[0m\u001b[0;34m(\u001b[0m\u001b[0;34m)\u001b[0m\u001b[0;34m\u001b[0m\u001b[0;34m\u001b[0m\u001b[0m\n\u001b[0m\u001b[1;32m    938\u001b[0m         \u001b[0;32mreturn\u001b[0m \u001b[0mconnection\u001b[0m\u001b[0;34m\u001b[0m\u001b[0;34m\u001b[0m\u001b[0m\n\u001b[1;32m    939\u001b[0m \u001b[0;34m\u001b[0m\u001b[0m\n",
      "\u001b[0;32m~/Downloads/miniconda3/envs/hail/lib/python3.7/site-packages/py4j/java_gateway.py\u001b[0m in \u001b[0;36mstart\u001b[0;34m(self)\u001b[0m\n\u001b[1;32m   1077\u001b[0m                 \u001b[0;34m\"server ({0}:{1})\"\u001b[0m\u001b[0;34m.\u001b[0m\u001b[0mformat\u001b[0m\u001b[0;34m(\u001b[0m\u001b[0mself\u001b[0m\u001b[0;34m.\u001b[0m\u001b[0maddress\u001b[0m\u001b[0;34m,\u001b[0m \u001b[0mself\u001b[0m\u001b[0;34m.\u001b[0m\u001b[0mport\u001b[0m\u001b[0;34m)\u001b[0m\u001b[0;34m\u001b[0m\u001b[0;34m\u001b[0m\u001b[0m\n\u001b[1;32m   1078\u001b[0m             \u001b[0mlogger\u001b[0m\u001b[0;34m.\u001b[0m\u001b[0mexception\u001b[0m\u001b[0;34m(\u001b[0m\u001b[0mmsg\u001b[0m\u001b[0;34m)\u001b[0m\u001b[0;34m\u001b[0m\u001b[0;34m\u001b[0m\u001b[0m\n\u001b[0;32m-> 1079\u001b[0;31m             \u001b[0;32mraise\u001b[0m \u001b[0mPy4JNetworkError\u001b[0m\u001b[0;34m(\u001b[0m\u001b[0mmsg\u001b[0m\u001b[0;34m,\u001b[0m \u001b[0me\u001b[0m\u001b[0;34m)\u001b[0m\u001b[0;34m\u001b[0m\u001b[0;34m\u001b[0m\u001b[0m\n\u001b[0m\u001b[1;32m   1080\u001b[0m \u001b[0;34m\u001b[0m\u001b[0m\n\u001b[1;32m   1081\u001b[0m     \u001b[0;32mdef\u001b[0m \u001b[0m_authenticate_connection\u001b[0m\u001b[0;34m(\u001b[0m\u001b[0mself\u001b[0m\u001b[0;34m)\u001b[0m\u001b[0;34m:\u001b[0m\u001b[0;34m\u001b[0m\u001b[0;34m\u001b[0m\u001b[0m\n",
      "\u001b[0;31mPy4JNetworkError\u001b[0m: An error occurred while trying to connect to the Java server (127.0.0.1:42519)"
     ]
    },
    {
     "name": "stderr",
     "output_type": "stream",
     "text": [
      "ERROR:py4j.java_gateway:An error occurred while trying to connect to the Java server (127.0.0.1:42519)\n",
      "Traceback (most recent call last):\n",
      "  File \"/home/titan/Downloads/miniconda3/envs/hail/lib/python3.7/site-packages/py4j/java_gateway.py\", line 929, in _get_connection\n",
      "    connection = self.deque.pop()\n",
      "IndexError: pop from an empty deque\n",
      "\n",
      "During handling of the above exception, another exception occurred:\n",
      "\n",
      "Traceback (most recent call last):\n",
      "  File \"/home/titan/Downloads/miniconda3/envs/hail/lib/python3.7/site-packages/py4j/java_gateway.py\", line 1067, in start\n",
      "    self.socket.connect((self.address, self.port))\n",
      "ConnectionRefusedError: [Errno 111] Connection refused\n"
     ]
    },
    {
     "ename": "Py4JNetworkError",
     "evalue": "An error occurred while trying to connect to the Java server (127.0.0.1:42519)",
     "output_type": "error",
     "traceback": [
      "\u001b[0;31m---------------------------------------------------------------------------\u001b[0m",
      "\u001b[0;31mIndexError\u001b[0m                                Traceback (most recent call last)",
      "\u001b[0;32m~/Downloads/miniconda3/envs/hail/lib/python3.7/site-packages/py4j/java_gateway.py\u001b[0m in \u001b[0;36m_get_connection\u001b[0;34m(self)\u001b[0m\n\u001b[1;32m    928\u001b[0m         \u001b[0;32mtry\u001b[0m\u001b[0;34m:\u001b[0m\u001b[0;34m\u001b[0m\u001b[0;34m\u001b[0m\u001b[0m\n\u001b[0;32m--> 929\u001b[0;31m             \u001b[0mconnection\u001b[0m \u001b[0;34m=\u001b[0m \u001b[0mself\u001b[0m\u001b[0;34m.\u001b[0m\u001b[0mdeque\u001b[0m\u001b[0;34m.\u001b[0m\u001b[0mpop\u001b[0m\u001b[0;34m(\u001b[0m\u001b[0;34m)\u001b[0m\u001b[0;34m\u001b[0m\u001b[0;34m\u001b[0m\u001b[0m\n\u001b[0m\u001b[1;32m    930\u001b[0m         \u001b[0;32mexcept\u001b[0m \u001b[0mIndexError\u001b[0m\u001b[0;34m:\u001b[0m\u001b[0;34m\u001b[0m\u001b[0;34m\u001b[0m\u001b[0m\n",
      "\u001b[0;31mIndexError\u001b[0m: pop from an empty deque",
      "\nDuring handling of the above exception, another exception occurred:\n",
      "\u001b[0;31mConnectionRefusedError\u001b[0m                    Traceback (most recent call last)",
      "\u001b[0;32m~/Downloads/miniconda3/envs/hail/lib/python3.7/site-packages/py4j/java_gateway.py\u001b[0m in \u001b[0;36mstart\u001b[0;34m(self)\u001b[0m\n\u001b[1;32m   1066\u001b[0m         \u001b[0;32mtry\u001b[0m\u001b[0;34m:\u001b[0m\u001b[0;34m\u001b[0m\u001b[0;34m\u001b[0m\u001b[0m\n\u001b[0;32m-> 1067\u001b[0;31m             \u001b[0mself\u001b[0m\u001b[0;34m.\u001b[0m\u001b[0msocket\u001b[0m\u001b[0;34m.\u001b[0m\u001b[0mconnect\u001b[0m\u001b[0;34m(\u001b[0m\u001b[0;34m(\u001b[0m\u001b[0mself\u001b[0m\u001b[0;34m.\u001b[0m\u001b[0maddress\u001b[0m\u001b[0;34m,\u001b[0m \u001b[0mself\u001b[0m\u001b[0;34m.\u001b[0m\u001b[0mport\u001b[0m\u001b[0;34m)\u001b[0m\u001b[0;34m)\u001b[0m\u001b[0;34m\u001b[0m\u001b[0;34m\u001b[0m\u001b[0m\n\u001b[0m\u001b[1;32m   1068\u001b[0m             \u001b[0mself\u001b[0m\u001b[0;34m.\u001b[0m\u001b[0mstream\u001b[0m \u001b[0;34m=\u001b[0m \u001b[0mself\u001b[0m\u001b[0;34m.\u001b[0m\u001b[0msocket\u001b[0m\u001b[0;34m.\u001b[0m\u001b[0mmakefile\u001b[0m\u001b[0;34m(\u001b[0m\u001b[0;34m\"rb\"\u001b[0m\u001b[0;34m)\u001b[0m\u001b[0;34m\u001b[0m\u001b[0;34m\u001b[0m\u001b[0m\n",
      "\u001b[0;31mConnectionRefusedError\u001b[0m: [Errno 111] Connection refused",
      "\nDuring handling of the above exception, another exception occurred:\n",
      "\u001b[0;31mPy4JNetworkError\u001b[0m                          Traceback (most recent call last)",
      "\u001b[0;32m~/Downloads/miniconda3/envs/hail/lib/python3.7/site-packages/IPython/core/formatters.py\u001b[0m in \u001b[0;36m__call__\u001b[0;34m(self, obj)\u001b[0m\n\u001b[1;32m    343\u001b[0m             \u001b[0mmethod\u001b[0m \u001b[0;34m=\u001b[0m \u001b[0mget_real_method\u001b[0m\u001b[0;34m(\u001b[0m\u001b[0mobj\u001b[0m\u001b[0;34m,\u001b[0m \u001b[0mself\u001b[0m\u001b[0;34m.\u001b[0m\u001b[0mprint_method\u001b[0m\u001b[0;34m)\u001b[0m\u001b[0;34m\u001b[0m\u001b[0;34m\u001b[0m\u001b[0m\n\u001b[1;32m    344\u001b[0m             \u001b[0;32mif\u001b[0m \u001b[0mmethod\u001b[0m \u001b[0;32mis\u001b[0m \u001b[0;32mnot\u001b[0m \u001b[0;32mNone\u001b[0m\u001b[0;34m:\u001b[0m\u001b[0;34m\u001b[0m\u001b[0;34m\u001b[0m\u001b[0m\n\u001b[0;32m--> 345\u001b[0;31m                 \u001b[0;32mreturn\u001b[0m \u001b[0mmethod\u001b[0m\u001b[0;34m(\u001b[0m\u001b[0;34m)\u001b[0m\u001b[0;34m\u001b[0m\u001b[0;34m\u001b[0m\u001b[0m\n\u001b[0m\u001b[1;32m    346\u001b[0m             \u001b[0;32mreturn\u001b[0m \u001b[0;32mNone\u001b[0m\u001b[0;34m\u001b[0m\u001b[0;34m\u001b[0m\u001b[0m\n\u001b[1;32m    347\u001b[0m         \u001b[0;32melse\u001b[0m\u001b[0;34m:\u001b[0m\u001b[0;34m\u001b[0m\u001b[0;34m\u001b[0m\u001b[0m\n",
      "\u001b[0;32m~/Downloads/miniconda3/envs/hail/lib/python3.7/site-packages/hail/table.py\u001b[0m in \u001b[0;36m_repr_html_\u001b[0;34m(self)\u001b[0m\n\u001b[1;32m   1254\u001b[0m \u001b[0;34m\u001b[0m\u001b[0m\n\u001b[1;32m   1255\u001b[0m         \u001b[0;32mdef\u001b[0m \u001b[0m_repr_html_\u001b[0m\u001b[0;34m(\u001b[0m\u001b[0mself\u001b[0m\u001b[0;34m)\u001b[0m\u001b[0;34m:\u001b[0m\u001b[0;34m\u001b[0m\u001b[0;34m\u001b[0m\u001b[0m\n\u001b[0;32m-> 1256\u001b[0;31m             \u001b[0;32mreturn\u001b[0m \u001b[0mself\u001b[0m\u001b[0;34m.\u001b[0m\u001b[0m_html_str\u001b[0m\u001b[0;34m(\u001b[0m\u001b[0;34m)\u001b[0m\u001b[0;34m\u001b[0m\u001b[0;34m\u001b[0m\u001b[0m\n\u001b[0m\u001b[1;32m   1257\u001b[0m \u001b[0;34m\u001b[0m\u001b[0m\n\u001b[1;32m   1258\u001b[0m         \u001b[0;32mdef\u001b[0m \u001b[0m_ascii_str\u001b[0m\u001b[0;34m(\u001b[0m\u001b[0mself\u001b[0m\u001b[0;34m)\u001b[0m\u001b[0;34m:\u001b[0m\u001b[0;34m\u001b[0m\u001b[0;34m\u001b[0m\u001b[0m\n",
      "\u001b[0;32m~/Downloads/miniconda3/envs/hail/lib/python3.7/site-packages/hail/table.py\u001b[0m in \u001b[0;36m_html_str\u001b[0;34m(self)\u001b[0m\n\u001b[1;32m   1343\u001b[0m             \u001b[0mtypes\u001b[0m \u001b[0;34m=\u001b[0m \u001b[0mself\u001b[0m\u001b[0;34m.\u001b[0m\u001b[0mtypes\u001b[0m\u001b[0;34m\u001b[0m\u001b[0;34m\u001b[0m\u001b[0m\n\u001b[1;32m   1344\u001b[0m \u001b[0;34m\u001b[0m\u001b[0m\n\u001b[0;32m-> 1345\u001b[0;31m             \u001b[0mrows\u001b[0m\u001b[0;34m,\u001b[0m \u001b[0mhas_more\u001b[0m\u001b[0;34m,\u001b[0m \u001b[0mdtype\u001b[0m \u001b[0;34m=\u001b[0m \u001b[0mself\u001b[0m\u001b[0;34m.\u001b[0m\u001b[0mdata\u001b[0m\u001b[0;34m(\u001b[0m\u001b[0;34m)\u001b[0m\u001b[0;34m\u001b[0m\u001b[0;34m\u001b[0m\u001b[0m\n\u001b[0m\u001b[1;32m   1346\u001b[0m             \u001b[0mfields\u001b[0m \u001b[0;34m=\u001b[0m \u001b[0mlist\u001b[0m\u001b[0;34m(\u001b[0m\u001b[0mdtype\u001b[0m\u001b[0;34m)\u001b[0m\u001b[0;34m\u001b[0m\u001b[0;34m\u001b[0m\u001b[0m\n\u001b[1;32m   1347\u001b[0m \u001b[0;34m\u001b[0m\u001b[0m\n",
      "\u001b[0;32m~/Downloads/miniconda3/envs/hail/lib/python3.7/site-packages/hail/table.py\u001b[0m in \u001b[0;36mdata\u001b[0;34m(self)\u001b[0m\n\u001b[1;32m   1249\u001b[0m                 \u001b[0mrow_dtype\u001b[0m \u001b[0;34m=\u001b[0m \u001b[0mt\u001b[0m\u001b[0;34m.\u001b[0m\u001b[0mrow\u001b[0m\u001b[0;34m.\u001b[0m\u001b[0mdtype\u001b[0m\u001b[0;34m\u001b[0m\u001b[0;34m\u001b[0m\u001b[0m\n\u001b[1;32m   1250\u001b[0m                 \u001b[0mt\u001b[0m \u001b[0;34m=\u001b[0m \u001b[0mt\u001b[0m\u001b[0;34m.\u001b[0m\u001b[0mselect\u001b[0m\u001b[0;34m(\u001b[0m\u001b[0;34m**\u001b[0m\u001b[0;34m{\u001b[0m\u001b[0mk\u001b[0m\u001b[0;34m:\u001b[0m \u001b[0mhl\u001b[0m\u001b[0;34m.\u001b[0m\u001b[0m_showstr\u001b[0m\u001b[0;34m(\u001b[0m\u001b[0mv\u001b[0m\u001b[0;34m,\u001b[0m \u001b[0mself\u001b[0m\u001b[0;34m.\u001b[0m\u001b[0mtruncate\u001b[0m\u001b[0;34m)\u001b[0m \u001b[0;32mfor\u001b[0m \u001b[0;34m(\u001b[0m\u001b[0mk\u001b[0m\u001b[0;34m,\u001b[0m \u001b[0mv\u001b[0m\u001b[0;34m)\u001b[0m \u001b[0;32min\u001b[0m \u001b[0mt\u001b[0m\u001b[0;34m.\u001b[0m\u001b[0mrow\u001b[0m\u001b[0;34m.\u001b[0m\u001b[0mitems\u001b[0m\u001b[0;34m(\u001b[0m\u001b[0;34m)\u001b[0m\u001b[0;34m}\u001b[0m\u001b[0;34m)\u001b[0m\u001b[0;34m\u001b[0m\u001b[0;34m\u001b[0m\u001b[0m\n\u001b[0;32m-> 1251\u001b[0;31m                 \u001b[0mrows\u001b[0m\u001b[0;34m,\u001b[0m \u001b[0mhas_more\u001b[0m \u001b[0;34m=\u001b[0m \u001b[0mt\u001b[0m\u001b[0;34m.\u001b[0m\u001b[0m_take_n\u001b[0m\u001b[0;34m(\u001b[0m\u001b[0mself\u001b[0m\u001b[0;34m.\u001b[0m\u001b[0mn\u001b[0m\u001b[0;34m)\u001b[0m\u001b[0;34m\u001b[0m\u001b[0;34m\u001b[0m\u001b[0m\n\u001b[0m\u001b[1;32m   1252\u001b[0m                 \u001b[0mself\u001b[0m\u001b[0;34m.\u001b[0m\u001b[0m_data\u001b[0m \u001b[0;34m=\u001b[0m \u001b[0;34m(\u001b[0m\u001b[0mrows\u001b[0m\u001b[0;34m,\u001b[0m \u001b[0mhas_more\u001b[0m\u001b[0;34m,\u001b[0m \u001b[0mrow_dtype\u001b[0m\u001b[0;34m)\u001b[0m\u001b[0;34m\u001b[0m\u001b[0;34m\u001b[0m\u001b[0m\n\u001b[1;32m   1253\u001b[0m             \u001b[0;32mreturn\u001b[0m \u001b[0mself\u001b[0m\u001b[0;34m.\u001b[0m\u001b[0m_data\u001b[0m\u001b[0;34m\u001b[0m\u001b[0;34m\u001b[0m\u001b[0m\n",
      "\u001b[0;32m~/Downloads/miniconda3/envs/hail/lib/python3.7/site-packages/hail/table.py\u001b[0m in \u001b[0;36m_take_n\u001b[0;34m(self, n)\u001b[0m\n\u001b[1;32m   1373\u001b[0m             \u001b[0mhas_more\u001b[0m \u001b[0;34m=\u001b[0m \u001b[0;32mFalse\u001b[0m\u001b[0;34m\u001b[0m\u001b[0;34m\u001b[0m\u001b[0m\n\u001b[1;32m   1374\u001b[0m         \u001b[0;32melse\u001b[0m\u001b[0;34m:\u001b[0m\u001b[0;34m\u001b[0m\u001b[0;34m\u001b[0m\u001b[0m\n\u001b[0;32m-> 1375\u001b[0;31m             \u001b[0mrows\u001b[0m \u001b[0;34m=\u001b[0m \u001b[0mself\u001b[0m\u001b[0;34m.\u001b[0m\u001b[0mtake\u001b[0m\u001b[0;34m(\u001b[0m\u001b[0mn\u001b[0m \u001b[0;34m+\u001b[0m \u001b[0;36m1\u001b[0m\u001b[0;34m)\u001b[0m\u001b[0;34m\u001b[0m\u001b[0;34m\u001b[0m\u001b[0m\n\u001b[0m\u001b[1;32m   1376\u001b[0m             \u001b[0mhas_more\u001b[0m \u001b[0;34m=\u001b[0m \u001b[0mlen\u001b[0m\u001b[0;34m(\u001b[0m\u001b[0mrows\u001b[0m\u001b[0;34m)\u001b[0m \u001b[0;34m>\u001b[0m \u001b[0mn\u001b[0m\u001b[0;34m\u001b[0m\u001b[0;34m\u001b[0m\u001b[0m\n\u001b[1;32m   1377\u001b[0m             \u001b[0mrows\u001b[0m \u001b[0;34m=\u001b[0m \u001b[0mrows\u001b[0m\u001b[0;34m[\u001b[0m\u001b[0;34m:\u001b[0m\u001b[0mn\u001b[0m\u001b[0;34m]\u001b[0m\u001b[0;34m\u001b[0m\u001b[0;34m\u001b[0m\u001b[0m\n",
      "\u001b[0;32m</home/titan/Downloads/miniconda3/envs/hail/lib/python3.7/site-packages/decorator.py:decorator-gen-1065>\u001b[0m in \u001b[0;36mtake\u001b[0;34m(self, n, _localize)\u001b[0m\n",
      "\u001b[0;32m~/Downloads/miniconda3/envs/hail/lib/python3.7/site-packages/hail/typecheck/check.py\u001b[0m in \u001b[0;36mwrapper\u001b[0;34m(__original_func, *args, **kwargs)\u001b[0m\n\u001b[1;32m    583\u001b[0m     \u001b[0;32mdef\u001b[0m \u001b[0mwrapper\u001b[0m\u001b[0;34m(\u001b[0m\u001b[0m__original_func\u001b[0m\u001b[0;34m,\u001b[0m \u001b[0;34m*\u001b[0m\u001b[0margs\u001b[0m\u001b[0;34m,\u001b[0m \u001b[0;34m**\u001b[0m\u001b[0mkwargs\u001b[0m\u001b[0;34m)\u001b[0m\u001b[0;34m:\u001b[0m\u001b[0;34m\u001b[0m\u001b[0;34m\u001b[0m\u001b[0m\n\u001b[1;32m    584\u001b[0m         \u001b[0margs_\u001b[0m\u001b[0;34m,\u001b[0m \u001b[0mkwargs_\u001b[0m \u001b[0;34m=\u001b[0m \u001b[0mcheck_all\u001b[0m\u001b[0;34m(\u001b[0m\u001b[0m__original_func\u001b[0m\u001b[0;34m,\u001b[0m \u001b[0margs\u001b[0m\u001b[0;34m,\u001b[0m \u001b[0mkwargs\u001b[0m\u001b[0;34m,\u001b[0m \u001b[0mcheckers\u001b[0m\u001b[0;34m,\u001b[0m \u001b[0mis_method\u001b[0m\u001b[0;34m=\u001b[0m\u001b[0mis_method\u001b[0m\u001b[0;34m)\u001b[0m\u001b[0;34m\u001b[0m\u001b[0;34m\u001b[0m\u001b[0m\n\u001b[0;32m--> 585\u001b[0;31m         \u001b[0;32mreturn\u001b[0m \u001b[0m__original_func\u001b[0m\u001b[0;34m(\u001b[0m\u001b[0;34m*\u001b[0m\u001b[0margs_\u001b[0m\u001b[0;34m,\u001b[0m \u001b[0;34m**\u001b[0m\u001b[0mkwargs_\u001b[0m\u001b[0;34m)\u001b[0m\u001b[0;34m\u001b[0m\u001b[0;34m\u001b[0m\u001b[0m\n\u001b[0m\u001b[1;32m    586\u001b[0m \u001b[0;34m\u001b[0m\u001b[0m\n\u001b[1;32m    587\u001b[0m     \u001b[0;32mreturn\u001b[0m \u001b[0mwrapper\u001b[0m\u001b[0;34m\u001b[0m\u001b[0;34m\u001b[0m\u001b[0m\n",
      "\u001b[0;32m~/Downloads/miniconda3/envs/hail/lib/python3.7/site-packages/hail/table.py\u001b[0m in \u001b[0;36mtake\u001b[0;34m(self, n, _localize)\u001b[0m\n\u001b[1;32m   2037\u001b[0m         \"\"\"\n\u001b[1;32m   2038\u001b[0m \u001b[0;34m\u001b[0m\u001b[0m\n\u001b[0;32m-> 2039\u001b[0;31m         \u001b[0;32mreturn\u001b[0m \u001b[0mself\u001b[0m\u001b[0;34m.\u001b[0m\u001b[0mhead\u001b[0m\u001b[0;34m(\u001b[0m\u001b[0mn\u001b[0m\u001b[0;34m)\u001b[0m\u001b[0;34m.\u001b[0m\u001b[0mcollect\u001b[0m\u001b[0;34m(\u001b[0m\u001b[0m_localize\u001b[0m\u001b[0;34m)\u001b[0m\u001b[0;34m\u001b[0m\u001b[0;34m\u001b[0m\u001b[0m\n\u001b[0m\u001b[1;32m   2040\u001b[0m \u001b[0;34m\u001b[0m\u001b[0m\n\u001b[1;32m   2041\u001b[0m     \u001b[0;34m@\u001b[0m\u001b[0mtypecheck_method\u001b[0m\u001b[0;34m(\u001b[0m\u001b[0mn\u001b[0m\u001b[0;34m=\u001b[0m\u001b[0mint\u001b[0m\u001b[0;34m)\u001b[0m\u001b[0;34m\u001b[0m\u001b[0;34m\u001b[0m\u001b[0m\n",
      "\u001b[0;32m</home/titan/Downloads/miniconda3/envs/hail/lib/python3.7/site-packages/decorator.py:decorator-gen-1059>\u001b[0m in \u001b[0;36mcollect\u001b[0;34m(self, _localize)\u001b[0m\n",
      "\u001b[0;32m~/Downloads/miniconda3/envs/hail/lib/python3.7/site-packages/hail/typecheck/check.py\u001b[0m in \u001b[0;36mwrapper\u001b[0;34m(__original_func, *args, **kwargs)\u001b[0m\n\u001b[1;32m    583\u001b[0m     \u001b[0;32mdef\u001b[0m \u001b[0mwrapper\u001b[0m\u001b[0;34m(\u001b[0m\u001b[0m__original_func\u001b[0m\u001b[0;34m,\u001b[0m \u001b[0;34m*\u001b[0m\u001b[0margs\u001b[0m\u001b[0;34m,\u001b[0m \u001b[0;34m**\u001b[0m\u001b[0mkwargs\u001b[0m\u001b[0;34m)\u001b[0m\u001b[0;34m:\u001b[0m\u001b[0;34m\u001b[0m\u001b[0;34m\u001b[0m\u001b[0m\n\u001b[1;32m    584\u001b[0m         \u001b[0margs_\u001b[0m\u001b[0;34m,\u001b[0m \u001b[0mkwargs_\u001b[0m \u001b[0;34m=\u001b[0m \u001b[0mcheck_all\u001b[0m\u001b[0;34m(\u001b[0m\u001b[0m__original_func\u001b[0m\u001b[0;34m,\u001b[0m \u001b[0margs\u001b[0m\u001b[0;34m,\u001b[0m \u001b[0mkwargs\u001b[0m\u001b[0;34m,\u001b[0m \u001b[0mcheckers\u001b[0m\u001b[0;34m,\u001b[0m \u001b[0mis_method\u001b[0m\u001b[0;34m=\u001b[0m\u001b[0mis_method\u001b[0m\u001b[0;34m)\u001b[0m\u001b[0;34m\u001b[0m\u001b[0;34m\u001b[0m\u001b[0m\n\u001b[0;32m--> 585\u001b[0;31m         \u001b[0;32mreturn\u001b[0m \u001b[0m__original_func\u001b[0m\u001b[0;34m(\u001b[0m\u001b[0;34m*\u001b[0m\u001b[0margs_\u001b[0m\u001b[0;34m,\u001b[0m \u001b[0;34m**\u001b[0m\u001b[0mkwargs_\u001b[0m\u001b[0;34m)\u001b[0m\u001b[0;34m\u001b[0m\u001b[0;34m\u001b[0m\u001b[0m\n\u001b[0m\u001b[1;32m    586\u001b[0m \u001b[0;34m\u001b[0m\u001b[0m\n\u001b[1;32m    587\u001b[0m     \u001b[0;32mreturn\u001b[0m \u001b[0mwrapper\u001b[0m\u001b[0;34m\u001b[0m\u001b[0;34m\u001b[0m\u001b[0m\n",
      "\u001b[0;32m~/Downloads/miniconda3/envs/hail/lib/python3.7/site-packages/hail/table.py\u001b[0m in \u001b[0;36mcollect\u001b[0;34m(self, _localize)\u001b[0m\n\u001b[1;32m   1836\u001b[0m         \u001b[0me\u001b[0m \u001b[0;34m=\u001b[0m \u001b[0mconstruct_expr\u001b[0m\u001b[0;34m(\u001b[0m\u001b[0mir\u001b[0m\u001b[0;34m,\u001b[0m \u001b[0mhl\u001b[0m\u001b[0;34m.\u001b[0m\u001b[0mtarray\u001b[0m\u001b[0;34m(\u001b[0m\u001b[0mt\u001b[0m\u001b[0;34m.\u001b[0m\u001b[0mrow\u001b[0m\u001b[0;34m.\u001b[0m\u001b[0mdtype\u001b[0m\u001b[0;34m)\u001b[0m\u001b[0;34m)\u001b[0m\u001b[0;34m\u001b[0m\u001b[0;34m\u001b[0m\u001b[0m\n\u001b[1;32m   1837\u001b[0m         \u001b[0;32mif\u001b[0m \u001b[0m_localize\u001b[0m\u001b[0;34m:\u001b[0m\u001b[0;34m\u001b[0m\u001b[0;34m\u001b[0m\u001b[0m\n\u001b[0;32m-> 1838\u001b[0;31m             \u001b[0;32mreturn\u001b[0m \u001b[0mEnv\u001b[0m\u001b[0;34m.\u001b[0m\u001b[0mbackend\u001b[0m\u001b[0;34m(\u001b[0m\u001b[0;34m)\u001b[0m\u001b[0;34m.\u001b[0m\u001b[0mexecute\u001b[0m\u001b[0;34m(\u001b[0m\u001b[0me\u001b[0m\u001b[0;34m.\u001b[0m\u001b[0m_ir\u001b[0m\u001b[0;34m)\u001b[0m\u001b[0;34m\u001b[0m\u001b[0;34m\u001b[0m\u001b[0m\n\u001b[0m\u001b[1;32m   1839\u001b[0m         \u001b[0;32melse\u001b[0m\u001b[0;34m:\u001b[0m\u001b[0;34m\u001b[0m\u001b[0;34m\u001b[0m\u001b[0m\n\u001b[1;32m   1840\u001b[0m             \u001b[0;32mreturn\u001b[0m \u001b[0me\u001b[0m\u001b[0;34m\u001b[0m\u001b[0;34m\u001b[0m\u001b[0m\n",
      "\u001b[0;32m~/Downloads/miniconda3/envs/hail/lib/python3.7/site-packages/hail/backend/backend.py\u001b[0m in \u001b[0;36mexecute\u001b[0;34m(self, ir, timed)\u001b[0m\n\u001b[1;32m    107\u001b[0m \u001b[0;34m\u001b[0m\u001b[0m\n\u001b[1;32m    108\u001b[0m     \u001b[0;32mdef\u001b[0m \u001b[0mexecute\u001b[0m\u001b[0;34m(\u001b[0m\u001b[0mself\u001b[0m\u001b[0;34m,\u001b[0m \u001b[0mir\u001b[0m\u001b[0;34m,\u001b[0m \u001b[0mtimed\u001b[0m\u001b[0;34m=\u001b[0m\u001b[0;32mFalse\u001b[0m\u001b[0;34m)\u001b[0m\u001b[0;34m:\u001b[0m\u001b[0;34m\u001b[0m\u001b[0;34m\u001b[0m\u001b[0m\n\u001b[0;32m--> 109\u001b[0;31m         \u001b[0mresult\u001b[0m \u001b[0;34m=\u001b[0m \u001b[0mjson\u001b[0m\u001b[0;34m.\u001b[0m\u001b[0mloads\u001b[0m\u001b[0;34m(\u001b[0m\u001b[0mEnv\u001b[0m\u001b[0;34m.\u001b[0m\u001b[0mhc\u001b[0m\u001b[0;34m(\u001b[0m\u001b[0;34m)\u001b[0m\u001b[0;34m.\u001b[0m\u001b[0m_jhc\u001b[0m\u001b[0;34m.\u001b[0m\u001b[0mbackend\u001b[0m\u001b[0;34m(\u001b[0m\u001b[0;34m)\u001b[0m\u001b[0;34m.\u001b[0m\u001b[0mexecuteJSON\u001b[0m\u001b[0;34m(\u001b[0m\u001b[0mself\u001b[0m\u001b[0;34m.\u001b[0m\u001b[0m_to_java_ir\u001b[0m\u001b[0;34m(\u001b[0m\u001b[0mir\u001b[0m\u001b[0;34m)\u001b[0m\u001b[0;34m)\u001b[0m\u001b[0;34m)\u001b[0m\u001b[0;34m\u001b[0m\u001b[0;34m\u001b[0m\u001b[0m\n\u001b[0m\u001b[1;32m    110\u001b[0m         \u001b[0mvalue\u001b[0m \u001b[0;34m=\u001b[0m \u001b[0mir\u001b[0m\u001b[0;34m.\u001b[0m\u001b[0mtyp\u001b[0m\u001b[0;34m.\u001b[0m\u001b[0m_from_json\u001b[0m\u001b[0;34m(\u001b[0m\u001b[0mresult\u001b[0m\u001b[0;34m[\u001b[0m\u001b[0;34m'value'\u001b[0m\u001b[0;34m]\u001b[0m\u001b[0;34m)\u001b[0m\u001b[0;34m\u001b[0m\u001b[0;34m\u001b[0m\u001b[0m\n\u001b[1;32m    111\u001b[0m         \u001b[0mtimings\u001b[0m \u001b[0;34m=\u001b[0m \u001b[0mresult\u001b[0m\u001b[0;34m[\u001b[0m\u001b[0;34m'timings'\u001b[0m\u001b[0;34m]\u001b[0m\u001b[0;34m\u001b[0m\u001b[0;34m\u001b[0m\u001b[0m\n",
      "\u001b[0;32m~/Downloads/miniconda3/envs/hail/lib/python3.7/site-packages/py4j/java_gateway.py\u001b[0m in \u001b[0;36m__call__\u001b[0;34m(self, *args)\u001b[0m\n\u001b[1;32m   1253\u001b[0m             \u001b[0mproto\u001b[0m\u001b[0;34m.\u001b[0m\u001b[0mEND_COMMAND_PART\u001b[0m\u001b[0;34m\u001b[0m\u001b[0;34m\u001b[0m\u001b[0m\n\u001b[1;32m   1254\u001b[0m \u001b[0;34m\u001b[0m\u001b[0m\n\u001b[0;32m-> 1255\u001b[0;31m         \u001b[0manswer\u001b[0m \u001b[0;34m=\u001b[0m \u001b[0mself\u001b[0m\u001b[0;34m.\u001b[0m\u001b[0mgateway_client\u001b[0m\u001b[0;34m.\u001b[0m\u001b[0msend_command\u001b[0m\u001b[0;34m(\u001b[0m\u001b[0mcommand\u001b[0m\u001b[0;34m)\u001b[0m\u001b[0;34m\u001b[0m\u001b[0;34m\u001b[0m\u001b[0m\n\u001b[0m\u001b[1;32m   1256\u001b[0m         return_value = get_return_value(\n\u001b[1;32m   1257\u001b[0m             answer, self.gateway_client, self.target_id, self.name)\n",
      "\u001b[0;32m~/Downloads/miniconda3/envs/hail/lib/python3.7/site-packages/py4j/java_gateway.py\u001b[0m in \u001b[0;36msend_command\u001b[0;34m(self, command, retry, binary)\u001b[0m\n\u001b[1;32m    981\u001b[0m          \u001b[0;32mif\u001b[0m\u001b[0;31m \u001b[0m\u001b[0;31m`\u001b[0m\u001b[0mbinary\u001b[0m\u001b[0;31m`\u001b[0m \u001b[0;32mis\u001b[0m\u001b[0;31m \u001b[0m\u001b[0;31m`\u001b[0m\u001b[0;32mTrue\u001b[0m\u001b[0;31m`\u001b[0m\u001b[0;34m.\u001b[0m\u001b[0;34m\u001b[0m\u001b[0;34m\u001b[0m\u001b[0m\n\u001b[1;32m    982\u001b[0m         \"\"\"\n\u001b[0;32m--> 983\u001b[0;31m         \u001b[0mconnection\u001b[0m \u001b[0;34m=\u001b[0m \u001b[0mself\u001b[0m\u001b[0;34m.\u001b[0m\u001b[0m_get_connection\u001b[0m\u001b[0;34m(\u001b[0m\u001b[0;34m)\u001b[0m\u001b[0;34m\u001b[0m\u001b[0;34m\u001b[0m\u001b[0m\n\u001b[0m\u001b[1;32m    984\u001b[0m         \u001b[0;32mtry\u001b[0m\u001b[0;34m:\u001b[0m\u001b[0;34m\u001b[0m\u001b[0;34m\u001b[0m\u001b[0m\n\u001b[1;32m    985\u001b[0m             \u001b[0mresponse\u001b[0m \u001b[0;34m=\u001b[0m \u001b[0mconnection\u001b[0m\u001b[0;34m.\u001b[0m\u001b[0msend_command\u001b[0m\u001b[0;34m(\u001b[0m\u001b[0mcommand\u001b[0m\u001b[0;34m)\u001b[0m\u001b[0;34m\u001b[0m\u001b[0;34m\u001b[0m\u001b[0m\n",
      "\u001b[0;32m~/Downloads/miniconda3/envs/hail/lib/python3.7/site-packages/py4j/java_gateway.py\u001b[0m in \u001b[0;36m_get_connection\u001b[0;34m(self)\u001b[0m\n\u001b[1;32m    929\u001b[0m             \u001b[0mconnection\u001b[0m \u001b[0;34m=\u001b[0m \u001b[0mself\u001b[0m\u001b[0;34m.\u001b[0m\u001b[0mdeque\u001b[0m\u001b[0;34m.\u001b[0m\u001b[0mpop\u001b[0m\u001b[0;34m(\u001b[0m\u001b[0;34m)\u001b[0m\u001b[0;34m\u001b[0m\u001b[0;34m\u001b[0m\u001b[0m\n\u001b[1;32m    930\u001b[0m         \u001b[0;32mexcept\u001b[0m \u001b[0mIndexError\u001b[0m\u001b[0;34m:\u001b[0m\u001b[0;34m\u001b[0m\u001b[0;34m\u001b[0m\u001b[0m\n\u001b[0;32m--> 931\u001b[0;31m             \u001b[0mconnection\u001b[0m \u001b[0;34m=\u001b[0m \u001b[0mself\u001b[0m\u001b[0;34m.\u001b[0m\u001b[0m_create_connection\u001b[0m\u001b[0;34m(\u001b[0m\u001b[0;34m)\u001b[0m\u001b[0;34m\u001b[0m\u001b[0;34m\u001b[0m\u001b[0m\n\u001b[0m\u001b[1;32m    932\u001b[0m         \u001b[0;32mreturn\u001b[0m \u001b[0mconnection\u001b[0m\u001b[0;34m\u001b[0m\u001b[0;34m\u001b[0m\u001b[0m\n\u001b[1;32m    933\u001b[0m \u001b[0;34m\u001b[0m\u001b[0m\n",
      "\u001b[0;32m~/Downloads/miniconda3/envs/hail/lib/python3.7/site-packages/py4j/java_gateway.py\u001b[0m in \u001b[0;36m_create_connection\u001b[0;34m(self)\u001b[0m\n\u001b[1;32m    935\u001b[0m         connection = GatewayConnection(\n\u001b[1;32m    936\u001b[0m             self.gateway_parameters, self.gateway_property)\n\u001b[0;32m--> 937\u001b[0;31m         \u001b[0mconnection\u001b[0m\u001b[0;34m.\u001b[0m\u001b[0mstart\u001b[0m\u001b[0;34m(\u001b[0m\u001b[0;34m)\u001b[0m\u001b[0;34m\u001b[0m\u001b[0;34m\u001b[0m\u001b[0m\n\u001b[0m\u001b[1;32m    938\u001b[0m         \u001b[0;32mreturn\u001b[0m \u001b[0mconnection\u001b[0m\u001b[0;34m\u001b[0m\u001b[0;34m\u001b[0m\u001b[0m\n\u001b[1;32m    939\u001b[0m \u001b[0;34m\u001b[0m\u001b[0m\n",
      "\u001b[0;32m~/Downloads/miniconda3/envs/hail/lib/python3.7/site-packages/py4j/java_gateway.py\u001b[0m in \u001b[0;36mstart\u001b[0;34m(self)\u001b[0m\n\u001b[1;32m   1077\u001b[0m                 \u001b[0;34m\"server ({0}:{1})\"\u001b[0m\u001b[0;34m.\u001b[0m\u001b[0mformat\u001b[0m\u001b[0;34m(\u001b[0m\u001b[0mself\u001b[0m\u001b[0;34m.\u001b[0m\u001b[0maddress\u001b[0m\u001b[0;34m,\u001b[0m \u001b[0mself\u001b[0m\u001b[0;34m.\u001b[0m\u001b[0mport\u001b[0m\u001b[0;34m)\u001b[0m\u001b[0;34m\u001b[0m\u001b[0;34m\u001b[0m\u001b[0m\n\u001b[1;32m   1078\u001b[0m             \u001b[0mlogger\u001b[0m\u001b[0;34m.\u001b[0m\u001b[0mexception\u001b[0m\u001b[0;34m(\u001b[0m\u001b[0mmsg\u001b[0m\u001b[0;34m)\u001b[0m\u001b[0;34m\u001b[0m\u001b[0;34m\u001b[0m\u001b[0m\n\u001b[0;32m-> 1079\u001b[0;31m             \u001b[0;32mraise\u001b[0m \u001b[0mPy4JNetworkError\u001b[0m\u001b[0;34m(\u001b[0m\u001b[0mmsg\u001b[0m\u001b[0;34m,\u001b[0m \u001b[0me\u001b[0m\u001b[0;34m)\u001b[0m\u001b[0;34m\u001b[0m\u001b[0;34m\u001b[0m\u001b[0m\n\u001b[0m\u001b[1;32m   1080\u001b[0m \u001b[0;34m\u001b[0m\u001b[0m\n\u001b[1;32m   1081\u001b[0m     \u001b[0;32mdef\u001b[0m \u001b[0m_authenticate_connection\u001b[0m\u001b[0;34m(\u001b[0m\u001b[0mself\u001b[0m\u001b[0;34m)\u001b[0m\u001b[0;34m:\u001b[0m\u001b[0;34m\u001b[0m\u001b[0;34m\u001b[0m\u001b[0m\n",
      "\u001b[0;31mPy4JNetworkError\u001b[0m: An error occurred while trying to connect to the Java server (127.0.0.1:42519)"
     ]
    }
   ],
   "source": [
    "Tb_rett_SNP_HQdnv1_adrenal_1.group_by(Tb_rett_SNP_HQdnv1_adrenal_1.s).aggregate(n = hl.agg.count()).show(9)"
   ]
  },
  {
   "cell_type": "markdown",
   "metadata": {},
   "source": [
    "#### 7. CSQ annotation\n",
    ": alternative transcripts 고려\n"
   ]
  },
  {
   "cell_type": "code",
   "execution_count": 32,
   "metadata": {},
   "outputs": [
    {
     "name": "stdout",
     "output_type": "stream",
     "text": [
      "['Allele', 'Consequence', 'IMPACT', 'SYMBOL', 'Gene', 'Feature_type', 'Feature', 'BIOTYPE', 'EXON', 'INTRON', 'HGVSc', 'HGVSp', 'cDNA_position', 'CDS_position', 'Protein_position', 'Amino_acids', 'Codons', 'Existing_variation', 'DISTANCE', 'STRAND', 'FLAGS', 'VARIANT_CLASS', 'SYMBOL_SOURCE', 'HGNC_ID', 'CANONICAL', 'MANE', 'TSL', 'APPRIS', 'CCDS', 'ENSP', 'SWISSPROT', 'TREMBL', 'UNIPARC', 'SOURCE', 'GENE_PHENO', 'NEAREST', 'SIFT', 'PolyPhen', 'DOMAINS', 'miRNA', 'HGVS_OFFSET', 'AF', 'AFR_AF', 'AMR_AF', 'EAS_AF', 'EUR_AF', 'SAS_AF', 'AA_AF', 'EA_AF', 'gnomAD_AF', 'gnomAD_AFR_AF', 'gnomAD_AMR_AF', 'gnomAD_ASJ_AF', 'gnomAD_EAS_AF', 'gnomAD_FIN_AF', 'gnomAD_NFE_AF', 'gnomAD_OTH_AF', 'gnomAD_SAS_AF', 'MAX_AF', 'MAX_AF_POPS', 'CLIN_SIG', 'SOMATIC', 'PHENO', 'PUBMED', 'MOTIF_NAME', 'MOTIF_POS', 'HIGH_INF_POS', 'MOTIF_SCORE_CHANGE', 'MPC', 'gnomADg', 'gnomADg_AF']\n"
     ]
    }
   ],
   "source": [
    "import gzip\n",
    "with gzip.open('/home/titan/Hail/rett/191102-rett-wgs.vep_tx_191206.vcf.bgz', 'rt') as f:\n",
    "    for l in f:\n",
    "        if 'ID=CSQ' in l:\n",
    "            temp = l.strip('\\n').split('|')\n",
    "            break\n",
    "\n",
    "temp[0] = 'Allele';temp[70] = 'gnomADg_AF'\n",
    "\n",
    "print(temp)\n",
    "#print(temp.index('Consequence'))"
   ]
  },
  {
   "cell_type": "code",
   "execution_count": 35,
   "metadata": {},
   "outputs": [],
   "source": [
    "ref = ['transcript_ablation','splice_acceptor_variant','splice_donor_variant','stop_gained','frameshift_variant','stop_lost','start_lost','transcipt_amplification','inframe_insertion','inframe_deletion','missense_variant','protein_altering_variant','splice_region_variant','incomplete_terminal_codon_variant','start_retained_variant','stop_retained_variant','synonymous_variant','coding_sequence_variant','mature_miRNA_variant','5_prime_UTR_variant','3_prime_UTR_variant','non_coding_transcript_exon_variant','intron_variant','NMD_transcript_variant','non_coding_transcript_variant','upstream_gene_variant','downstream_gene_variant','TFBS_ablation','TFBS_amplification','TF_binding_site_variant','regulatory_region_ablation','regulatory_region_amplification','feature_enlogation', 'regulatory_region_variant','feature_truncation','intergenic_variant']\n",
    "ref = hl.array(ref)"
   ]
  },
  {
   "cell_type": "code",
   "execution_count": 31,
   "metadata": {},
   "outputs": [],
   "source": [
    "def CSQ(table):\n",
    "    t = table\n",
    "    t = t.annotate(v1 = hl.tuple([t.locus.contig.replace(\"chr\", \"\"),hl.str(t.locus.position)]),\n",
    "                   v2 = hl.tuple([t.alleles[0],t.alleles[1]]))\n",
    "    t = t.transmute(variant = hl.delimit(hl.array([t.v1[0],t.v1[1],t.v2[0],t.v2[1]]), \":\"))\n",
    "    t = t.annotate(CSQ= t.info.CSQ).explode('CSQ')\n",
    "    t = t.transmute(csq = t.CSQ.split('\\|')).explode('csq')\n",
    "    return t"
   ]
  },
  {
   "cell_type": "code",
   "execution_count": null,
   "metadata": {},
   "outputs": [],
   "source": [
    "# before the loop, run it just once for liftover\n",
    "rg37 = hl.get_reference('GRCh37')\n",
    "rg38 = hl.get_reference('GRCh38')\n",
    "rg37.add_liftover('/home/titan/resources/grch37_to_grch38.over.chain.gz', rg38) \n",
    "\n",
    "# CSQ annotation function -> used in DHS_filter function\n",
    "def CSQ(table):\n",
    "    t = table\n",
    "    t = t.annotate(v1 = hl.tuple([t.locus.contig.replace(\"chr\", \"\"),hl.str(t.locus.position)]),\n",
    "                   v2 = hl.tuple([t.alleles[0],t.alleles[1]]))\n",
    "    t = t.transmute(variant = hl.delimit(hl.array([t.v1[0],t.v1[1],t.v2[0],t.v2[1]]), \":\"))\n",
    "    t = t.annotate(CSQ= t.info.CSQ).explode('CSQ')\n",
    "    t = t.transmute(csq = t.CSQ.split('\\|')).explode('csq')\n",
    "    return t\n",
    "\n",
    "# DHS peak filtering function  \n",
    "# f :str 파일의 경로 / example: '/home/titan/Hail/rett/resources/adrenal_gland_fetal/GSM1027310_UW.Fetal_Adrenal_Gland.ChromatinAccessibility.H-24272.DNase.DS19395.bed'\n",
    "# rett에 resources 만들어야 되고, rett/tables 에 각 조직의 파일 만들어야 됨\n",
    "# include this function at the loop\n",
    "def DHS_filter(f, Tb_rett_SNP_HQdnv1, Tb_rett_SNP_HQdnv2, Tb_rett_Indel_HQdnv1, Tb_rett_Indel_HQdnv2):\n",
    "    bed = hl.import_bed(f, \n",
    "                        skip_invalid_intervals=True, \n",
    "                        contig_recoding={'chr1':'1', 'chr2':'2', 'chr3':'3','chr4':'4', 'chr5':'5', 'chr6':'6','chr7':'7', 'chr8':'8', 'chr9':'9', 'chr10':'10', 'chr11':'11', 'chr12':'12', 'chr13':'13','chr14':'14', 'chr15':'15', 'chr16':'16','chr17':'17', 'chr18':'18', 'chr19':'19','chr20':'20','chr21':'21', 'chr22':'22', 'chrX':'X', 'chrY':'Y', 'chrM':'MT'})\n",
    "    \n",
    "    bed = bed.annotate(new_interval = hl.liftover(bed.interval, 'GRCh38'))  \n",
    "    bed = bed.filter(hl.is_defined(bed.new_interval))  \n",
    "    bed = bed.key_by(interval = bed.new_interval)\n",
    "    \n",
    "    Tb_rett_SNP_HQdnv1 = Tb_rett_SNP_HQdnv1.filter(hl.is_defined(bed[Tb_rett_SNP_HQdnv1.locus]))\n",
    "    Tb_rett_SNP_HQdnv2 = Tb_rett_SNP_HQdnv2.filter(hl.is_defined(bed[Tb_rett_SNP_HQdnv2.locus]))\n",
    "    Tb_rett_Indel_HQdnv1 = Tb_rett_Indel_HQdnv1.filter(hl.is_defined(bed[Tb_rett_Indel_HQdnv1.locus]))\n",
    "    Tb_rett_Indel_HQdnv2 = Tb_rett_Indel_HQdnv2.filter(hl.is_defined(bed[Tb_rett_Indel_HQdnv2.locus]))\n",
    "    \n",
    "    Tb_rett_SNP_HQdnv1 = CSQ(Tb_rett_SNP_HQdnv1)\n",
    "    Tb_rett_SNP_HQdnv2 = CSQ(Tb_rett_SNP_HQdnv2)\n",
    "    Tb_rett_Indel_HQdnv1 = CSQ(Tb_rett_Indel_HQdnv1)\n",
    "    Tb_rett_Indel_HQdnv2 = CSQ(Tb_rett_Indel_HQdnv2)\n",
    "    \n",
    "    name_list = f.split('/')\n",
    "    tissue = name_list[6]\n",
    "    name = name_list[7]\n",
    "    Tb_rett_SNP_HQdnv1.export(\"/home/titan/Hail/rett/tables/\" + tissue + '/' + name + '.df_SNP_1_csq.tsv')\n",
    "    Tb_rett_SNP_HQdnv2.export(\"/home/titan/Hail/rett/tables/df_SNP_2_csq.tsv\")\n",
    "    Tb_rett_Indel_HQdnv1.export(\"/home/titan/Hail/rett/tables/df_Indel_1_csq.tsv\")\n",
    "    Tb_rett_Indel_HQdnv2.export(\"/home/titan/Hail/rett/tables/df_Indel_2_csq.tsv\")\n",
    "    \n",
    "    return None\n",
    "\n",
    "# loop for all 342 bed files\n"
   ]
  },
  {
   "cell_type": "code",
   "execution_count": 35,
   "metadata": {},
   "outputs": [],
   "source": [
    "Tb_rett_SNP_HQdnv1 = CSQ(Tb_rett_SNP_HQdnv1)\n",
    "Tb_rett_SNP_HQdnv2 = CSQ(Tb_rett_SNP_HQdnv2)\n",
    "Tb_rett_Indel_HQdnv1 = CSQ(Tb_rett_Indel_HQdnv1)\n",
    "Tb_rett_Indel_HQdnv2 = CSQ(Tb_rett_Indel_HQdnv2)"
   ]
  },
  {
   "cell_type": "code",
   "execution_count": 32,
   "metadata": {},
   "outputs": [],
   "source": [
    "Tb_rett_SNP_HQdnv1_adrenal_1 = CSQ(Tb_rett_SNP_HQdnv1_adrenal_1)\n",
    "Tb_rett_SNP_HQdnv2_adrenal_1 = CSQ(Tb_rett_SNP_HQdnv2_adrenal_1)\n",
    "Tb_rett_Indel_HQdnv1_adrenal_1 = CSQ(Tb_rett_Indel_HQdnv1_adrenal_1)\n",
    "Tb_rett_Indel_HQdnv2_adrenal_1 = CSQ(Tb_rett_Indel_HQdnv2_adrenal_1)"
   ]
  },
  {
   "cell_type": "code",
   "execution_count": 39,
   "metadata": {},
   "outputs": [
    {
     "name": "stderr",
     "output_type": "stream",
     "text": [
      "2020-01-22 16:40:18 Hail: INFO: Coerced sorted dataset\n",
      "2020-01-22 16:40:31 Hail: INFO: Coerced sorted dataset\n",
      "2020-01-22 16:41:03 Hail: INFO: Coerced sorted dataset\n",
      "2020-01-22 16:41:16 Hail: INFO: Coerced sorted dataset\n",
      "2020-01-22 16:41:29 Hail: INFO: Coerced sorted dataset\n",
      "2020-01-22 16:41:57 Hail: INFO: Coerced sorted dataset\n",
      "2020-01-22 16:44:05 Hail: INFO: Coerced sorted dataset\n",
      "2020-01-22 16:44:18 Hail: INFO: Coerced sorted dataset\n",
      "2020-01-22 16:44:47 Hail: INFO: Coerced sorted dataset\n",
      "2020-01-22 16:45:01 Hail: INFO: Coerced sorted dataset\n",
      "2020-01-22 16:45:14 Hail: INFO: Coerced sorted dataset\n",
      "2020-01-22 16:45:40 Hail: INFO: Coerced sorted dataset\n",
      "2020-01-22 16:47:40 Hail: INFO: Coerced sorted dataset\n",
      "2020-01-22 16:47:54 Hail: INFO: Coerced sorted dataset\n",
      "2020-01-22 16:48:37 Hail: INFO: Coerced sorted dataset\n",
      "2020-01-22 16:48:51 Hail: INFO: Coerced sorted dataset\n",
      "2020-01-22 16:49:04 Hail: INFO: Coerced sorted dataset\n",
      "2020-01-22 16:49:30 Hail: INFO: Coerced sorted dataset\n",
      "2020-01-22 16:51:35 Hail: INFO: Coerced sorted dataset\n",
      "2020-01-22 16:51:48 Hail: INFO: Coerced sorted dataset\n",
      "2020-01-22 16:52:01 Hail: INFO: Coerced sorted dataset\n",
      "2020-01-22 16:52:33 Hail: INFO: Coerced sorted dataset\n",
      "2020-01-22 16:52:46 Hail: INFO: Coerced sorted dataset\n",
      "2020-01-22 16:53:00 Hail: INFO: Coerced sorted dataset\n",
      "2020-01-22 16:53:26 Hail: INFO: Coerced sorted dataset\n",
      "2020-01-22 16:55:18 Hail: INFO: Coerced sorted dataset\n",
      "2020-01-22 16:55:31 Hail: INFO: Coerced sorted dataset\n",
      "2020-01-22 16:55:45 Hail: INFO: Coerced sorted dataset\n",
      "2020-01-22 16:56:18 Hail: INFO: Coerced sorted dataset\n",
      "2020-01-22 16:56:31 Hail: INFO: Coerced sorted dataset\n",
      "2020-01-22 16:56:44 Hail: INFO: Coerced sorted dataset\n",
      "2020-01-22 16:57:11 Hail: INFO: Coerced sorted dataset\n",
      "2020-01-22 16:59:04 Hail: INFO: Coerced sorted dataset\n",
      "2020-01-22 16:59:05 Hail: INFO: Ordering unsorted dataset with network shuffle\n",
      "2020-01-22 17:04:57 Hail: INFO: merging 136 files totalling 10.3M...\n",
      "2020-01-22 17:04:57 Hail: INFO: while writing:\n",
      "    /home/titan/Hail/rett/tables/df_SNP_1_csq.tsv\n",
      "  merge time: 58.385ms\n",
      "2020-01-22 17:05:13 Hail: INFO: Coerced sorted dataset\n",
      "2020-01-22 17:05:27 Hail: INFO: Coerced sorted dataset\n",
      "2020-01-22 17:06:01 Hail: INFO: Coerced sorted dataset\n",
      "2020-01-22 17:06:14 Hail: INFO: Coerced sorted dataset\n",
      "2020-01-22 17:06:27 Hail: INFO: Coerced sorted dataset\n",
      "2020-01-22 17:06:53 Hail: INFO: Coerced sorted dataset\n",
      "2020-01-22 17:08:58 Hail: INFO: Coerced sorted dataset\n",
      "2020-01-22 17:09:12 Hail: INFO: Coerced sorted dataset\n",
      "2020-01-22 17:09:40 Hail: INFO: Coerced sorted dataset\n",
      "2020-01-22 17:09:54 Hail: INFO: Coerced sorted dataset\n",
      "2020-01-22 17:10:08 Hail: INFO: Coerced sorted dataset\n",
      "2020-01-22 17:10:35 Hail: INFO: Coerced sorted dataset\n",
      "2020-01-22 17:12:40 Hail: INFO: Coerced sorted dataset\n",
      "2020-01-22 17:12:53 Hail: INFO: Coerced sorted dataset\n",
      "2020-01-22 17:13:37 Hail: INFO: Coerced sorted dataset\n",
      "2020-01-22 17:13:51 Hail: INFO: Coerced sorted dataset\n",
      "2020-01-22 17:14:05 Hail: INFO: Coerced sorted dataset\n",
      "2020-01-22 17:14:33 Hail: INFO: Coerced sorted dataset\n",
      "2020-01-22 17:16:41 Hail: INFO: Coerced sorted dataset\n",
      "2020-01-22 17:16:54 Hail: INFO: Coerced sorted dataset\n",
      "2020-01-22 17:17:07 Hail: INFO: Coerced sorted dataset\n",
      "2020-01-22 17:17:38 Hail: INFO: Coerced sorted dataset\n",
      "2020-01-22 17:17:51 Hail: INFO: Coerced sorted dataset\n",
      "2020-01-22 17:18:05 Hail: INFO: Coerced sorted dataset\n",
      "2020-01-22 17:18:32 Hail: INFO: Coerced sorted dataset\n",
      "2020-01-22 17:20:24 Hail: INFO: Coerced sorted dataset\n",
      "2020-01-22 17:20:38 Hail: INFO: Coerced sorted dataset\n",
      "2020-01-22 17:20:51 Hail: INFO: Coerced sorted dataset\n",
      "2020-01-22 17:21:24 Hail: INFO: Coerced sorted dataset\n",
      "2020-01-22 17:21:37 Hail: INFO: Coerced sorted dataset\n",
      "2020-01-22 17:21:51 Hail: INFO: Coerced sorted dataset\n",
      "2020-01-22 17:22:17 Hail: INFO: Coerced sorted dataset\n",
      "2020-01-22 17:24:11 Hail: INFO: Coerced sorted dataset\n",
      "2020-01-22 17:24:12 Hail: INFO: Ordering unsorted dataset with network shuffle\n",
      "2020-01-22 17:30:19 Hail: INFO: merging 137 files totalling 10.2M...\n",
      "2020-01-22 17:30:19 Hail: INFO: while writing:\n",
      "    /home/titan/Hail/rett/tables/df_SNP_2_csq.tsv\n",
      "  merge time: 54.484ms\n",
      "2020-01-22 17:30:34 Hail: INFO: Coerced sorted dataset\n",
      "2020-01-22 17:30:48 Hail: INFO: Coerced sorted dataset\n",
      "2020-01-22 17:31:21 Hail: INFO: Coerced sorted dataset\n",
      "2020-01-22 17:31:35 Hail: INFO: Coerced sorted dataset\n",
      "2020-01-22 17:31:49 Hail: INFO: Coerced sorted dataset\n",
      "2020-01-22 17:32:15 Hail: INFO: Coerced sorted dataset\n",
      "2020-01-22 17:34:22 Hail: INFO: Coerced sorted dataset\n",
      "2020-01-22 17:34:36 Hail: INFO: Coerced sorted dataset\n",
      "2020-01-22 17:35:03 Hail: INFO: Coerced sorted dataset\n",
      "2020-01-22 17:35:16 Hail: INFO: Coerced sorted dataset\n",
      "2020-01-22 17:35:30 Hail: INFO: Coerced sorted dataset\n",
      "2020-01-22 17:35:57 Hail: INFO: Coerced sorted dataset\n",
      "2020-01-22 17:37:57 Hail: INFO: Coerced sorted dataset\n",
      "2020-01-22 17:38:10 Hail: INFO: Coerced sorted dataset\n",
      "2020-01-22 17:38:53 Hail: INFO: Coerced sorted dataset\n",
      "2020-01-22 17:39:06 Hail: INFO: Coerced sorted dataset\n",
      "2020-01-22 17:39:19 Hail: INFO: Coerced sorted dataset\n",
      "2020-01-22 17:39:48 Hail: INFO: Coerced sorted dataset\n",
      "2020-01-22 17:41:56 Hail: INFO: Coerced sorted dataset\n",
      "2020-01-22 17:42:09 Hail: INFO: Coerced sorted dataset\n",
      "2020-01-22 17:42:23 Hail: INFO: Coerced sorted dataset\n",
      "2020-01-22 17:42:53 Hail: INFO: Coerced sorted dataset\n",
      "2020-01-22 17:43:07 Hail: INFO: Coerced sorted dataset\n",
      "2020-01-22 17:43:21 Hail: INFO: Coerced sorted dataset\n",
      "2020-01-22 17:43:47 Hail: INFO: Coerced sorted dataset\n",
      "2020-01-22 17:45:43 Hail: INFO: Coerced sorted dataset\n",
      "2020-01-22 17:45:56 Hail: INFO: Coerced sorted dataset\n",
      "2020-01-22 17:46:10 Hail: INFO: Coerced sorted dataset\n",
      "2020-01-22 17:46:43 Hail: INFO: Coerced sorted dataset\n",
      "2020-01-22 17:46:57 Hail: INFO: Coerced sorted dataset\n",
      "2020-01-22 17:47:11 Hail: INFO: Coerced sorted dataset\n",
      "2020-01-22 17:47:39 Hail: INFO: Coerced sorted dataset\n",
      "2020-01-22 17:49:35 Hail: INFO: Coerced sorted dataset\n",
      "2020-01-22 17:49:36 Hail: INFO: Ordering unsorted dataset with network shuffle\n",
      "2020-01-22 17:49:37 Hail: INFO: Ordering unsorted dataset with network shuffle\n",
      "2020-01-22 17:56:09 Hail: INFO: merging 136 files totalling 10.3M...\n",
      "2020-01-22 17:56:09 Hail: INFO: while writing:\n",
      "    /home/titan/Hail/rett/tables/df_Indel_1_csq.tsv\n",
      "  merge time: 55.434ms\n",
      "2020-01-22 17:56:25 Hail: INFO: Coerced sorted dataset\n",
      "2020-01-22 17:56:40 Hail: INFO: Coerced sorted dataset\n",
      "2020-01-22 17:57:14 Hail: INFO: Coerced sorted dataset\n",
      "2020-01-22 17:57:28 Hail: INFO: Coerced sorted dataset\n",
      "2020-01-22 17:57:42 Hail: INFO: Coerced sorted dataset\n",
      "2020-01-22 17:58:08 Hail: INFO: Coerced sorted dataset\n",
      "2020-01-22 18:00:18 Hail: INFO: Coerced sorted dataset\n",
      "2020-01-22 18:00:32 Hail: INFO: Coerced sorted dataset\n",
      "2020-01-22 18:01:02 Hail: INFO: Coerced sorted dataset\n",
      "2020-01-22 18:01:15 Hail: INFO: Coerced sorted dataset\n",
      "2020-01-22 18:01:29 Hail: INFO: Coerced sorted dataset\n",
      "2020-01-22 18:01:56 Hail: INFO: Coerced sorted dataset\n",
      "2020-01-22 18:04:01 Hail: INFO: Coerced sorted dataset\n",
      "2020-01-22 18:04:14 Hail: INFO: Coerced sorted dataset\n",
      "2020-01-22 18:05:01 Hail: INFO: Coerced sorted dataset\n",
      "2020-01-22 18:05:15 Hail: INFO: Coerced sorted dataset\n",
      "2020-01-22 18:05:29 Hail: INFO: Coerced sorted dataset\n",
      "2020-01-22 18:05:55 Hail: INFO: Coerced sorted dataset\n",
      "2020-01-22 18:08:00 Hail: INFO: Coerced sorted dataset\n",
      "2020-01-22 18:08:13 Hail: INFO: Coerced sorted dataset\n",
      "2020-01-22 18:08:27 Hail: INFO: Coerced sorted dataset\n",
      "2020-01-22 18:08:58 Hail: INFO: Coerced sorted dataset\n",
      "2020-01-22 18:09:11 Hail: INFO: Coerced sorted dataset\n",
      "2020-01-22 18:09:25 Hail: INFO: Coerced sorted dataset\n",
      "2020-01-22 18:09:51 Hail: INFO: Coerced sorted dataset\n",
      "2020-01-22 18:11:44 Hail: INFO: Coerced sorted dataset\n",
      "2020-01-22 18:11:57 Hail: INFO: Coerced sorted dataset\n",
      "2020-01-22 18:12:11 Hail: INFO: Coerced sorted dataset\n",
      "2020-01-22 18:12:43 Hail: INFO: Coerced sorted dataset\n",
      "2020-01-22 18:12:57 Hail: INFO: Coerced sorted dataset\n",
      "2020-01-22 18:13:10 Hail: INFO: Coerced sorted dataset\n",
      "2020-01-22 18:13:37 Hail: INFO: Coerced sorted dataset\n",
      "2020-01-22 18:15:35 Hail: INFO: Coerced sorted dataset\n",
      "2020-01-22 18:15:36 Hail: INFO: Ordering unsorted dataset with network shuffle\n"
     ]
    },
    {
     "name": "stderr",
     "output_type": "stream",
     "text": [
      "2020-01-22 18:15:37 Hail: INFO: Ordering unsorted dataset with network shuffle\n",
      "2020-01-22 18:22:19 Hail: INFO: merging 137 files totalling 10.2M...\n",
      "2020-01-22 18:22:19 Hail: INFO: while writing:\n",
      "    /home/titan/Hail/rett/tables/df_Indel_2_csq.tsv\n",
      "  merge time: 38.172ms\n"
     ]
    }
   ],
   "source": [
    "Tb_rett_SNP_HQdnv1.export(\"/home/titan/Hail/rett/tables/df_SNP_1_csq.tsv\")\n",
    "Tb_rett_SNP_HQdnv2.export(\"/home/titan/Hail/rett/tables/df_SNP_2_csq.tsv\")\n",
    "Tb_rett_Indel_HQdnv1.export(\"/home/titan/Hail/rett/tables/df_Indel_1_csq.tsv\")\n",
    "Tb_rett_Indel_HQdnv2.export(\"/home/titan/Hail/rett/tables/df_Indel_2_csq.tsv\")"
   ]
  },
  {
   "cell_type": "code",
   "execution_count": 35,
   "metadata": {},
   "outputs": [
    {
     "name": "stderr",
     "output_type": "stream",
     "text": [
      "ERROR:py4j.java_gateway:An error occurred while trying to connect to the Java server (127.0.0.1:41765)\n",
      "Traceback (most recent call last):\n",
      "  File \"/home/titan/Downloads/miniconda3/envs/hail/lib/python3.7/site-packages/py4j/java_gateway.py\", line 929, in _get_connection\n",
      "    connection = self.deque.pop()\n",
      "IndexError: pop from an empty deque\n",
      "\n",
      "During handling of the above exception, another exception occurred:\n",
      "\n",
      "Traceback (most recent call last):\n",
      "  File \"/home/titan/Downloads/miniconda3/envs/hail/lib/python3.7/site-packages/py4j/java_gateway.py\", line 1067, in start\n",
      "    self.socket.connect((self.address, self.port))\n",
      "ConnectionRefusedError: [Errno 111] Connection refused\n"
     ]
    },
    {
     "ename": "Py4JNetworkError",
     "evalue": "An error occurred while trying to connect to the Java server (127.0.0.1:41765)",
     "output_type": "error",
     "traceback": [
      "\u001b[0;31m---------------------------------------------------------------------------\u001b[0m",
      "\u001b[0;31mIndexError\u001b[0m                                Traceback (most recent call last)",
      "\u001b[0;32m~/Downloads/miniconda3/envs/hail/lib/python3.7/site-packages/py4j/java_gateway.py\u001b[0m in \u001b[0;36m_get_connection\u001b[0;34m(self)\u001b[0m\n\u001b[1;32m    928\u001b[0m         \u001b[0;32mtry\u001b[0m\u001b[0;34m:\u001b[0m\u001b[0;34m\u001b[0m\u001b[0;34m\u001b[0m\u001b[0m\n\u001b[0;32m--> 929\u001b[0;31m             \u001b[0mconnection\u001b[0m \u001b[0;34m=\u001b[0m \u001b[0mself\u001b[0m\u001b[0;34m.\u001b[0m\u001b[0mdeque\u001b[0m\u001b[0;34m.\u001b[0m\u001b[0mpop\u001b[0m\u001b[0;34m(\u001b[0m\u001b[0;34m)\u001b[0m\u001b[0;34m\u001b[0m\u001b[0;34m\u001b[0m\u001b[0m\n\u001b[0m\u001b[1;32m    930\u001b[0m         \u001b[0;32mexcept\u001b[0m \u001b[0mIndexError\u001b[0m\u001b[0;34m:\u001b[0m\u001b[0;34m\u001b[0m\u001b[0;34m\u001b[0m\u001b[0m\n",
      "\u001b[0;31mIndexError\u001b[0m: pop from an empty deque",
      "\nDuring handling of the above exception, another exception occurred:\n",
      "\u001b[0;31mConnectionRefusedError\u001b[0m                    Traceback (most recent call last)",
      "\u001b[0;32m~/Downloads/miniconda3/envs/hail/lib/python3.7/site-packages/py4j/java_gateway.py\u001b[0m in \u001b[0;36mstart\u001b[0;34m(self)\u001b[0m\n\u001b[1;32m   1066\u001b[0m         \u001b[0;32mtry\u001b[0m\u001b[0;34m:\u001b[0m\u001b[0;34m\u001b[0m\u001b[0;34m\u001b[0m\u001b[0m\n\u001b[0;32m-> 1067\u001b[0;31m             \u001b[0mself\u001b[0m\u001b[0;34m.\u001b[0m\u001b[0msocket\u001b[0m\u001b[0;34m.\u001b[0m\u001b[0mconnect\u001b[0m\u001b[0;34m(\u001b[0m\u001b[0;34m(\u001b[0m\u001b[0mself\u001b[0m\u001b[0;34m.\u001b[0m\u001b[0maddress\u001b[0m\u001b[0;34m,\u001b[0m \u001b[0mself\u001b[0m\u001b[0;34m.\u001b[0m\u001b[0mport\u001b[0m\u001b[0;34m)\u001b[0m\u001b[0;34m)\u001b[0m\u001b[0;34m\u001b[0m\u001b[0;34m\u001b[0m\u001b[0m\n\u001b[0m\u001b[1;32m   1068\u001b[0m             \u001b[0mself\u001b[0m\u001b[0;34m.\u001b[0m\u001b[0mstream\u001b[0m \u001b[0;34m=\u001b[0m \u001b[0mself\u001b[0m\u001b[0;34m.\u001b[0m\u001b[0msocket\u001b[0m\u001b[0;34m.\u001b[0m\u001b[0mmakefile\u001b[0m\u001b[0;34m(\u001b[0m\u001b[0;34m\"rb\"\u001b[0m\u001b[0;34m)\u001b[0m\u001b[0;34m\u001b[0m\u001b[0;34m\u001b[0m\u001b[0m\n",
      "\u001b[0;31mConnectionRefusedError\u001b[0m: [Errno 111] Connection refused",
      "\nDuring handling of the above exception, another exception occurred:\n",
      "\u001b[0;31mPy4JNetworkError\u001b[0m                          Traceback (most recent call last)",
      "\u001b[0;32m<ipython-input-35-b608dd9c5410>\u001b[0m in \u001b[0;36m<module>\u001b[0;34m\u001b[0m\n\u001b[0;32m----> 1\u001b[0;31m \u001b[0mTb_rett_SNP_HQdnv1_adrenal_1\u001b[0m\u001b[0;34m.\u001b[0m\u001b[0mexport\u001b[0m\u001b[0;34m(\u001b[0m\u001b[0;34m\"/home/titan/Hail/rett/tables/df_SNP_1_csq_adrenal_1.tsv\"\u001b[0m\u001b[0;34m)\u001b[0m\u001b[0;34m\u001b[0m\u001b[0;34m\u001b[0m\u001b[0m\n\u001b[0m",
      "\u001b[0;32m</home/titan/Downloads/miniconda3/envs/hail/lib/python3.7/site-packages/decorator.py:decorator-gen-1045>\u001b[0m in \u001b[0;36mexport\u001b[0;34m(self, output, types_file, header, parallel, delimiter)\u001b[0m\n",
      "\u001b[0;32m~/Downloads/miniconda3/envs/hail/lib/python3.7/site-packages/hail/typecheck/check.py\u001b[0m in \u001b[0;36mwrapper\u001b[0;34m(__original_func, *args, **kwargs)\u001b[0m\n\u001b[1;32m    583\u001b[0m     \u001b[0;32mdef\u001b[0m \u001b[0mwrapper\u001b[0m\u001b[0;34m(\u001b[0m\u001b[0m__original_func\u001b[0m\u001b[0;34m,\u001b[0m \u001b[0;34m*\u001b[0m\u001b[0margs\u001b[0m\u001b[0;34m,\u001b[0m \u001b[0;34m**\u001b[0m\u001b[0mkwargs\u001b[0m\u001b[0;34m)\u001b[0m\u001b[0;34m:\u001b[0m\u001b[0;34m\u001b[0m\u001b[0;34m\u001b[0m\u001b[0m\n\u001b[1;32m    584\u001b[0m         \u001b[0margs_\u001b[0m\u001b[0;34m,\u001b[0m \u001b[0mkwargs_\u001b[0m \u001b[0;34m=\u001b[0m \u001b[0mcheck_all\u001b[0m\u001b[0;34m(\u001b[0m\u001b[0m__original_func\u001b[0m\u001b[0;34m,\u001b[0m \u001b[0margs\u001b[0m\u001b[0;34m,\u001b[0m \u001b[0mkwargs\u001b[0m\u001b[0;34m,\u001b[0m \u001b[0mcheckers\u001b[0m\u001b[0;34m,\u001b[0m \u001b[0mis_method\u001b[0m\u001b[0;34m=\u001b[0m\u001b[0mis_method\u001b[0m\u001b[0;34m)\u001b[0m\u001b[0;34m\u001b[0m\u001b[0;34m\u001b[0m\u001b[0m\n\u001b[0;32m--> 585\u001b[0;31m         \u001b[0;32mreturn\u001b[0m \u001b[0m__original_func\u001b[0m\u001b[0;34m(\u001b[0m\u001b[0;34m*\u001b[0m\u001b[0margs_\u001b[0m\u001b[0;34m,\u001b[0m \u001b[0;34m**\u001b[0m\u001b[0mkwargs_\u001b[0m\u001b[0;34m)\u001b[0m\u001b[0;34m\u001b[0m\u001b[0;34m\u001b[0m\u001b[0m\n\u001b[0m\u001b[1;32m    586\u001b[0m \u001b[0;34m\u001b[0m\u001b[0m\n\u001b[1;32m    587\u001b[0m     \u001b[0;32mreturn\u001b[0m \u001b[0mwrapper\u001b[0m\u001b[0;34m\u001b[0m\u001b[0;34m\u001b[0m\u001b[0m\n",
      "\u001b[0;32m~/Downloads/miniconda3/envs/hail/lib/python3.7/site-packages/hail/table.py\u001b[0m in \u001b[0;36mexport\u001b[0;34m(self, output, types_file, header, parallel, delimiter)\u001b[0m\n\u001b[1;32m   1011\u001b[0m         Env.backend().execute(\n\u001b[1;32m   1012\u001b[0m             TableWrite(self._tir, TableTextWriter(output, types_file, header,\n\u001b[0;32m-> 1013\u001b[0;31m                                                   Env.hail().utils.ExportType.getExportType(parallel), delimiter)))\n\u001b[0m\u001b[1;32m   1014\u001b[0m \u001b[0;34m\u001b[0m\u001b[0m\n\u001b[1;32m   1015\u001b[0m     \u001b[0;32mdef\u001b[0m \u001b[0mgroup_by\u001b[0m\u001b[0;34m(\u001b[0m\u001b[0mself\u001b[0m\u001b[0;34m,\u001b[0m \u001b[0;34m*\u001b[0m\u001b[0mexprs\u001b[0m\u001b[0;34m,\u001b[0m \u001b[0;34m**\u001b[0m\u001b[0mnamed_exprs\u001b[0m\u001b[0;34m)\u001b[0m \u001b[0;34m->\u001b[0m \u001b[0;34m'GroupedTable'\u001b[0m\u001b[0;34m:\u001b[0m\u001b[0;34m\u001b[0m\u001b[0;34m\u001b[0m\u001b[0m\n",
      "\u001b[0;32m~/Downloads/miniconda3/envs/hail/lib/python3.7/site-packages/py4j/java_gateway.py\u001b[0m in \u001b[0;36m__getattr__\u001b[0;34m(self, name)\u001b[0m\n\u001b[1;32m   1589\u001b[0m             \u001b[0mself\u001b[0m\u001b[0;34m.\u001b[0m\u001b[0m_jvm_id\u001b[0m \u001b[0;34m+\u001b[0m \u001b[0;34m\"\\n\"\u001b[0m \u001b[0;34m+\u001b[0m\u001b[0;31m\\\u001b[0m\u001b[0;34m\u001b[0m\u001b[0;34m\u001b[0m\u001b[0m\n\u001b[1;32m   1590\u001b[0m             \u001b[0mproto\u001b[0m\u001b[0;34m.\u001b[0m\u001b[0mEND_COMMAND_PART\u001b[0m\u001b[0;34m\u001b[0m\u001b[0;34m\u001b[0m\u001b[0m\n\u001b[0;32m-> 1591\u001b[0;31m         \u001b[0manswer\u001b[0m \u001b[0;34m=\u001b[0m \u001b[0mself\u001b[0m\u001b[0;34m.\u001b[0m\u001b[0m_gateway_client\u001b[0m\u001b[0;34m.\u001b[0m\u001b[0msend_command\u001b[0m\u001b[0;34m(\u001b[0m\u001b[0mcommand\u001b[0m\u001b[0;34m)\u001b[0m\u001b[0;34m\u001b[0m\u001b[0;34m\u001b[0m\u001b[0m\n\u001b[0m\u001b[1;32m   1592\u001b[0m         \u001b[0;32mif\u001b[0m \u001b[0manswer\u001b[0m \u001b[0;34m==\u001b[0m \u001b[0mproto\u001b[0m\u001b[0;34m.\u001b[0m\u001b[0mSUCCESS_PACKAGE\u001b[0m\u001b[0;34m:\u001b[0m\u001b[0;34m\u001b[0m\u001b[0;34m\u001b[0m\u001b[0m\n\u001b[1;32m   1593\u001b[0m             \u001b[0;32mreturn\u001b[0m \u001b[0mJavaPackage\u001b[0m\u001b[0;34m(\u001b[0m\u001b[0mnew_fqn\u001b[0m\u001b[0;34m,\u001b[0m \u001b[0mself\u001b[0m\u001b[0;34m.\u001b[0m\u001b[0m_gateway_client\u001b[0m\u001b[0;34m,\u001b[0m \u001b[0mself\u001b[0m\u001b[0;34m.\u001b[0m\u001b[0m_jvm_id\u001b[0m\u001b[0;34m)\u001b[0m\u001b[0;34m\u001b[0m\u001b[0;34m\u001b[0m\u001b[0m\n",
      "\u001b[0;32m~/Downloads/miniconda3/envs/hail/lib/python3.7/site-packages/py4j/java_gateway.py\u001b[0m in \u001b[0;36msend_command\u001b[0;34m(self, command, retry, binary)\u001b[0m\n\u001b[1;32m    981\u001b[0m          \u001b[0;32mif\u001b[0m\u001b[0;31m \u001b[0m\u001b[0;31m`\u001b[0m\u001b[0mbinary\u001b[0m\u001b[0;31m`\u001b[0m \u001b[0;32mis\u001b[0m\u001b[0;31m \u001b[0m\u001b[0;31m`\u001b[0m\u001b[0;32mTrue\u001b[0m\u001b[0;31m`\u001b[0m\u001b[0;34m.\u001b[0m\u001b[0;34m\u001b[0m\u001b[0;34m\u001b[0m\u001b[0m\n\u001b[1;32m    982\u001b[0m         \"\"\"\n\u001b[0;32m--> 983\u001b[0;31m         \u001b[0mconnection\u001b[0m \u001b[0;34m=\u001b[0m \u001b[0mself\u001b[0m\u001b[0;34m.\u001b[0m\u001b[0m_get_connection\u001b[0m\u001b[0;34m(\u001b[0m\u001b[0;34m)\u001b[0m\u001b[0;34m\u001b[0m\u001b[0;34m\u001b[0m\u001b[0m\n\u001b[0m\u001b[1;32m    984\u001b[0m         \u001b[0;32mtry\u001b[0m\u001b[0;34m:\u001b[0m\u001b[0;34m\u001b[0m\u001b[0;34m\u001b[0m\u001b[0m\n\u001b[1;32m    985\u001b[0m             \u001b[0mresponse\u001b[0m \u001b[0;34m=\u001b[0m \u001b[0mconnection\u001b[0m\u001b[0;34m.\u001b[0m\u001b[0msend_command\u001b[0m\u001b[0;34m(\u001b[0m\u001b[0mcommand\u001b[0m\u001b[0;34m)\u001b[0m\u001b[0;34m\u001b[0m\u001b[0;34m\u001b[0m\u001b[0m\n",
      "\u001b[0;32m~/Downloads/miniconda3/envs/hail/lib/python3.7/site-packages/py4j/java_gateway.py\u001b[0m in \u001b[0;36m_get_connection\u001b[0;34m(self)\u001b[0m\n\u001b[1;32m    929\u001b[0m             \u001b[0mconnection\u001b[0m \u001b[0;34m=\u001b[0m \u001b[0mself\u001b[0m\u001b[0;34m.\u001b[0m\u001b[0mdeque\u001b[0m\u001b[0;34m.\u001b[0m\u001b[0mpop\u001b[0m\u001b[0;34m(\u001b[0m\u001b[0;34m)\u001b[0m\u001b[0;34m\u001b[0m\u001b[0;34m\u001b[0m\u001b[0m\n\u001b[1;32m    930\u001b[0m         \u001b[0;32mexcept\u001b[0m \u001b[0mIndexError\u001b[0m\u001b[0;34m:\u001b[0m\u001b[0;34m\u001b[0m\u001b[0;34m\u001b[0m\u001b[0m\n\u001b[0;32m--> 931\u001b[0;31m             \u001b[0mconnection\u001b[0m \u001b[0;34m=\u001b[0m \u001b[0mself\u001b[0m\u001b[0;34m.\u001b[0m\u001b[0m_create_connection\u001b[0m\u001b[0;34m(\u001b[0m\u001b[0;34m)\u001b[0m\u001b[0;34m\u001b[0m\u001b[0;34m\u001b[0m\u001b[0m\n\u001b[0m\u001b[1;32m    932\u001b[0m         \u001b[0;32mreturn\u001b[0m \u001b[0mconnection\u001b[0m\u001b[0;34m\u001b[0m\u001b[0;34m\u001b[0m\u001b[0m\n\u001b[1;32m    933\u001b[0m \u001b[0;34m\u001b[0m\u001b[0m\n",
      "\u001b[0;32m~/Downloads/miniconda3/envs/hail/lib/python3.7/site-packages/py4j/java_gateway.py\u001b[0m in \u001b[0;36m_create_connection\u001b[0;34m(self)\u001b[0m\n\u001b[1;32m    935\u001b[0m         connection = GatewayConnection(\n\u001b[1;32m    936\u001b[0m             self.gateway_parameters, self.gateway_property)\n\u001b[0;32m--> 937\u001b[0;31m         \u001b[0mconnection\u001b[0m\u001b[0;34m.\u001b[0m\u001b[0mstart\u001b[0m\u001b[0;34m(\u001b[0m\u001b[0;34m)\u001b[0m\u001b[0;34m\u001b[0m\u001b[0;34m\u001b[0m\u001b[0m\n\u001b[0m\u001b[1;32m    938\u001b[0m         \u001b[0;32mreturn\u001b[0m \u001b[0mconnection\u001b[0m\u001b[0;34m\u001b[0m\u001b[0;34m\u001b[0m\u001b[0m\n\u001b[1;32m    939\u001b[0m \u001b[0;34m\u001b[0m\u001b[0m\n",
      "\u001b[0;32m~/Downloads/miniconda3/envs/hail/lib/python3.7/site-packages/py4j/java_gateway.py\u001b[0m in \u001b[0;36mstart\u001b[0;34m(self)\u001b[0m\n\u001b[1;32m   1077\u001b[0m                 \u001b[0;34m\"server ({0}:{1})\"\u001b[0m\u001b[0;34m.\u001b[0m\u001b[0mformat\u001b[0m\u001b[0;34m(\u001b[0m\u001b[0mself\u001b[0m\u001b[0;34m.\u001b[0m\u001b[0maddress\u001b[0m\u001b[0;34m,\u001b[0m \u001b[0mself\u001b[0m\u001b[0;34m.\u001b[0m\u001b[0mport\u001b[0m\u001b[0;34m)\u001b[0m\u001b[0;34m\u001b[0m\u001b[0;34m\u001b[0m\u001b[0m\n\u001b[1;32m   1078\u001b[0m             \u001b[0mlogger\u001b[0m\u001b[0;34m.\u001b[0m\u001b[0mexception\u001b[0m\u001b[0;34m(\u001b[0m\u001b[0mmsg\u001b[0m\u001b[0;34m)\u001b[0m\u001b[0;34m\u001b[0m\u001b[0;34m\u001b[0m\u001b[0m\n\u001b[0;32m-> 1079\u001b[0;31m             \u001b[0;32mraise\u001b[0m \u001b[0mPy4JNetworkError\u001b[0m\u001b[0;34m(\u001b[0m\u001b[0mmsg\u001b[0m\u001b[0;34m,\u001b[0m \u001b[0me\u001b[0m\u001b[0;34m)\u001b[0m\u001b[0;34m\u001b[0m\u001b[0;34m\u001b[0m\u001b[0m\n\u001b[0m\u001b[1;32m   1080\u001b[0m \u001b[0;34m\u001b[0m\u001b[0m\n\u001b[1;32m   1081\u001b[0m     \u001b[0;32mdef\u001b[0m \u001b[0m_authenticate_connection\u001b[0m\u001b[0;34m(\u001b[0m\u001b[0mself\u001b[0m\u001b[0;34m)\u001b[0m\u001b[0;34m:\u001b[0m\u001b[0;34m\u001b[0m\u001b[0;34m\u001b[0m\u001b[0m\n",
      "\u001b[0;31mPy4JNetworkError\u001b[0m: An error occurred while trying to connect to the Java server (127.0.0.1:41765)"
     ]
    }
   ],
   "source": [
    "Tb_rett_SNP_HQdnv1_adrenal_1.export(\"/home/titan/Hail/rett/tables/df_SNP_1_csq_adrenal_1.tsv\")"
   ]
  },
  {
   "cell_type": "code",
   "execution_count": 53,
   "metadata": {},
   "outputs": [],
   "source": [
    "import os\n",
    "os.chdir('/Users/lizzychoi/rett_syndrome/scripts/')"
   ]
  },
  {
   "cell_type": "code",
   "execution_count": null,
   "metadata": {},
   "outputs": [],
   "source": [
    "!rscript consequences.R"
   ]
  }
 ],
 "metadata": {
  "kernelspec": {
   "display_name": "Python 3",
   "language": "python",
   "name": "python3"
  },
  "language_info": {
   "codemirror_mode": {
    "name": "ipython",
    "version": 3
   },
   "file_extension": ".py",
   "mimetype": "text/x-python",
   "name": "python",
   "nbconvert_exporter": "python",
   "pygments_lexer": "ipython3",
   "version": "3.7.7"
  }
 },
 "nbformat": 4,
 "nbformat_minor": 2
}
